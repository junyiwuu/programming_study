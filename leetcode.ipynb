{
 "cells": [
  {
   "cell_type": "markdown",
   "metadata": {},
   "source": [
    "### Two Sum (1)"
   ]
  },
  {
   "cell_type": "code",
   "execution_count": null,
   "metadata": {},
   "outputs": [],
   "source": [
    "def twoSum(nums, target):\n",
    "    new_list = {}\n",
    "    for index, num in enumerate(nums):\n",
    "        \n",
    "        complement = target - num\n",
    "        \n",
    "        if complement in new_list:\n",
    "            return [new_list[complement], index]\n",
    "        \n",
    "        new_list[num] = index\n",
    "\n",
    "        #then see if the complement is in nums, which doesnt include num \n",
    "        #  \n"
   ]
  },
  {
   "cell_type": "code",
   "execution_count": null,
   "metadata": {},
   "outputs": [],
   "source": [
    "nums = [3,2,4]\n",
    "print(enumerate(nums))\n",
    "for i in enumerate(nums):\n",
    "    print(i)\n",
    "\n",
    "dic = {0:'small', 1:'nig'}\n",
    "print(dic[0])"
   ]
  },
  {
   "cell_type": "code",
   "execution_count": null,
   "metadata": {},
   "outputs": [],
   "source": [
    "def twoSum(nums, target):\n",
    "    num_to_index = {}\n",
    "    for index, num in enumerate(nums):\n",
    "        complement = target - num\n",
    "        if complement in num_to_index:\n",
    "            return [num_to_index[complement], index]\n",
    "        num_to_index[num] = index"
   ]
  },
  {
   "cell_type": "code",
   "execution_count": null,
   "metadata": {},
   "outputs": [],
   "source": [
    "nums = [3,3]\n",
    "target = 6\n",
    "\n",
    "print(twoSum(nums, target))"
   ]
  },
  {
   "cell_type": "code",
   "execution_count": null,
   "metadata": {},
   "outputs": [],
   "source": [
    "nums = [3,2,4]\n",
    "target = 6\n",
    "\n",
    "print(twoSum1(nums, target))"
   ]
  },
  {
   "cell_type": "markdown",
   "metadata": {},
   "source": [
    "## Plus One (66)"
   ]
  },
  {
   "cell_type": "code",
   "execution_count": null,
   "metadata": {},
   "outputs": [],
   "source": [
    "digits = [1,2,3]\n",
    "\n",
    "def plusOne(digits):\n",
    "    integerNum = \"\"\n",
    "    for i in digits:\n",
    "        integerNum  = integerNum + str(i)\n",
    "    integerNum = int(integerNum) + 1 # get the wanted number\n",
    "    string_list = list(str(integerNum))\n",
    "    new_list = []\n",
    "    for i in string_list:\n",
    "        i = int(i)\n",
    "        new_list.append(i)\n",
    "    return new_list"
   ]
  },
  {
   "cell_type": "code",
   "execution_count": null,
   "metadata": {},
   "outputs": [],
   "source": [
    "digits = [9]\n",
    "plusOne(digits)"
   ]
  },
  {
   "cell_type": "markdown",
   "metadata": {},
   "source": [
    "## Rotate Image (48)"
   ]
  },
  {
   "cell_type": "code",
   "execution_count": null,
   "metadata": {},
   "outputs": [
    {
     "name": "stdout",
     "output_type": "stream",
     "text": [
      "{1: [0, 2], 2: [1, 2], 3: [2, 2], 4: [0, 1], 5: [1, 1], 6: [2, 1], 7: [0, 0], 8: [1, 0], 9: [2, 0]}\n",
      "[[7, 4, 1], [8, 5, 2], [9, 6, 3]]\n"
     ]
    }
   ],
   "source": [
    "\n",
    "m = [[1,2,3],[4,5,6],[7,8,9]]\n",
    "\n",
    "n = len(m)\n",
    "dic = {}\n",
    "\n",
    "# each number with corresponding coordinate\n",
    "for rowNum in range(n):\n",
    "    row = m[rowNum]\n",
    "    for num in row:\n",
    "        dic[num] = [rowNum, row.index(num)]\n",
    "\n",
    "import copy\n",
    "rep_dic = copy.deepcopy(dic)\n",
    "\n",
    "for a in dic:\n",
    "    \n",
    "    newcol = 3 - rep_dic[a][0] -1\n",
    "    dic[a][1] = newcol\n",
    "    newrow = rep_dic[a][1]\n",
    "    dic[a][0]= newrow\n",
    "\n",
    "new_m = [[0 for _ in range(len(m[0]))] for _ in range(len(m)) ]\n",
    "for keys, (row, col) in dic.items():\n",
    "    new_m[row][col] = keys\n",
    "\n",
    "\n",
    "print(new_m)\n"
   ]
  },
  {
   "cell_type": "code",
   "execution_count": null,
   "metadata": {},
   "outputs": [
    {
     "name": "stdout",
     "output_type": "stream",
     "text": [
      "[[4, 33, 13, 26, 12, 28], [24, 27, 14, 25, 13, 29], [1, 20, 32, 2, 9, 14], [6, 7, 27, 2, 25, 26], [32, 21, 22, 28, 21, 16], [34, 24, 26, 6, 32, 34]]\n"
     ]
    }
   ],
   "source": [
    "import copy\n",
    "from typing import List\n",
    "\n",
    "m = [[2,29,20,26,16,28],[12,27,9,25,13,21],[32,33,32,2,28,14],[13,14,32,27,22,26],[33,1,20,7,21,7],[4,24,1,6,32,34]]\n",
    "\n",
    "def rotate( matrix: List[List[int]]):\n",
    "    n= len(matrix)\n",
    " \n",
    "\n",
    "    dic = {}\n",
    "\n",
    "    # each number with corresponding coordinate\n",
    "    for rowNum in range(n):\n",
    "        row = matrix[rowNum]\n",
    "        for num in row:\n",
    "            dic[num] = [rowNum, row.index(num)]\n",
    "\n",
    "\n",
    "    rep_dic = copy.deepcopy(dic)\n",
    "\n",
    "    for a in dic:\n",
    "        \n",
    "        newcol = n - rep_dic[a][0] -1\n",
    "        dic[a][1] = newcol\n",
    "        newrow = rep_dic[a][1]\n",
    "        dic[a][0]= newrow\n",
    "\n",
    "    new_m = [[0 for _ in range(len(matrix[0]))] for _ in range(len(matrix)) ]\n",
    "    for keys, (row, col) in dic.items():\n",
    "        matrix[row][col] = keys\n",
    "\n",
    "    return matrix\n",
    "    \n",
    "\n",
    "print(rotate(m))\n",
    "\n",
    "\n",
    "# [[4,33,13,32,12,2],[24,1,14,33,27,29],[1,20,32,32,9,20],[6,7,27,2,25,26],[32,21,22,28,13,16],[34,7,26,14,21,28]]\n",
    "\n"
   ]
  },
  {
   "cell_type": "code",
   "execution_count": null,
   "metadata": {},
   "outputs": [
    {
     "name": "stdout",
     "output_type": "stream",
     "text": [
      "6\n",
      "{2: [2, 3], 29: [0, 1], 20: [4, 2], 26: [3, 5], 16: [0, 4], 28: [2, 4], 12: [1, 0], 27: [3, 3], 9: [1, 2], 25: [1, 3], 13: [3, 0], 21: [4, 4], 32: [5, 4], 33: [4, 0], 14: [3, 1], 22: [3, 4], 1: [5, 2], 7: [4, 3], 4: [5, 0], 24: [5, 1], 6: [5, 3], 34: [5, 5]}\n"
     ]
    }
   ],
   "source": [
    "\n",
    "matrix = [[2,29,20,26,16,28],[12,27,9,25,13,21],[32,33,32,2,28,14],[13,14,32,27,22,26],[33,1,20,7,21,7],[4,24,1,6,32,34]]\n",
    "\n",
    "n= len(matrix)\n",
    "\n",
    "print(n)\n",
    "dic = {}\n",
    "\n",
    "# each number with corresponding coordinate\n",
    "for rowNum in range(n):\n",
    "    row = matrix[rowNum]\n",
    "    \n",
    "    for num in row:\n",
    "        dic[num] = [rowNum, row.index(num)]\n",
    "\n",
    "print(dic)\n"
   ]
  },
  {
   "cell_type": "code",
   "execution_count": null,
   "metadata": {},
   "outputs": [],
   "source": []
  }
 ],
 "metadata": {
  "kernelspec": {
   "display_name": "Python 3",
   "language": "python",
   "name": "python3"
  },
  "language_info": {
   "codemirror_mode": {
    "name": "ipython",
    "version": 3
   },
   "file_extension": ".py",
   "mimetype": "text/x-python",
   "name": "python",
   "nbconvert_exporter": "python",
   "pygments_lexer": "ipython3",
   "version": "3.12.1"
  }
 },
 "nbformat": 4,
 "nbformat_minor": 2
}

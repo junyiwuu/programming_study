{
 "cells": [
  {
   "cell_type": "markdown",
   "metadata": {},
   "source": [
    "### You can handle that"
   ]
  },
  {
   "cell_type": "markdown",
   "metadata": {},
   "source": [
    "...even if you don't quite know precisely what that function does. Call function ```havoc()``` a few times and see what happens. Then try to handle the resulting exception in the calling code (not inside the function) by printing it. Your can even write code that keeps calling ```havoc()``` until it runs without errors (I wouldn't recommend that as a general debugging strategy, though!)"
   ]
  },
  {
   "cell_type": "code",
   "execution_count": 2,
   "metadata": {},
   "outputs": [],
   "source": [
    "import random\n",
    "\n",
    "def havoc(a):\n",
    "    # agreed, this code is a bit pointless - just imagine this function does something really\n",
    "    # complicated and raises an error when it fails. You want to handle the error without \n",
    "    # touching the function\n",
    "    outcome=random.choice(('success', 'fail'))\n",
    "    if outcome==a:\n",
    "        print (\"All good\")\n",
    "    else:\n",
    "        raise Exception(\"Aaaaargh!\")"
   ]
  },
  {
   "cell_type": "code",
   "execution_count": null,
   "metadata": {},
   "outputs": [
    {
     "name": "stdout",
     "output_type": "stream",
     "text": [
      "error message :  Aaaaargh!\n",
      "error message :  Aaaaargh!\n",
      "error message :  Aaaaargh!\n",
      "All good\n"
     ]
    }
   ],
   "source": [
    "while True:\n",
    "    a = input()\n",
    "    try:\n",
    "        havoc(a)\n",
    "        break\n",
    "    except Exception as e:\n",
    "        print(\"error message : \", e)         \n",
    "        pass\n"
   ]
  },
  {
   "cell_type": "code",
   "execution_count": 6,
   "metadata": {},
   "outputs": [
    {
     "data": {
      "text/plain": [
       "True"
      ]
     },
     "execution_count": 6,
     "metadata": {},
     "output_type": "execute_result"
    }
   ],
   "source": [
    "callable(list)"
   ]
  },
  {
   "cell_type": "markdown",
   "metadata": {},
   "source": [
    "### Quadratic equation"
   ]
  },
  {
   "cell_type": "markdown",
   "metadata": {},
   "source": [
    "Consider the function ```quad()``` below that computes the roots of a quadratic equation. Write a program that asks the user for the parameters, calls the function, prints the results and handles all exceptions. In case of error, your program can extract the offending parameters from the ```.params``` attribute of the exception and, for instance, print them (note that since ```a```, ```b```, and ```c``` are not passed to the constructor of ```QuadError``` but stored in an attribute, they do not get printed automatically when the exception object is printed)."
   ]
  },
  {
   "cell_type": "code",
   "execution_count": 8,
   "metadata": {},
   "outputs": [],
   "source": [
    "import math\n",
    "\n",
    "class QuadError( Exception ): \n",
    "    pass # do nothing special\n",
    "\n",
    "def quad(a,b,c):\n",
    "    \"\"\" Solve the quadratic equation ax^2 + bx + c=0 \"\"\"\n",
    "    if a == 0:\n",
    "        ex= QuadError( \"Not Quadratic\" )\n",
    "        ex.params= ( a, b, c ) # may help with debugging\n",
    "        raise ex\n",
    "    if b*b-4*a*c < 0:\n",
    "        ex= QuadError( \"No Real Roots\" )\n",
    "        ex.params= ( a, b, c )\n",
    "        raise ex\n",
    "    x1= (-b+math.sqrt(b*b-4*a*c))/(2*a)\n",
    "    x2= (-b-math.sqrt(b*b-4*a*c))/(2*a)\n",
    "    return (x1,x2)\n"
   ]
  },
  {
   "cell_type": "code",
   "execution_count": 9,
   "metadata": {},
   "outputs": [
    {
     "ename": "QuadError",
     "evalue": "Not Quadratic",
     "output_type": "error",
     "traceback": [
      "\u001b[0;31m---------------------------------------------------------------------------\u001b[0m",
      "\u001b[0;31mQuadError\u001b[0m                                 Traceback (most recent call last)",
      "Cell \u001b[0;32mIn[9], line 1\u001b[0m\n\u001b[0;32m----> 1\u001b[0m \u001b[43mquad\u001b[49m\u001b[43m(\u001b[49m\u001b[38;5;241;43m0\u001b[39;49m\u001b[43m,\u001b[49m\u001b[38;5;241;43m1\u001b[39;49m\u001b[43m,\u001b[49m\u001b[38;5;241;43m2\u001b[39;49m\u001b[43m)\u001b[49m\n",
      "Cell \u001b[0;32mIn[8], line 11\u001b[0m, in \u001b[0;36mquad\u001b[0;34m(a, b, c)\u001b[0m\n\u001b[1;32m      9\u001b[0m     ex\u001b[38;5;241m=\u001b[39m QuadError( \u001b[38;5;124m\"\u001b[39m\u001b[38;5;124mNot Quadratic\u001b[39m\u001b[38;5;124m\"\u001b[39m )\n\u001b[1;32m     10\u001b[0m     ex\u001b[38;5;241m.\u001b[39mparams\u001b[38;5;241m=\u001b[39m ( a, b, c ) \u001b[38;5;66;03m# may help with debugging\u001b[39;00m\n\u001b[0;32m---> 11\u001b[0m     \u001b[38;5;28;01mraise\u001b[39;00m ex\n\u001b[1;32m     12\u001b[0m \u001b[38;5;28;01mif\u001b[39;00m b\u001b[38;5;241m*\u001b[39mb\u001b[38;5;241m-\u001b[39m\u001b[38;5;241m4\u001b[39m\u001b[38;5;241m*\u001b[39ma\u001b[38;5;241m*\u001b[39mc \u001b[38;5;241m<\u001b[39m \u001b[38;5;241m0\u001b[39m:\n\u001b[1;32m     13\u001b[0m     ex\u001b[38;5;241m=\u001b[39m QuadError( \u001b[38;5;124m\"\u001b[39m\u001b[38;5;124mNo Real Roots\u001b[39m\u001b[38;5;124m\"\u001b[39m )\n",
      "\u001b[0;31mQuadError\u001b[0m: Not Quadratic"
     ]
    }
   ],
   "source": [
    "quad(0,1,2)"
   ]
  },
  {
   "cell_type": "code",
   "execution_count": 10,
   "metadata": {},
   "outputs": [
    {
     "data": {
      "text/plain": [
       "True"
      ]
     },
     "execution_count": 10,
     "metadata": {},
     "output_type": "execute_result"
    }
   ],
   "source": [
    "isinstance(ZeroDivisionError(), Exception)"
   ]
  },
  {
   "cell_type": "code",
   "execution_count": 12,
   "metadata": {},
   "outputs": [
    {
     "name": "stdout",
     "output_type": "stream",
     "text": [
      "Not Quadratic\n",
      "(0, 1, 3)\n",
      "<class '__main__.QuadError'>\n"
     ]
    }
   ],
   "source": [
    "# use ex.parms to debbug \n",
    "try :\n",
    "    result = quad(0,1,3)\n",
    "except QuadError as a : # 为quaderror创建了一个变量\n",
    "    print(a)\n",
    "    print(a.params)\n",
    "\n",
    "print(QuadError)\n",
    "# class本身没有params属性，只有具体的实例，例如ex=QuadError才是实例，才有params\n"
   ]
  },
  {
   "cell_type": "markdown",
   "metadata": {},
   "source": [
    "### File input/output"
   ]
  },
  {
   "cell_type": "markdown",
   "metadata": {},
   "source": [
    "A typical situation in which exceptions can occur is when handling files. For instance, the file you want to read may not exist, or you may not have write permissions for the directory to which you are trying to write.\n",
    "\n",
    "Take some code you have written to read a text file and change the name of the file to something non-existing. See what happens. Modify the code so that the exception is handled correctly (for instance, by asking the user for a new filename or printing a message and quitting cleanly)."
   ]
  },
  {
   "cell_type": "code",
   "execution_count": 13,
   "metadata": {},
   "outputs": [],
   "source": [
    "class openerror(Exception):\n",
    "    pass"
   ]
  },
  {
   "cell_type": "code",
   "execution_count": 22,
   "metadata": {},
   "outputs": [
    {
     "name": "stdout",
     "output_type": "stream",
     "text": [
      "need input\n"
     ]
    }
   ],
   "source": [
    "filename = input()\n",
    "\n",
    "# try open a file, if the nothing input, tell nothing input. if input cannot found, raise error cannot found\n",
    "# if found, print the content \n",
    "\n",
    "def openfile(a):\n",
    "    if a == \"\":\n",
    "        raise openerror(\"need input\")\n",
    "    try:\n",
    "        fh = open(filename)\n",
    "        for line in fh:\n",
    "            print(line.strip())\n",
    "        fh.close()\n",
    "    except Exception as e:\n",
    "        raise openerror(f\"bad input:{e}\")\n",
    "        \n",
    "try:\n",
    "    openfile(filename)\n",
    "except openerror as e:\n",
    "    print(e)        "
   ]
  },
  {
   "cell_type": "markdown",
   "metadata": {},
   "source": [
    "### Dictionary lookup"
   ]
  },
  {
   "cell_type": "markdown",
   "metadata": {},
   "source": [
    "Try the following code as is, then try it removing the ```if``` statement. Looking up a key that does not exist will cause an exception. In place of the ```if```, use exception handling to print the goodbye message and quit."
   ]
  },
  {
   "cell_type": "code",
   "execution_count": null,
   "metadata": {},
   "outputs": [],
   "source": [
    "ans={\"foo\": \"bar\", \"humpty\": \"dumpty\", \"ping\": \"pong\", \"spam\": \"ham\"}\n",
    "\n",
    "print (\"Turing test - keep talking. I'll quit when I no longer understand you\")\n",
    "\n",
    "while(True):\n",
    "    user=input(\"you > \")\n",
    "    if user not in ans.keys(): break # exit the loop\n",
    "    print (\"me  > \" + ans[user])\n",
    "\n",
    "print(\"Bye\")"
   ]
  },
  {
   "cell_type": "markdown",
   "metadata": {},
   "source": [
    "### More information"
   ]
  },
  {
   "cell_type": "markdown",
   "metadata": {},
   "source": [
    "Look up the detailed explanations and examples on the [RealPython](https://realpython.com/python-exceptions/#exceptions-versus-syntax-errors) website. Feel free to copy some of their examples and try them here below.\n"
   ]
  },
  {
   "cell_type": "code",
   "execution_count": null,
   "metadata": {},
   "outputs": [],
   "source": []
  }
 ],
 "metadata": {
  "kernelspec": {
   "display_name": "Python 3",
   "language": "python",
   "name": "python3"
  },
  "language_info": {
   "codemirror_mode": {
    "name": "ipython",
    "version": 3
   },
   "file_extension": ".py",
   "mimetype": "text/x-python",
   "name": "python",
   "nbconvert_exporter": "python",
   "pygments_lexer": "ipython3",
   "version": "3.12.1"
  }
 },
 "nbformat": 4,
 "nbformat_minor": 1
}

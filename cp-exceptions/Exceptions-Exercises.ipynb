{
 "cells": [
  {
   "cell_type": "markdown",
   "metadata": {},
   "source": [
    "### You can handle that"
   ]
  },
  {
   "cell_type": "markdown",
   "metadata": {},
   "source": [
    "...even if you don't quite know precisely what that function does. Call function ```havoc()``` a few times and see what happens. Then try to handle the resulting exception in the calling code (not inside the function) by printing it. Your can even write code that keeps calling ```havoc()``` until it runs without errors (I wouldn't recommend that as a general debugging strategy, though!)"
   ]
  },
  {
   "cell_type": "code",
   "execution_count": 1,
   "metadata": {},
   "outputs": [],
   "source": [
    "import random\n",
    "\n",
    "def havoc():\n",
    "    # agreed, this code is a bit pointless - just imagine this function does something really\n",
    "    # complicated and raises an error when it fails. You want to handle the error without \n",
    "    # touching the function\n",
    "    outcome=random.choice(('success', 'fail'))\n",
    "    if outcome=='success':\n",
    "        print (\"All good\")\n",
    "    else:\n",
    "        raise Exception(\"Aaaaargh!\")"
   ]
  },
  {
   "cell_type": "code",
   "execution_count": 5,
   "metadata": {},
   "outputs": [
    {
     "name": "stdout",
     "output_type": "stream",
     "text": [
      "All good\n"
     ]
    }
   ],
   "source": [
    "havoc()"
   ]
  },
  {
   "cell_type": "markdown",
   "metadata": {},
   "source": [
    "### Quadratic equation"
   ]
  },
  {
   "cell_type": "markdown",
   "metadata": {},
   "source": [
    "Consider the function ```quad()``` below that computes the roots of a quadratic equation. Write a program that asks the user for the parameters, calls the function, prints the results and handles all exceptions. In case of error, your program can extract the offending parameters from the ```.params``` attribute of the exception and, for instance, print them (note that since ```a```, ```b```, and ```c``` are not passed to the constructor of ```QuadError``` but stored in an attribute, they do not get printed automatically when the exception object is printed)."
   ]
  },
  {
   "cell_type": "code",
   "execution_count": null,
   "metadata": {},
   "outputs": [],
   "source": [
    "import math\n",
    "\n",
    "class QuadError( Exception ): \n",
    "    pass # do nothing special\n",
    "\n",
    "def quad(a,b,c):\n",
    "    \"\"\" Solve the quadratic equation ax^2 + bx + c=0 \"\"\"\n",
    "    if a == 0:\n",
    "        ex= QuadError( \"Not Quadratic\" )\n",
    "        ex.params= ( a, b, c ) # may help with debugging\n",
    "        raise ex\n",
    "    if b*b-4*a*c < 0:\n",
    "        ex= QuadError( \"No Real Roots\" )\n",
    "        ex.params= ( a, b, c )\n",
    "        raise ex\n",
    "    x1= (-b+math.sqrt(b*b-4*a*c))/(2*a)\n",
    "    x2= (-b-math.sqrt(b*b-4*a*c))/(2*a)\n",
    "    return (x1,x2)\n"
   ]
  },
  {
   "cell_type": "markdown",
   "metadata": {},
   "source": [
    "### File input/output"
   ]
  },
  {
   "cell_type": "markdown",
   "metadata": {},
   "source": [
    "A typical situation in which exceptions can occur is when handling files. For instance, the file you want to read may not exist, or you may not have write permissions for the directory to which you are trying to write.\n",
    "\n",
    "Take some code you have written to read a text file and change the name of the file to something non-existing. See what happens. Modify the code so that the exception is handled correctly (for instance, by asking the user for a new filename or printing a message and quitting cleanly)."
   ]
  },
  {
   "cell_type": "code",
   "execution_count": null,
   "metadata": {},
   "outputs": [],
   "source": []
  },
  {
   "cell_type": "markdown",
   "metadata": {},
   "source": [
    "### Dictionary lookup"
   ]
  },
  {
   "cell_type": "markdown",
   "metadata": {},
   "source": [
    "Try the following code as is, then try it removing the ```if``` statement. Looking up a key that does not exist will cause an exception. In place of the ```if```, use exception handling to print the goodbye message and quit."
   ]
  },
  {
   "cell_type": "code",
   "execution_count": null,
   "metadata": {},
   "outputs": [],
   "source": [
    "ans={\"foo\": \"bar\", \"humpty\": \"dumpty\", \"ping\": \"pong\", \"spam\": \"ham\"}\n",
    "\n",
    "print (\"Turing test - keep talking. I'll quit when I no longer understand you\")\n",
    "\n",
    "while(True):\n",
    "    user=input(\"you > \")\n",
    "    if user not in ans.keys(): break # exit the loop\n",
    "    print (\"me  > \" + ans[user])\n",
    "\n",
    "print(\"Bye\")"
   ]
  },
  {
   "cell_type": "markdown",
   "metadata": {},
   "source": [
    "### More information"
   ]
  },
  {
   "cell_type": "markdown",
   "metadata": {},
   "source": [
    "Look up the detailed explanations and examples on the [RealPython](https://realpython.com/python-exceptions/#exceptions-versus-syntax-errors) website. Feel free to copy some of their examples and try them here below.\n"
   ]
  },
  {
   "cell_type": "code",
   "execution_count": null,
   "metadata": {},
   "outputs": [],
   "source": []
  }
 ],
 "metadata": {
  "kernelspec": {
   "display_name": "Python 3",
   "language": "python",
   "name": "python3"
  },
  "language_info": {
   "codemirror_mode": {
    "name": "ipython",
    "version": 3
   },
   "file_extension": ".py",
   "mimetype": "text/x-python",
   "name": "python",
   "nbconvert_exporter": "python",
   "pygments_lexer": "ipython3",
   "version": "3.8.10"
  }
 },
 "nbformat": 4,
 "nbformat_minor": 1
}

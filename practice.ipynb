{
 "cells": [
  {
   "cell_type": "code",
   "execution_count": 3,
   "id": "fad270e1-e4d9-4b59-bc96-3501f4301598",
   "metadata": {},
   "outputs": [
    {
     "name": "stdout",
     "output_type": "stream",
     "text": [
      "we can afford 13\n"
     ]
    }
   ],
   "source": [
    "budget = 50\n",
    "cprice = 3.75\n",
    "coffee_bought=0\n",
    "while budget>=3.75:\n",
    "    budget -= 3.75\n",
    "    coffee_bought+=1\n",
    "\n",
    "print('we can afford', coffee_bought)"
   ]
  },
  {
   "cell_type": "code",
   "execution_count": 1,
   "id": "614d8c3d-dd86-4691-b805-bc54834b08a5",
   "metadata": {},
   "outputs": [
    {
     "name": "stdin",
     "output_type": "stream",
     "text": [
      "Enter a number (or type 'quit' :) 465\n"
     ]
    },
    {
     "name": "stdout",
     "output_type": "stream",
     "text": [
      "216225\n"
     ]
    },
    {
     "name": "stdin",
     "output_type": "stream",
     "text": [
      "Enter a number (or type 'quit' :) 7\n"
     ]
    },
    {
     "name": "stdout",
     "output_type": "stream",
     "text": [
      "49\n"
     ]
    },
    {
     "name": "stdin",
     "output_type": "stream",
     "text": [
      "Enter a number (or type 'quit' :) quit\n"
     ]
    }
   ],
   "source": [
    "while True:\n",
    "    number = input('Enter a number (or type \\'quit\\' :)')\n",
    "    if number =='quit':\n",
    "        break\n",
    "    print(int(number)**2)"
   ]
  },
  {
   "cell_type": "code",
   "execution_count": 3,
   "id": "ce7689dd-9777-41f8-b119-45b64b3e1805",
   "metadata": {},
   "outputs": [
    {
     "name": "stdout",
     "output_type": "stream",
     "text": [
      "4\n",
      "15\n"
     ]
    }
   ],
   "source": [
    "text = 'how are you today'\n",
    "\n",
    "#use print can only search once, use yield can find all indexes\n",
    "def search(text, char):\n",
    "    for index in range(0, len(text)):\n",
    "        if text[index]==char:\n",
    "            yield index\n",
    "\n",
    "for index in search(text, 'a'):\n",
    "    print(index)"
   ]
  },
  {
   "cell_type": "code",
   "execution_count": 7,
   "id": "32597d5e-61d1-4361-b47e-d6c95a1fc4bf",
   "metadata": {},
   "outputs": [
    {
     "data": {
      "text/plain": [
       "'how re you tody'"
      ]
     },
     "execution_count": 7,
     "metadata": {},
     "output_type": "execute_result"
    }
   ],
   "source": [
    "#remove the word\n",
    "text.replace('a', '')"
   ]
  },
  {
   "cell_type": "code",
   "execution_count": 11,
   "id": "a5a8ec33-0eed-4635-9e50-29e4b5341384",
   "metadata": {},
   "outputs": [],
   "source": [
    "city = [['sml','bg'],['crazy','happy'],['lazy','fast']]"
   ]
  },
  {
   "cell_type": "code",
   "execution_count": 15,
   "id": "ced9dab1-45d2-422e-aa64-42a6bca9f8c3",
   "metadata": {},
   "outputs": [
    {
     "name": "stdout",
     "output_type": "stream",
     "text": [
      "['sml', 'bg', 'sml', 'bg']\n",
      "['crazy', 'happy', 'crazy', 'happy']\n",
      "['lazy', 'fast', 'lazy', 'fast']\n"
     ]
    }
   ],
   "source": [
    "#string multiply is just duplicate\n",
    "for a in city:\n",
    "    print(a*2)"
   ]
  },
  {
   "cell_type": "code",
   "execution_count": 16,
   "id": "6be3775e-9d5f-48a7-8e4a-bdb39353caa3",
   "metadata": {},
   "outputs": [],
   "source": [
    "orders = [2,8,3,6]"
   ]
  },
  {
   "cell_type": "code",
   "execution_count": 21,
   "id": "c357bea5-5095-444b-aaff-e6edb42947b6",
   "metadata": {},
   "outputs": [
    {
     "data": {
      "text/plain": [
       "[3.75, 7.5, 11.25, 15.0]"
      ]
     },
     "execution_count": 21,
     "metadata": {},
     "output_type": "execute_result"
    }
   ],
   "source": [
    "l = [1,2,3,4]\n",
    "prices=[]\n",
    "price=3.75\n",
    "for index in range(0, len(l)):\n",
    "    v = l[index]\n",
    "    cost = v*price\n",
    "    l[index]=cost\n",
    "\n",
    "l"
   ]
  },
  {
   "cell_type": "code",
   "execution_count": 41,
   "id": "111c1765-b347-475b-95d6-9b3fd031c6d5",
   "metadata": {},
   "outputs": [
    {
     "data": {
      "text/plain": [
       "[8, 2, 3, 3, 4, 5]"
      ]
     },
     "execution_count": 41,
     "metadata": {},
     "output_type": "execute_result"
    }
   ],
   "source": [
    "#put two list together\n",
    "\n",
    "a = [8,2,3]\n",
    "b = [3,4,5]\n",
    "c=a+b \n",
    "c"
   ]
  },
  {
   "cell_type": "code",
   "execution_count": 25,
   "id": "0cb6a38e-d9c8-4c03-9fc6-02669bf1ab33",
   "metadata": {},
   "outputs": [
    {
     "data": {
      "text/plain": [
       "[3, 4, 5, 3, 4, 5, 3, 4, 5]"
      ]
     },
     "execution_count": 25,
     "metadata": {},
     "output_type": "execute_result"
    }
   ],
   "source": [
    "#multiply b is just duplicate list\n",
    "b*3"
   ]
  },
  {
   "cell_type": "code",
   "execution_count": 29,
   "id": "0eff99e7-42eb-484f-bc49-7660ef078f11",
   "metadata": {},
   "outputs": [
    {
     "data": {
      "text/plain": [
       "25"
      ]
     },
     "execution_count": 29,
     "metadata": {},
     "output_type": "execute_result"
    }
   ],
   "source": [
    "#pay attention taht a+b is concate two list\n",
    "sum(a)+sum(b)\n",
    "sum(a+b) #a+b is a list now"
   ]
  },
  {
   "cell_type": "code",
   "execution_count": 42,
   "id": "e5c85192-ed98-4be6-9f58-e262b8c54054",
   "metadata": {},
   "outputs": [
    {
     "data": {
      "text/plain": [
       "[5, 4, 3, 3, 2, 8]"
      ]
     },
     "execution_count": 42,
     "metadata": {},
     "output_type": "execute_result"
    }
   ],
   "source": [
    "#reverse the list\n",
    "c[::-1]"
   ]
  },
  {
   "cell_type": "code",
   "execution_count": 43,
   "id": "011ff015-041f-4742-9327-eaba8146cfb0",
   "metadata": {},
   "outputs": [
    {
     "data": {
      "text/plain": [
       "[2, 3, 3, 4, 5, 8]"
      ]
     },
     "execution_count": 43,
     "metadata": {},
     "output_type": "execute_result"
    }
   ],
   "source": [
    "#sort the list \n",
    "c.sort()\n",
    "c"
   ]
  },
  {
   "cell_type": "code",
   "execution_count": 44,
   "id": "6437b993-1903-4548-8eca-2a6b2ef6a235",
   "metadata": {},
   "outputs": [
    {
     "data": {
      "text/plain": [
       "[3, 3, 4, 5, 8]"
      ]
     },
     "execution_count": 44,
     "metadata": {},
     "output_type": "execute_result"
    }
   ],
   "source": [
    "#remove the certain index in the list\n",
    "c.pop(0)\n",
    "c"
   ]
  },
  {
   "cell_type": "code",
   "execution_count": 45,
   "id": "17269e96-79a6-402a-a8fa-6363ba9e4bfb",
   "metadata": {},
   "outputs": [],
   "source": [
    "#remove using the elements from the list, not index anymore\n",
    "c.remove(3)"
   ]
  },
  {
   "cell_type": "code",
   "execution_count": 46,
   "id": "767551b3-3759-4ea4-9f08-fb423456f598",
   "metadata": {},
   "outputs": [
    {
     "data": {
      "text/plain": [
       "[3, 4, 5, 8]"
      ]
     },
     "execution_count": 46,
     "metadata": {},
     "output_type": "execute_result"
    }
   ],
   "source": [
    "c"
   ]
  },
  {
   "cell_type": "code",
   "execution_count": 49,
   "id": "61d627f2-4f66-4785-90e2-71c20c9c3f50",
   "metadata": {},
   "outputs": [
    {
     "name": "stdout",
     "output_type": "stream",
     "text": [
      "it's not there\n"
     ]
    }
   ],
   "source": [
    "val = 7\n",
    "if val in c:\n",
    "    c.remove(val)\n",
    "    print('removed!')\n",
    "else:\n",
    "    print('it\\'s not there')"
   ]
  },
  {
   "cell_type": "code",
   "execution_count": 50,
   "id": "b3306003-d43a-4fbd-9b9b-e9289b0172eb",
   "metadata": {},
   "outputs": [
    {
     "data": {
      "text/plain": [
       "['p', 'y', 't', 'h', 'o', 'n', ' ', '3', ' ']"
      ]
     },
     "execution_count": 50,
     "metadata": {},
     "output_type": "execute_result"
    }
   ],
   "source": [
    "#create list from the text. pay attention that space will be also included\n",
    "text = 'python 3 '\n",
    "l = list(text)\n",
    "l"
   ]
  },
  {
   "cell_type": "code",
   "execution_count": 51,
   "id": "9882ea4f-1f5f-432a-80d3-a08ee7dfae2a",
   "metadata": {},
   "outputs": [
    {
     "data": {
      "text/plain": [
       "['p', 'y', 't', '--', 'o', 'n', ' ', '3', ' ']"
      ]
     },
     "execution_count": 51,
     "metadata": {},
     "output_type": "execute_result"
    }
   ],
   "source": [
    "#replace a value into list with certain position\n",
    "l[3]='--'\n",
    "l"
   ]
  },
  {
   "cell_type": "code",
   "execution_count": 53,
   "id": "0584631e-21e9-4dc2-a2a9-c57138f3e5d8",
   "metadata": {},
   "outputs": [
    {
     "data": {
      "text/plain": [
       "'pyt--on 3 '"
      ]
     },
     "execution_count": 53,
     "metadata": {},
     "output_type": "execute_result"
    }
   ],
   "source": [
    "newtext = ''.join(l)\n",
    "newtext"
   ]
  },
  {
   "cell_type": "code",
   "execution_count": 54,
   "id": "8ea059ce-5463-4d40-b8bc-7b81455493a1",
   "metadata": {},
   "outputs": [
    {
     "data": {
      "text/plain": [
       "['new', 'p', 'y', 't', '--', 'o', 'n', ' ', '3', ' ']"
      ]
     },
     "execution_count": 54,
     "metadata": {},
     "output_type": "execute_result"
    }
   ],
   "source": [
    "#insert a new value into certain position\n",
    "l.insert(0, 'new')\n",
    "l"
   ]
  },
  {
   "cell_type": "code",
   "execution_count": 56,
   "id": "3bc830f8-e453-4d61-a526-c89796042bef",
   "metadata": {},
   "outputs": [
    {
     "data": {
      "text/plain": [
       "{1, 2, 3, 4, 5, 6, 23, 423}"
      ]
     },
     "execution_count": 56,
     "metadata": {},
     "output_type": "execute_result"
    }
   ],
   "source": [
    "# set is a collection data type, unordered, no duplicated, mutable\n",
    "l = [1,2,3,4,3,2,3,4,5,6,3,423,4,23,2,3,4,5]\n",
    "set(l)\n"
   ]
  },
  {
   "cell_type": "code",
   "execution_count": 57,
   "id": "34741af6-c7ae-40e5-b40a-3cba4fa19dd4",
   "metadata": {},
   "outputs": [
    {
     "data": {
      "text/plain": [
       "[1, 2, 3, 4, 5, 6, 423, 23]"
      ]
     },
     "execution_count": 57,
     "metadata": {},
     "output_type": "execute_result"
    }
   ],
   "source": [
    "list(set(l))"
   ]
  },
  {
   "cell_type": "code",
   "execution_count": 60,
   "id": "d3b2e8d0-7b1d-4659-8ce8-935861d79a2e",
   "metadata": {},
   "outputs": [
    {
     "data": {
      "text/plain": [
       "{1, 2, 23, 3, 4, 423, 5, 6, 'more'}"
      ]
     },
     "execution_count": 60,
     "metadata": {},
     "output_type": "execute_result"
    }
   ],
   "source": [
    "s = set(l)\n",
    "s.add('more')\n",
    "s\n",
    "#if you want to add duplicated thing, it wouldnt be added in the end"
   ]
  },
  {
   "cell_type": "code",
   "execution_count": 61,
   "id": "a349146d-b6b2-41c6-9dd0-a4da7bc87c8c",
   "metadata": {},
   "outputs": [
    {
     "data": {
      "text/plain": [
       "{2, 23, 3, 4, 423, 5, 6, 'more'}"
      ]
     },
     "execution_count": 61,
     "metadata": {},
     "output_type": "execute_result"
    }
   ],
   "source": [
    "s.remove(1)\n",
    "s"
   ]
  },
  {
   "cell_type": "code",
   "execution_count": 65,
   "id": "e57b9e37-cda0-424f-aa99-5a799954bce6",
   "metadata": {},
   "outputs": [
    {
     "name": "stdout",
     "output_type": "stream",
     "text": [
      "yes\n"
     ]
    }
   ],
   "source": [
    "if 2 in s:\n",
    "    print('yes')"
   ]
  },
  {
   "cell_type": "code",
   "execution_count": 68,
   "id": "bb8ac5fc-7dd5-4310-b6f8-08b074740eff",
   "metadata": {},
   "outputs": [],
   "source": [
    "text1 = 'good morining!'\n",
    "text2 = 'good afternoon'\n",
    "\n",
    "s1 = set(text1)\n",
    "s2 = set(text2)"
   ]
  },
  {
   "cell_type": "code",
   "execution_count": 70,
   "id": "48c8bc0c-8cf0-4eec-b4b0-8a7421c4702e",
   "metadata": {},
   "outputs": [
    {
     "name": "stdout",
     "output_type": "stream",
     "text": [
      "{'r', ' ', 'm', 'n', 'd', '!', 'i', 'g', 'o'}\n",
      "{'r', ' ', 'n', 'd', 'f', 'e', 't', 'g', 'o', 'a'}\n"
     ]
    }
   ],
   "source": [
    "print(s1)\n",
    "print(s2)"
   ]
  },
  {
   "cell_type": "code",
   "execution_count": 72,
   "id": "34c8ab76-ee0e-4725-be30-5f9d05ae65cf",
   "metadata": {},
   "outputs": [
    {
     "data": {
      "text/plain": [
       "{'!', 'i', 'm'}"
      ]
     },
     "execution_count": 72,
     "metadata": {},
     "output_type": "execute_result"
    }
   ],
   "source": [
    "s1-s2    #what in s1 but not in s2"
   ]
  },
  {
   "cell_type": "code",
   "execution_count": 73,
   "id": "13bc30df-ed68-4835-8cd3-a327f6c0ff05",
   "metadata": {},
   "outputs": [
    {
     "data": {
      "text/plain": [
       "True"
      ]
     },
     "execution_count": 73,
     "metadata": {},
     "output_type": "execute_result"
    }
   ],
   "source": [
    "def has_duplicate(word):\n",
    "    if len(word)>len(set(word)):\n",
    "        return True\n",
    "    return false\n",
    "\n",
    "has_duplicate('sksdkjj')"
   ]
  },
  {
   "cell_type": "code",
   "execution_count": 75,
   "id": "5449f93a-e0bf-4ad1-b64a-50f934cb7111",
   "metadata": {},
   "outputs": [
    {
     "data": {
      "text/plain": [
       "{' ', 'd', 'g', 'n', 'o', 'r'}"
      ]
     },
     "execution_count": 75,
     "metadata": {},
     "output_type": "execute_result"
    }
   ],
   "source": [
    "s1.intersection(s2)"
   ]
  },
  {
   "cell_type": "code",
   "execution_count": 76,
   "id": "272e5bd4-11d4-40da-8b27-5644017cfb80",
   "metadata": {},
   "outputs": [
    {
     "data": {
      "text/plain": [
       "{' ', '!', 'a', 'd', 'e', 'f', 'g', 'i', 'm', 'n', 'o', 'r', 't'}"
      ]
     },
     "execution_count": 76,
     "metadata": {},
     "output_type": "execute_result"
    }
   ],
   "source": [
    "s1.union(s2)"
   ]
  },
  {
   "cell_type": "code",
   "execution_count": 78,
   "id": "9640c8f3-e3c5-4b7a-be15-0dc892ef358e",
   "metadata": {},
   "outputs": [
    {
     "data": {
      "text/plain": [
       "{' ', '!', 'a', 'd', 'e', 'f', 'g', 'i', 'm', 'n', 'o', 'r', 't'}"
      ]
     },
     "execution_count": 78,
     "metadata": {},
     "output_type": "execute_result"
    }
   ],
   "source": [
    "#union only contain non-duplicated elements\n",
    "set(s1.union(s2))"
   ]
  },
  {
   "cell_type": "code",
   "execution_count": 81,
   "id": "1788c4f8-3c9d-46d1-ae66-1d86a2ddb7ff",
   "metadata": {},
   "outputs": [
    {
     "data": {
      "text/plain": [
       "False"
      ]
     },
     "execution_count": 81,
     "metadata": {},
     "output_type": "execute_result"
    }
   ],
   "source": [
    "vowels={'a','e','i','o','u'}\n",
    "word = 'iisi'\n",
    "s = set(word)\n",
    "s.issubset(vowels)\n",
    "\n",
    "#if all elements in word are also in vowels, then we can say that word is the subset of vowels"
   ]
  },
  {
   "cell_type": "code",
   "execution_count": 84,
   "id": "d78935d3-52a7-4403-b06b-6c58ea037fef",
   "metadata": {},
   "outputs": [],
   "source": [
    "l = [18,15,12,22]\n",
    "mydict={}\n",
    "mydict['london']=18\n",
    "mydict['birmingham']=15"
   ]
  },
  {
   "cell_type": "code",
   "execution_count": 85,
   "id": "ab2fd53a-035f-49c1-8e22-170cbe4c63e5",
   "metadata": {},
   "outputs": [
    {
     "data": {
      "text/plain": [
       "{'london': 18, 'birmingham': 15}"
      ]
     },
     "execution_count": 85,
     "metadata": {},
     "output_type": "execute_result"
    }
   ],
   "source": [
    "mydict"
   ]
  },
  {
   "cell_type": "code",
   "execution_count": 86,
   "id": "7d3c5c7d-f554-4046-8171-d7315f010d13",
   "metadata": {},
   "outputs": [
    {
     "data": {
      "text/plain": [
       "True"
      ]
     },
     "execution_count": 86,
     "metadata": {},
     "output_type": "execute_result"
    }
   ],
   "source": [
    "'london' in mydict"
   ]
  },
  {
   "cell_type": "code",
   "execution_count": 88,
   "id": "77b61b34-3e38-4a91-b691-98d3466272b8",
   "metadata": {},
   "outputs": [
    {
     "data": {
      "text/plain": [
       "False"
      ]
     },
     "execution_count": 88,
     "metadata": {},
     "output_type": "execute_result"
    }
   ],
   "source": [
    "15 in mydict"
   ]
  },
  {
   "cell_type": "code",
   "execution_count": 89,
   "id": "220449cd-f6f5-4f1c-bc72-b8fcd1823226",
   "metadata": {},
   "outputs": [
    {
     "data": {
      "text/plain": [
       "True"
      ]
     },
     "execution_count": 89,
     "metadata": {},
     "output_type": "execute_result"
    }
   ],
   "source": [
    "15 in mydict.values()"
   ]
  },
  {
   "cell_type": "code",
   "execution_count": 95,
   "id": "b1b98d55-bc52-4765-aa19-4d5d8dd671f7",
   "metadata": {},
   "outputs": [],
   "source": [
    "text = 'london is a city city is london london'\n",
    "\n",
    "def count_words(text):\n",
    "    words = text.split()\n",
    "    wordcounts = {}\n",
    "    for word in words:\n",
    "        #have to initialize first\n",
    "        if word not in wordcounts:\n",
    "            wordcounts[word]=0\n",
    "        wordcounts[word] += 1\n",
    "    return wordcounts\n",
    "\n",
    "wordcounts = count_words(text)"
   ]
  },
  {
   "cell_type": "code",
   "execution_count": 96,
   "id": "e8ce47cf-373a-4cab-b238-e30b46451cad",
   "metadata": {},
   "outputs": [
    {
     "data": {
      "text/plain": [
       "{'london': 3, 'is': 2, 'a': 1, 'city': 2}"
      ]
     },
     "execution_count": 96,
     "metadata": {},
     "output_type": "execute_result"
    }
   ],
   "source": [
    "wordcounts"
   ]
  },
  {
   "cell_type": "code",
   "execution_count": 97,
   "id": "1969a896-d114-4a6c-9653-b3b6be904500",
   "metadata": {},
   "outputs": [
    {
     "data": {
      "text/plain": [
       "2"
      ]
     },
     "execution_count": 97,
     "metadata": {},
     "output_type": "execute_result"
    }
   ],
   "source": [
    "wordcounts['city']"
   ]
  },
  {
   "cell_type": "code",
   "execution_count": 102,
   "id": "59c2d4ae-a6a8-4eb4-adeb-be6a4dc42445",
   "metadata": {},
   "outputs": [
    {
     "name": "stdout",
     "output_type": "stream",
     "text": [
      "london\n",
      "is\n",
      "a\n",
      "city\n",
      "london\n",
      "is\n",
      "a\n",
      "city\n"
     ]
    }
   ],
   "source": [
    "for x in wordcounts.keys():\n",
    "    print(x)\n",
    "\n",
    "for x in wordcounts:\n",
    "    print(x)"
   ]
  },
  {
   "cell_type": "code",
   "execution_count": 99,
   "id": "c4d0899c-2aad-489b-9530-ffac29e3b974",
   "metadata": {},
   "outputs": [
    {
     "name": "stdout",
     "output_type": "stream",
     "text": [
      "('london', 3)\n",
      "('is', 2)\n",
      "('a', 1)\n",
      "('city', 2)\n"
     ]
    }
   ],
   "source": [
    "for x in wordcounts.items():    #it generates tuples\n",
    "    print(x)"
   ]
  },
  {
   "cell_type": "code",
   "execution_count": 100,
   "id": "8f3f536f-8f4b-48d5-a41a-bd146bdf85d6",
   "metadata": {},
   "outputs": [
    {
     "name": "stdout",
     "output_type": "stream",
     "text": [
      "3\n",
      "2\n",
      "1\n",
      "2\n"
     ]
    }
   ],
   "source": [
    "for x in wordcounts.values():\n",
    "    print(x)"
   ]
  },
  {
   "cell_type": "code",
   "execution_count": 103,
   "id": "c9d2a5b1-55f1-41b3-a67b-d35ca85d877e",
   "metadata": {},
   "outputs": [
    {
     "name": "stdout",
     "output_type": "stream",
     "text": [
      "london 3\n",
      "is 2\n",
      "a 1\n",
      "city 2\n"
     ]
    }
   ],
   "source": [
    "for key,value in wordcounts.items():\n",
    "    print( key , value)"
   ]
  },
  {
   "cell_type": "code",
   "execution_count": 107,
   "id": "ad298b8f-9d3f-4490-b068-22f2b4422034",
   "metadata": {},
   "outputs": [
    {
     "data": {
      "text/plain": [
       "['a', 'is', 'city', 'london']"
      ]
     },
     "execution_count": 107,
     "metadata": {},
     "output_type": "execute_result"
    }
   ],
   "source": [
    "sorted_keys = sorted(wordcounts, key=wordcounts.get)\n",
    "\n",
    "# xxx.get will allow you fetch the values in the dict\n",
    "sorted_keys"
   ]
  },
  {
   "cell_type": "code",
   "execution_count": 114,
   "id": "316c2e64-e848-4a2e-b765-3eea6c273f47",
   "metadata": {},
   "outputs": [
    {
     "data": {
      "text/plain": [
       "['df', 'll', 'as']"
      ]
     },
     "execution_count": 114,
     "metadata": {},
     "output_type": "execute_result"
    }
   ],
   "source": [
    "# sort\n",
    "\n",
    "l = [2,3,5,2,3,4,1]\n",
    "see=sorted(l)\n",
    "\n",
    "d = {'as':91,'df':34, 'll':53}\n",
    "sorted(d.values())\n",
    "sorted(d, key=d.get)  #sort, show the keys, but sort according to the values\n"
   ]
  },
  {
   "cell_type": "code",
   "execution_count": 115,
   "id": "779a381b-35ed-48da-9c2e-bad015b3b96f",
   "metadata": {},
   "outputs": [
    {
     "name": "stdout",
     "output_type": "stream",
     "text": [
      "a 1\n",
      "is 2\n",
      "city 2\n",
      "london 3\n"
     ]
    }
   ],
   "source": [
    "for key in sorted_keys:\n",
    "    print(key, wordcounts[key])\n"
   ]
  },
  {
   "cell_type": "markdown",
   "id": "d61a7529-1dce-4bdf-aa50-2767721c2b89",
   "metadata": {},
   "source": [
    "ZIP"
   ]
  },
  {
   "cell_type": "code",
   "execution_count": 120,
   "id": "4493d7d0-1c9e-44bb-aadd-f1fbe5ffecf9",
   "metadata": {},
   "outputs": [
    {
     "name": "stdout",
     "output_type": "stream",
     "text": [
      "london 19\n",
      "birgn 29\n",
      "livepo 42\n",
      "---\n",
      "london 19\n",
      "birgn 29\n",
      "livepo 42\n",
      "---\n",
      "{'london': 19, 'birgn': 29, 'livepo': 42}\n"
     ]
    }
   ],
   "source": [
    "l1 = ['london','birgn','livepo']\n",
    "l2=[19,29,42]\n",
    "\n",
    "for index in range(len(l1)):\n",
    "    v1 = l1[index]\n",
    "    v2 = l2[index]\n",
    "    print(v1,v2)\n",
    "\n",
    "print('---')\n",
    "\n",
    "for v1, v2 in zip(l1,l2):\n",
    "    print(v1,v2)\n",
    "\n",
    "print('---')\n",
    "\n",
    "temp = {}\n",
    "for v1, v2 in zip(l1, l2):\n",
    "    temp[v1]=v2\n",
    "\n",
    "print(temp)"
   ]
  },
  {
   "cell_type": "code",
   "execution_count": null,
   "id": "b677ee1d-862b-4946-af50-e0ba1edabd86",
   "metadata": {},
   "outputs": [],
   "source": []
  }
 ],
 "metadata": {
  "kernelspec": {
   "display_name": "Python 3 (ipykernel)",
   "language": "python",
   "name": "python3"
  },
  "language_info": {
   "codemirror_mode": {
    "name": "ipython",
    "version": 3
   },
   "file_extension": ".py",
   "mimetype": "text/x-python",
   "name": "python",
   "nbconvert_exporter": "python",
   "pygments_lexer": "ipython3",
   "version": "3.11.9"
  }
 },
 "nbformat": 4,
 "nbformat_minor": 5
}

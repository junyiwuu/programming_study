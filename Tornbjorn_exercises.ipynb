{
 "cells": [
  {
   "cell_type": "markdown",
   "id": "94e8af38",
   "metadata": {},
   "source": [
    "# Python Exercises\n",
    "\n",
    "This notebook contains a series of Python exercises for practice."
   ]
  },
  {
   "cell_type": "markdown",
   "id": "45bdc898",
   "metadata": {},
   "source": [
    "### Exercise 1\n",
    "\n",
    "Define a function max() that takes two numbers as arguments and returns the largest of them.\n",
    "\n",
    "```python\n",
    "# Your code here\n",
    "\n",
    "```"
   ]
  },
  {
   "cell_type": "markdown",
   "id": "c2425889",
   "metadata": {},
   "source": [
    "### Exercise 2\n",
    "\n",
    "Define a function max_of_three() that takes three numbers as arguments and returns the largest of them.\n",
    "\n",
    "```python\n",
    "# Your code here\n",
    "\n",
    "```"
   ]
  },
  {
   "cell_type": "markdown",
   "id": "2d5497ae",
   "metadata": {},
   "source": [
    "### Exercise 3\n",
    "\n",
    "Define a function that computes the length of a given list or string.\n",
    "\n",
    "```python\n",
    "# Your code here\n",
    "\n",
    "```"
   ]
  },
  {
   "cell_type": "markdown",
   "id": "ef206c99",
   "metadata": {},
   "source": [
    "### Exercise 4\n",
    "\n",
    "Write a function that takes a character and returns True if it is a vowel, False otherwise.\n",
    "\n",
    "```python\n",
    "# Your code here\n",
    "\n",
    "```"
   ]
  },
  {
   "cell_type": "markdown",
   "id": "6055cdf8",
   "metadata": {},
   "source": [
    "### Exercise 5\n",
    "\n",
    "Write a function translate() that will translate a text into 'rövarspråket'.\n",
    "\n",
    "```python\n",
    "# Your code here\n",
    "\n",
    "```"
   ]
  },
  {
   "cell_type": "markdown",
   "id": "e15395fa",
   "metadata": {},
   "source": [
    "### Exercise 6\n",
    "\n",
    "Define a function sum() and a function multiply() to sum and multiply numbers in a list.\n",
    "\n",
    "```python\n",
    "# Your code here\n",
    "\n",
    "```"
   ]
  },
  {
   "cell_type": "markdown",
   "id": "e60ea457",
   "metadata": {},
   "source": [
    "### Exercise 7\n",
    "\n",
    "Define a function reverse() that computes the reversal of a string.\n",
    "\n",
    "```python\n",
    "# Your code here\n",
    "\n",
    "```"
   ]
  },
  {
   "cell_type": "markdown",
   "id": "12561d38",
   "metadata": {},
   "source": [
    "### Exercise 8\n",
    "\n",
    "Define a function is_palindrome() that recognizes palindromes.\n",
    "\n",
    "```python\n",
    "# Your code here\n",
    "\n",
    "```"
   ]
  },
  {
   "cell_type": "markdown",
   "id": "3dc1538f",
   "metadata": {},
   "source": [
    "### Exercise 9\n",
    "\n",
    "Write a function is_member() that checks if a value is a member of a list.\n",
    "\n",
    "```python\n",
    "# Your code here\n",
    "\n",
    "```"
   ]
  },
  {
   "cell_type": "markdown",
   "id": "07df3d59",
   "metadata": {},
   "source": [
    "### Exercise 10\n",
    "\n",
    "Define a function overlapping() that checks if two lists have at least one member in common.\n",
    "\n",
    "```python\n",
    "# Your code here\n",
    "\n",
    "```"
   ]
  }
 ],
 "metadata": {},
 "nbformat": 4,
 "nbformat_minor": 5
}

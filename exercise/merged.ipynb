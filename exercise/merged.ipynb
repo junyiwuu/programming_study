{
 "cells": [
  {
   "cell_type": "markdown",
   "id": "7a8044c5-8e76-4844-8aca-320688ec7e76",
   "metadata": {},
   "source": [
    "# Practice exercises \\#1"
   ]
  },
  {
   "cell_type": "markdown",
   "id": "ed435318-b4a5-4243-83e5-a60e3d672140",
   "metadata": {},
   "source": [
    "1. Suppose we are going to buy 75 copies of the 'Think Python' book. Each copy costs £27.65. Because of the large size of our order, we have been offered a 20% discount on the total cost of the books. On top of that, we need to add the shipping costs, which is £0.95 for each of the first 10 books, and £0.45 for each of the remainder of the books. Calculate the total cost of our order."
   ]
  },
  {
   "cell_type": "code",
   "execution_count": 13,
   "id": "347db21f-63be-4d04-b1c0-1858cab93fd1",
   "metadata": {},
   "outputs": [
    {
     "data": {
      "text/plain": [
       "1697.75"
      ]
     },
     "execution_count": 13,
     "metadata": {},
     "output_type": "execute_result"
    }
   ],
   "source": [
    "each = 27.65\n",
    "num = 75\n",
    "shipping = 0.95 * 10 + 0.45 * (num-10)\n",
    "total = num * each * 0.8 + shipping\n",
    "total"
   ]
  },
  {
   "cell_type": "markdown",
   "id": "f6f535c8-1b2f-4c99-ba7d-cbcd604e0b0c",
   "metadata": {},
   "source": [
    "2. Sarah has completed a marathon in 9,752 seconds. Break down the time into hours, minutes and seconds."
   ]
  },
  {
   "cell_type": "code",
   "execution_count": 12,
   "id": "f8f50acc-984f-45a3-9131-721002756d33",
   "metadata": {},
   "outputs": [
    {
     "name": "stdout",
     "output_type": "stream",
     "text": [
      " she run 2 hours, 42 minutes and 32 seconds\n"
     ]
    }
   ],
   "source": [
    "seconds = 9752\n",
    "hours = int(seconds/60/60)\n",
    "minutes = int((seconds - hours*3600)/60)\n",
    "s = seconds - hours*3600 - minutes*60\n",
    "\n",
    "print(f\" she run {hours} hours, {minutes} minutes and {s} seconds\")"
   ]
  },
  {
   "cell_type": "markdown",
   "id": "ae89c274-3f47-43a8-b970-91ecf879c0b4",
   "metadata": {},
   "source": [
    "3. Four athletes (A, B, C, D) make up a team competing in 4x100m relay, i.e. an athletics track run where four runners run 100m each after each other. Each of the team members runs at the following average speeds:\n",
    "- A: 9.10 m/s\n",
    "- B: 9.25 m/s\n",
    "- C: 9.05 m/s\n",
    "- D: 9.45 m/s\n",
    "\n",
    "How long will it take for them to complete the 400 metres?\n",
    "\n",
    "For the purposes of this exercise, assume the above are average speeds throughout their entire run, i.e. ignore the fact that speed may be slower at the start and when transferring the baton, for example."
   ]
  },
  {
   "cell_type": "code",
   "execution_count": 7,
   "id": "72b9786a-ead6-4e93-986b-e2076e0c687c",
   "metadata": {},
   "outputs": [
    {
     "data": {
      "text/plain": [
       "43.43155613873846"
      ]
     },
     "execution_count": 7,
     "metadata": {},
     "output_type": "execute_result"
    }
   ],
   "source": [
    "A = 9.10\n",
    "B = 9.25 \n",
    "C = 9.05\n",
    "D = 9.45\n",
    "ls = [9.10,9.25,9.05,9.45]\n",
    "total = 0\n",
    "for i in range(4):\n",
    "    t = 100/ls[i]\n",
    "    total += t\n",
    "\n",
    "total"
   ]
  },
  {
   "cell_type": "markdown",
   "id": "4eb43a54-bb9b-4017-a37f-4d7413ed5578",
   "metadata": {},
   "source": [
    "4. A coffee shop offers every 5th coffee within a single purchase for free. That is:\n",
    "- if you buy 5 coffees, you pay 4.\n",
    "- if you buy 10 coffees, you pay 8.\n",
    "- if you buy 9 coffees, you pay 8 (you only qualify for 1 free coffee).\n",
    "\n",
    "For a purchase order of 37 coffees, at £3.75 a coffee, how much do we need to pay after applying the above discounts?"
   ]
  },
  {
   "cell_type": "code",
   "execution_count": 15,
   "id": "69f821a9-007a-4823-bfaa-5b8cee8fc8bd",
   "metadata": {},
   "outputs": [
    {
     "name": "stdout",
     "output_type": "stream",
     "text": [
      "112.5\n"
     ]
    }
   ],
   "source": [
    "each_price = 3.75\n",
    "num = 37\n",
    "total = 0\n",
    "\n",
    "discount = num//5\n",
    "total = (num-discount)*each_price\n",
    "print(total)"
   ]
  },
  {
   "cell_type": "markdown",
   "id": "2f3a53a7-6334-4f07-894a-b10363a75f31",
   "metadata": {},
   "source": [
    "# Practice exercises \\#2"
   ]
  },
  {
   "cell_type": "markdown",
   "id": "64660259-a074-4f08-b42f-19c89528d369",
   "metadata": {},
   "source": [
    "1. The factorial of a number **n** is defined as **n!** and is calculated as: **n! = n \\* (n-1)!**. For example, the factorial of **4** is **4 \\* 3!**, then **3! = 3 * 2!**, etc. until we reach 1. Therefore, **4! = 4 \\* 3 \\* 2 \\* 1**. Using the python that we've learnt so far, write the python code that calculates the factorials for all values between 20 and 25, i.e. 20!, 21!, 22!, 23!, 24! and 25!."
   ]
  },
  {
   "cell_type": "code",
   "execution_count": 20,
   "id": "d439aace-34e9-45a0-8000-9ca47d63d168",
   "metadata": {},
   "outputs": [
    {
     "name": "stdout",
     "output_type": "stream",
     "text": [
      "2432902008176640000\n",
      "51090942171709440000\n",
      "1124000727777607680000\n",
      "25852016738884976640000\n",
      "620448401733239439360000\n",
      "15511210043330985984000000\n"
     ]
    }
   ],
   "source": [
    "def factorial(n):\n",
    "    if n ==1 or n==0:\n",
    "        return 1\n",
    "    elif n >=2:\n",
    "        return n*factorial(n-1)\n",
    "        \n",
    "print(factorial(20))\n",
    "print(factorial(21))\n",
    "print(factorial(22))\n",
    "print(factorial(23))\n",
    "print(factorial(24))\n",
    "print(factorial(25))\n"
   ]
  },
  {
   "cell_type": "markdown",
   "id": "3eb44d89-267a-42b8-beda-721f65fd1958",
   "metadata": {},
   "source": [
    "2. Filling the gas tank of your car costs you £50. The owner of a gas station tells you that, every time you fill the tank with them, you will get it £1 cheaper, up to a bottom limit of £40. That is, you'll pay £50 the first time, £49 the second, ..., and £40 the 11th time and subsequently. If you fill your tank 25 times with them, how much have you paid them on aggregate?"
   ]
  },
  {
   "cell_type": "code",
   "execution_count": 22,
   "id": "8200f99a-cf7f-4a97-abc4-9f5272d78f96",
   "metadata": {},
   "outputs": [
    {
     "name": "stdout",
     "output_type": "stream",
     "text": [
      "1055\n"
     ]
    }
   ],
   "source": [
    "times=25\n",
    "total = 0\n",
    "for i in range(times):\n",
    "    if i <11:\n",
    "        price = 50-i\n",
    "    else:\n",
    "        price = 40\n",
    "    total+=price\n",
    "\n",
    "print(total)"
   ]
  },
  {
   "cell_type": "markdown",
   "id": "b450d8b3-e998-4eb0-a533-215ee4db0fb1",
   "metadata": {},
   "source": [
    "3. Normally, you drive your car at 70 mph while on a motorway, at 60 mph on A-roads, 50 mph on B-roads and 30 mph while in the city. However, if you're tired, you drive 10% slower (regardless of the type of road). Given the following two variables as input, write the set of if statements that outputs the relevant speed:\n",
    "* roadtype, which is a string that can be 'motorway', 'a-road', 'b-road' or 'city'\n",
    "* tired, which is a boolean"
   ]
  },
  {
   "cell_type": "code",
   "execution_count": null,
   "id": "49dea62c-1590-432a-bfbb-c02e6023581f",
   "metadata": {},
   "outputs": [],
   "source": [
    "rt = input('roadtype:  ')\n",
    "tired = input('are you tired?:  ')\n",
    "\n",
    "if rt == 'motorway'"
   ]
  },
  {
   "cell_type": "markdown",
   "id": "fb6b1a73-54b2-4eb2-b9fe-8ef228d22e5d",
   "metadata": {},
   "source": [
    "4. Using **for** loops, produce the following triangle as an output (there are 9 lines where each line has as many stars as the line number they are in):\n",
    "\n",
    "**\\***\n",
    "\n",
    "**\\* \\***\n",
    "\n",
    "**\\* \\* \\***\n",
    "\n",
    "**\\* \\* \\* \\***\n",
    "\n",
    "**\\* \\* \\* \\* \\***\n",
    "\n",
    "**\\* \\* \\* \\* \\* \\***\n",
    "\n",
    "**\\* \\* \\* \\* \\* \\* \\***\n",
    "\n",
    "**\\* \\* \\* \\* \\* \\* \\* \\***\n",
    "\n",
    "**\\* \\* \\* \\* \\* \\* \\* \\* \\***\n",
    "\n",
    "**Hint:** using *print('something')* adds a line break after your text, whereas you can use *print('something', end='')* to avoid this line break being added."
   ]
  },
  {
   "cell_type": "code",
   "execution_count": null,
   "id": "7aff4fb2-54bf-476b-8221-1e318abd31c4",
   "metadata": {},
   "outputs": [],
   "source": []
  },
  {
   "cell_type": "markdown",
   "id": "62383aac-efcc-4eed-91e0-20b3ab2b06f4",
   "metadata": {},
   "source": [
    "# Practice exercises \\#3"
   ]
  },
  {
   "cell_type": "markdown",
   "id": "e8f81e9c-725e-440c-ac57-8bbbd1a82a21",
   "metadata": {},
   "source": [
    "1. Let's revisit the exercise from the first lecture, with a little twist (previously, we ordered 75 copies of the book, now we want this to be a variable n_books):\n",
    "\n",
    "Suppose we are going to buy **N copies** of the 'Think Python' book. Each copy costs �27.65. If we order at least 25 copies, we are offered a 20% discount on the total cost of the books. On top of that, we need to add the shipping costs, which is �0.95 for the first 10 books, and �0.45 for the remainder of the books. Calculate the total cost of our order for an order of a given number of books **n_books**.\n",
    "\n",
    "Write a function **total_cost()** that takes **n_books** as an input parameter and returns the total cost of the order."
   ]
  },
  {
   "cell_type": "code",
   "execution_count": null,
   "id": "23b1699d-7bdc-4c27-9933-cf0339c94acf",
   "metadata": {},
   "outputs": [],
   "source": []
  },
  {
   "cell_type": "markdown",
   "id": "5be03164-fc2c-40ad-9741-82967e3319ad",
   "metadata": {},
   "source": [
    "2. The Fibonacci sequence is a sequence in which each number is the sum of the two preceding ones. The first two numbers in the sequence are (typically) 0 and 1, where the sequence is:\n",
    "\n",
    "0, 1, 1, 2, 3, 5, 8, 13, 21, 34, 55, 89, 144,...\n",
    "\n",
    "The n-th Fibonacci is the number in the n position of the sequence, i.e. fibonacci(0) = 0, fibonacci(1) = 1, ..., fibonacci(6) = 8, etc.\n",
    "\n",
    "Knowing this, define a function **fibonacci()** that takes the **n** value as input, and outputs the corresponding fibonacci value."
   ]
  },
  {
   "cell_type": "code",
   "execution_count": null,
   "id": "2973cc01-4625-40c7-bc9d-f7208d79b1a8",
   "metadata": {},
   "outputs": [],
   "source": []
  },
  {
   "cell_type": "markdown",
   "id": "b584e33a-06a5-4eb5-bb1a-bd20be297730",
   "metadata": {},
   "source": [
    "3. Let's revisit an earlier exercise:\n",
    "\n",
    "A coffee shop offers every 5th coffee within a single purchase for free. That is:\n",
    "- if you buy 5 coffees, you pay 4.\n",
    "- if you buy 10 coffees, you pay 8.\n",
    "- if you buy 9 coffees, you pay 8 (you only qualify for 1 free coffee).\n",
    "\n",
    "At �3.75 a coffee, how much do we need to pay after applying the above discounts for an order of **n_coffees** coffees?\n",
    "\n",
    "Implement a function that calculates this cost."
   ]
  },
  {
   "cell_type": "code",
   "execution_count": null,
   "id": "a3521683-cae1-468a-8c0f-1f62ddaae75c",
   "metadata": {},
   "outputs": [],
   "source": []
  },
  {
   "cell_type": "markdown",
   "id": "dcb14c84-8595-48e0-b71d-26b196086269",
   "metadata": {},
   "source": [
    "4. We have implemented the following code that calculates the square values of numbers from 1 to 10. Improve the readability and usability of this code by using what we've learnt so far."
   ]
  },
  {
   "cell_type": "code",
   "execution_count": 20,
   "id": "ffbdacc2-3f6d-4f7e-a2fa-8a7112086480",
   "metadata": {},
   "outputs": [
    {
     "name": "stdout",
     "output_type": "stream",
     "text": [
      "1\n",
      "4\n",
      "9\n",
      "16\n",
      "25\n",
      "36\n",
      "49\n",
      "64\n",
      "81\n",
      "100\n"
     ]
    }
   ],
   "source": [
    "n = 1\n",
    "print(n ** 2)\n",
    "n = 2\n",
    "print(n ** 2)\n",
    "n = 3\n",
    "print(n ** 2)\n",
    "n = 4\n",
    "print(n ** 2)\n",
    "n = 5\n",
    "print(n ** 2)\n",
    "n = 6\n",
    "print(n ** 2)\n",
    "n = 7\n",
    "print(n ** 2)\n",
    "n = 8\n",
    "print(n ** 2)\n",
    "n = 9\n",
    "print(n ** 2)\n",
    "n = 10\n",
    "print(n ** 2)"
   ]
  },
  {
   "cell_type": "markdown",
   "id": "44068242-8d6c-4eca-9b3e-738a936cc809",
   "metadata": {},
   "source": [
    "Type your improved version here:"
   ]
  },
  {
   "cell_type": "code",
   "execution_count": null,
   "id": "8114aad1-8433-4824-b586-e9d3e0f27951",
   "metadata": {},
   "outputs": [],
   "source": []
  },
  {
   "cell_type": "markdown",
   "id": "416b8298-c86e-49d8-a590-07a810e7e5d8",
   "metadata": {},
   "source": [
    "5. Implement a function **get_max()**, which takes an argument of variable length as input, and outputs the largest of the values provided as input parameters. You can assume that the input values provided are all positive values."
   ]
  },
  {
   "cell_type": "code",
   "execution_count": null,
   "id": "5fc66051-dcb7-4c86-a402-b7db3b5c4aea",
   "metadata": {},
   "outputs": [],
   "source": []
  },
  {
   "cell_type": "markdown",
   "id": "9daa7d1f-9e9d-4728-b941-ff001611ca77",
   "metadata": {},
   "source": [
    "6. Implement a function **get_even_values()**, which takes an argument of variable length as input, and outputs the subset of the input parameters which are even values."
   ]
  },
  {
   "cell_type": "code",
   "execution_count": null,
   "id": "bce300cb-71cb-440f-ba65-1000d3d5857b",
   "metadata": {},
   "outputs": [],
   "source": []
  },
  {
   "cell_type": "markdown",
   "id": "a726acb5-bd3a-4bbb-8528-3c5094eba5d2",
   "metadata": {},
   "source": [
    "# Practice exercises \\#4"
   ]
  },
  {
   "cell_type": "code",
   "execution_count": 2,
   "id": "1657dc3a-c7d4-47c5-be9d-7ab158b0938b",
   "metadata": {},
   "outputs": [],
   "source": [
    "text = 'Lorem ipsum dolor sit amet, consectetur adipiscing elit, sed do eiusmod tempor incididunt ut labore et dolore magna aliqua. Ut enim ad minim veniam, quis nostrud exercitation ullamco laboris nisi ut aliquip ex ea commodo consequat. Duis aute irure dolor in reprehenderit in voluptate velit esse cillum dolore eu fugiat nulla pariatur. Excepteur sint occaecat cupidatat non proident, sunt in culpa qui officia deserunt mollit anim id est laborum.'"
   ]
  },
  {
   "cell_type": "markdown",
   "id": "8465324b-3433-41d4-8a3f-9559b5fb3854",
   "metadata": {},
   "source": [
    "For exercises 1-3 where a string is expected as input, you can use the text above as an example."
   ]
  },
  {
   "cell_type": "markdown",
   "id": "7d80ae24-c055-4e68-98b5-417dc85c942f",
   "metadata": {},
   "source": [
    "1. Given a string as input, modify it such that all vowels (a, e, i, o, u) are uppercased and all consonants are lowercased."
   ]
  },
  {
   "cell_type": "markdown",
   "id": "0e063edf",
   "metadata": {},
   "source": [
    "### string is not muttable, you can only do : newstring = oldstring + slice[]. OR newstring = list[].join()"
   ]
  },
  {
   "cell_type": "code",
   "execution_count": 12,
   "id": "b201ba36-8af8-4816-8586-17e2103252ae",
   "metadata": {},
   "outputs": [
    {
     "data": {
      "text/plain": [
       "'LOrEm IpsUm dOlOr sIt AmEt, cOnsEctEtUr AdIpIscIng ElIt, sEd dO EIUsmOd tEmpOr IncIdIdUnt Ut lAbOrE Et dOlOrE mAgnA AlIqUA. Ut EnIm Ad mInIm vEnIAm, qUIs nOstrUd ExErcItAtIOn UllAmcO lAbOrIs nIsI Ut AlIqUIp Ex EA cOmmOdO cOnsEqUAt. DUIs AUtE IrUrE dOlOr In rEprEhEndErIt In vOlUptAtE vElIt EssE cIllUm dOlOrE EU fUgIAt nUllA pArIAtUr. ExcEptEUr sInt OccAEcAt cUpIdAtAt nOn prOIdEnt, sUnt In cUlpA qUI OffIcIA dEsErUnt mOllIt AnIm Id Est lAbOrUm.'"
      ]
     },
     "execution_count": 12,
     "metadata": {},
     "output_type": "execute_result"
    }
   ],
   "source": [
    "newtext=''\n",
    "\n",
    "for i in text:\n",
    "    if i in ['a', 'e', 'i', 'o', 'u']:\n",
    "        newtext += i.upper()\n",
    "    else:\n",
    "        newtext += i\n",
    "\n",
    "newtext"
   ]
  },
  {
   "cell_type": "markdown",
   "id": "f3140909-e71c-4f1c-9019-04275e305472",
   "metadata": {},
   "source": [
    "2. Given a string as input, modify it such that all words are capitalised (i.e. first character of each word uppercased and the rest lowercased)"
   ]
  },
  {
   "cell_type": "code",
   "execution_count": 28,
   "id": "a5a24031",
   "metadata": {},
   "outputs": [
    {
     "data": {
      "text/plain": [
       "'Lorem Ipsum Dolor Sit Amet, Consectetur Adipiscing Elit, Sed Do Eiusmod Tempor Incididunt Ut Labore Et Dolore Magna Aliqua. Ut Enim Ad Minim Veniam, Quis Nostrud Exercitation Ullamco Laboris Nisi Ut Aliquip Ex Ea Commodo Consequat. Duis Aute Irure Dolor In Reprehenderit In Voluptate Velit Esse Cillum Dolore Eu Fugiat Nulla Pariatur. Excepteur Sint Occaecat Cupidatat Non Proident, Sunt In Culpa Qui Officia Deserunt Mollit Anim Id Est Laborum.'"
      ]
     },
     "execution_count": 28,
     "metadata": {},
     "output_type": "execute_result"
    }
   ],
   "source": [
    "li = text.split()\n",
    "new_li = []\n",
    "for word in li:\n",
    "    new_w = word[0].upper() + word[1:]\n",
    "    new_li.append(new_w)\n",
    "\n",
    "new_text = ' '.join(new_li)\n",
    "new_text\n"
   ]
  },
  {
   "cell_type": "markdown",
   "id": "d89906c7-7003-48c3-893f-fdf943be8e8f",
   "metadata": {},
   "source": [
    "3. Given a string as input, count the number of word occurrences for each word length from 1 to 15, i.e. how many words have a length of 1, how many have a length of 2, etc."
   ]
  },
  {
   "cell_type": "code",
   "execution_count": null,
   "id": "194600c3-6c3b-4940-9336-4459bdef5a9c",
   "metadata": {},
   "outputs": [],
   "source": []
  },
  {
   "cell_type": "markdown",
   "id": "e9f1a9a3-c8d2-4912-9d82-f978cccd3eb1",
   "metadata": {},
   "source": [
    "4. An abecedarian word is one where its letters are alphabetically sorted, two consecutive letters can be repeated but never go backwards in the alphabet. Examples include accent, almost or effort. Implement a function **is_abecedarian()** which, given a word as input, returns True or False depending on whether it is or not abecedarian. You may want to lowercase the input string to avoid complications."
   ]
  },
  {
   "cell_type": "code",
   "execution_count": null,
   "id": "4475e401-466e-4685-92a6-c03ae77754d8",
   "metadata": {},
   "outputs": [],
   "source": []
  },
  {
   "cell_type": "markdown",
   "id": "92445fbf-e559-43cc-b565-1a9adde40171",
   "metadata": {},
   "source": [
    "5. We have a string made of numbers only. Write a function that determines (True / False output) if the string is fully made of odd numbers, e.g. 1793 = True, but 1875 = False."
   ]
  },
  {
   "cell_type": "code",
   "execution_count": null,
   "id": "837a7851-681f-4ae7-af8f-8d275f54ba97",
   "metadata": {},
   "outputs": [],
   "source": []
  },
  {
   "cell_type": "markdown",
   "id": "2df39361-587b-406f-bb6a-fe927b7855b9",
   "metadata": {},
   "source": [
    "6. Given a string as input, write a function is_palindrome() that determines if the string in question is a palindrome, i.e. a string that reads the same backwards as forwards. For example, the words 'level' and 'madam' are palindromes."
   ]
  },
  {
   "cell_type": "code",
   "execution_count": null,
   "id": "1c947c40-823c-4e42-8adc-2ed868512ae4",
   "metadata": {},
   "outputs": [],
   "source": []
  },
  {
   "cell_type": "markdown",
   "id": "e80c4024-b4ee-4394-8d3a-44879665f5fc",
   "metadata": {},
   "source": [
    "7. Modify the is_palindrome() function above so that it can also determine if a longer sentence (not just a word) is a palindrome, ignoring any spaces in the sentence. For example, 'was it a car or a cat i saw' is an example of a palindrome sentence."
   ]
  },
  {
   "cell_type": "code",
   "execution_count": null,
   "id": "8259301e-75e4-41c7-af24-527a19e0bed6",
   "metadata": {},
   "outputs": [],
   "source": []
  },
  {
   "cell_type": "markdown",
   "id": "c662c08c-3ba8-4ea0-b7d8-fe836379bc34",
   "metadata": {},
   "source": [
    "# Practice exercises \\#5"
   ]
  },
  {
   "cell_type": "markdown",
   "id": "02ef65dc-4f36-4484-9192-e7a5463a1f3a",
   "metadata": {},
   "source": [
    "1. Write a function called cumsum that takes a list of numbers and returns the cumulative sum; that is, a new list where the i^th^ element is the sum of the first i + 1 elements from the original list. For example: for the list [1, 2, 3, 4, 5], the output would be [1, 3, 6, 10, 15]."
   ]
  },
  {
   "cell_type": "code",
   "execution_count": null,
   "id": "66e67288-9f96-4c6a-bfbc-0972339646f8",
   "metadata": {},
   "outputs": [],
   "source": []
  },
  {
   "cell_type": "markdown",
   "id": "6059a982-d85f-4861-9cea-f9283ff30206",
   "metadata": {},
   "source": [
    "2. Write a function called is_sorted() that takes a list as a parameter and returns True if the list is sorted and False otherwise. The function will have two parameters, is_sorted(l, ascending):\n",
    "* l will be the list.\n",
    "* ascending which will be a boolean variable: if it's True, the function will check if values are sorted in ascending order; if it's False, it will check if values are sorted in descending order.\n",
    "\n",
    "Note: equal numbers are considered sorted, i.e. [1, 5, 5, 7] is sorted in ascending order."
   ]
  },
  {
   "cell_type": "code",
   "execution_count": null,
   "id": "db1e9647-51bd-4821-bf48-c85a12c1d1b3",
   "metadata": {},
   "outputs": [],
   "source": []
  },
  {
   "cell_type": "markdown",
   "id": "61703658-4f51-45c4-944e-4c4f297dbac1",
   "metadata": {},
   "source": [
    "3. Given a sentence or a collection of words as input, find the pair of words within the sentence that have most common characters between them (or one of the top pairs if there is a tie). For example, in the sequence, 'chocolate tower vanilla motorway cinnamon', the word pair with most common characters between them is 'tower - motorway' (4 common characters). Note: duplicate characters don't count, i.e. the letter 'a' is only counted once in 'vanilla'.\n",
    "\n",
    "The full calculation for the above example would be:\n",
    "* chocolate - tower: 3 common characters\n",
    "* chocolate - vanilla: 2\n",
    "* chocolate - motorway: 3\n",
    "* chocolate - cinnamon: 3\n",
    "* tower - vanilla: 0\n",
    "* tower - motorway: 4\n",
    "* tower - cinnamon: 1\n",
    "* vanilla - motorway: 1\n",
    "* vanilla - cinnamon: 3\n",
    "* motorway - cinnamon: 3"
   ]
  },
  {
   "cell_type": "code",
   "execution_count": null,
   "id": "aeb3b72c-7852-4568-bb49-4cb02ae7a53b",
   "metadata": {},
   "outputs": [],
   "source": []
  },
  {
   "cell_type": "markdown",
   "id": "1668a304-92f2-43df-a47c-cdad0e963b5d",
   "metadata": {},
   "source": [
    "4. We are given two lists, l1 and l2, as input. We can assume that both l1 and l2 contain numeric values only and are sorted. Write a function combine_sorted() that combines the values of lists l1 and l2 into a new list, l3, where values are sorted.\n",
    "\n",
    "e.g. for:\n",
    "- l1 = [4, 5, 9, 12, 18]\n",
    "- l2 = [2, 6, 8, 13, 20]\n",
    "\n",
    "the output will be l3 = [2, 4, 5, 6, 8, 9, 12, 13, 18, 20]"
   ]
  },
  {
   "cell_type": "code",
   "execution_count": null,
   "id": "bc99aadd-50df-43b0-9698-79bb3c9940dd",
   "metadata": {},
   "outputs": [],
   "source": []
  },
  {
   "cell_type": "markdown",
   "id": "aba29b25-b6a9-4034-8942-5adf901faf2e",
   "metadata": {},
   "source": [
    "5. Write a function permutation_list(), which takes three characters as input, and produces a list with all possible permutations of those three characters without repeating any characters.\n",
    "\n",
    "e.g. permutation_list('a', 'b', 'c') should produce a list with:\n",
    "- 'abc'\n",
    "- 'acb'\n",
    "- 'bac'\n",
    "- 'bca'\n",
    "- 'cab'\n",
    "- 'cba'"
   ]
  },
  {
   "cell_type": "code",
   "execution_count": null,
   "id": "d30f4ba2-37d0-41e8-9f72-cf01b2b51d8f",
   "metadata": {},
   "outputs": [],
   "source": []
  },
  {
   "cell_type": "markdown",
   "id": "4a130374-3ea9-4b72-b79d-ac323fa9b3c4",
   "metadata": {},
   "source": [
    "6. Given a list as input, create a new list with the items that have at least a duplicate.\n",
    "\n",
    "e.g. from a = [1, 2, 3, 1, 1, 4, 7, 7], the output would be dup = [1, 7]"
   ]
  },
  {
   "cell_type": "code",
   "execution_count": null,
   "id": "38205633-2cee-4ea3-9e2a-66897a21eb38",
   "metadata": {},
   "outputs": [],
   "source": []
  },
  {
   "cell_type": "markdown",
   "id": "1587e361-1b88-4538-84dc-b109131d1f3c",
   "metadata": {},
   "source": [
    "# Practice exercises \\#6"
   ]
  },
  {
   "cell_type": "markdown",
   "id": "a7e7f473-9c18-4537-be31-12bff783858a",
   "metadata": {},
   "source": [
    "1. Given two dictionaries as input, produce the list of keys present in both dictionaries, i.e. the intersection of keys across two dictionaries.\n",
    "\n",
    "You may use the following dictionaries to test your code:\n",
    "\n",
    "```\n",
    "d1 = {'a': 1, 'b': 2, 'c': 3, 'd': 4}\n",
    "d2 = {'c': 1, 'd': 2, 'e': 3, 'f': 4}\n",
    "```"
   ]
  },
  {
   "cell_type": "code",
   "execution_count": null,
   "id": "4d227ec6-3810-4be7-992a-b548a1b0a4c9",
   "metadata": {},
   "outputs": [],
   "source": []
  },
  {
   "cell_type": "markdown",
   "id": "633fa746-3973-42a4-bc65-9d2ad68d4e2c",
   "metadata": {},
   "source": [
    "2. Suppose we are given a dictionary where the keys are words and the values indicate their count or frequency. We want to write a function that inverts this dictionary, i.e. creates a new dictionary where the key is (a string version of) a count, and the value is a list of words that have that frequency.\n",
    "\n",
    "You may test your function using the following dictionary:\n",
    "\n",
    "```\n",
    "wordfreqs = {'word1': 1, 'word2': 2, 'word3': 3, 'word4': 1, 'word5': 1, 'word6': 2, 'word7': 4, 'word8': 4}\n",
    "```\n",
    "\n",
    "The expected output for the above example would be:\n",
    "\n",
    "```\n",
    "{'1': ['word1', 'word4', 'word5'], '2': ['word2', 'word6'], '3': ['word3'], '4': ['word7', 'word8']}\n",
    "```"
   ]
  },
  {
   "cell_type": "code",
   "execution_count": null,
   "id": "6d87723a-63f9-44af-ab01-2ca34996acb8",
   "metadata": {},
   "outputs": [],
   "source": []
  },
  {
   "cell_type": "markdown",
   "id": "25c8090a-8734-48e5-be01-ad4cebe70316",
   "metadata": {},
   "source": [
    "3. Having two lists as input, l1 and l2, create a dictionary where the keys are the values from l1 and the values are those from l2.\n",
    "\n",
    "For example, if the lists are:\n",
    "\n",
    "```\n",
    "l1 = ['k1', 'k2', 'k3', 'k4', 'k5']\n",
    "l2 = [5, 10, 15, 20, 25]\n",
    "```\n",
    "\n",
    "Then the output dictionary would be:\n",
    "\n",
    "```\n",
    "{'k1': 5, 'k2': 10, 'k3': 15, 'k4': 20, 'k5': 25}\n",
    "```"
   ]
  },
  {
   "cell_type": "code",
   "execution_count": null,
   "id": "b3e7e221-f618-4248-8232-2b61da780eed",
   "metadata": {},
   "outputs": [],
   "source": []
  },
  {
   "cell_type": "markdown",
   "id": "74a5dfdf-99c3-46de-9f2a-07d55711bb45",
   "metadata": {},
   "source": [
    "4. Given a particular value as input, find all the keys in a dictionary that match that value.\n",
    "\n",
    "For example, given the dictionary:\n",
    "\n",
    "```\n",
    "mydict = {'a': 5, 'b': 10, 'c': 5, 'd': 25, 'e': 20, 'f': 5}\n",
    "```\n",
    "\n",
    "And the value 5 as the one to match, the output would be the keys: 'a', 'c' and 'f'"
   ]
  },
  {
   "cell_type": "code",
   "execution_count": null,
   "id": "23acc662-820d-45f0-bbae-28b8fa6d9bc8",
   "metadata": {},
   "outputs": [],
   "source": []
  },
  {
   "cell_type": "markdown",
   "id": "c9da30c7-8beb-4875-82d1-bee2207b1fae",
   "metadata": {},
   "source": [
    "5. Given a list of words, e.g.:\n",
    "\n",
    "```\n",
    "words = ['about', 'and', 'at', 'to', 'two', 'ten', 'tone']\n",
    "```\n",
    "\n",
    "Create a dictionary with the count of occurrences based on the first letter of the words, i.e.:\n",
    "\n",
    "```\n",
    "counts = {'a': 3, 't': 4}\n",
    "```"
   ]
  },
  {
   "cell_type": "code",
   "execution_count": null,
   "id": "29a9bc7d-733c-4c98-adcd-a4ff871063cc",
   "metadata": {},
   "outputs": [],
   "source": []
  },
  {
   "cell_type": "markdown",
   "id": "b361aa49-a247-4b15-8f83-2055f7ed22d6",
   "metadata": {},
   "source": [
    "# Practice exercises \\#7"
   ]
  },
  {
   "cell_type": "markdown",
   "id": "36605210-77ea-461d-90b2-69be81d71510",
   "metadata": {},
   "source": [
    "For the following exercises, you will use the text file with the Oliver Twist book, which you can download from https://gutenberg.org/cache/epub/730/pg730.txt and load it as a file, or alternatively access it through an HTTP request, as you prefer.\n",
    "\n",
    "**Note:** For this set of exercises, you should remove all the punctuation prior to processing the text. To do this, you can use the following, where *text* is the variable where you want to remove the punctuation:\n",
    "\n",
    "```\n",
    "import string\n",
    "\n",
    "translator = str.maketrans('', '', string.punctuation)\n",
    "text.translate(translator)\n",
    "```\n",
    "\n",
    "The following questions refer to the text of this book:"
   ]
  },
  {
   "cell_type": "markdown",
   "id": "f1b6cf5c-1b16-4d7b-a4da-3451448c87d2",
   "metadata": {},
   "source": [
    "1. Count the number of words (of any length) that only contain letters within the a-g range in the alphabet."
   ]
  },
  {
   "cell_type": "code",
   "execution_count": null,
   "id": "4da771e8-f1e5-4fc3-80f1-8da8fad1bba4",
   "metadata": {},
   "outputs": [],
   "source": []
  },
  {
   "cell_type": "markdown",
   "id": "cbfd31bd-2a27-4c76-9781-50e008fb2373",
   "metadata": {},
   "source": [
    "2. What is the most frequent of all the words that match the above criterion of only using letters within the range a-g?"
   ]
  },
  {
   "cell_type": "code",
   "execution_count": null,
   "id": "efe50b4b-674e-43a0-bc5e-15a822b3066d",
   "metadata": {},
   "outputs": [],
   "source": []
  },
  {
   "cell_type": "markdown",
   "id": "8c58a7bc-c8f0-48c8-96e0-09ccad96196b",
   "metadata": {},
   "source": [
    "3. How many lines of the book have at least a number in them?"
   ]
  },
  {
   "cell_type": "code",
   "execution_count": null,
   "id": "fa82c800-7a50-4417-b36c-7f23eaf2f799",
   "metadata": {},
   "outputs": [],
   "source": []
  },
  {
   "cell_type": "markdown",
   "id": "4c648d5b-947b-46cb-b2a4-09d5cf517f26",
   "metadata": {},
   "source": [
    "For the following exercise, you will use the text file with the Romeo and Juliet book (in addition to the Olivier Twist book which you've already downloaded). You can get the text of Romeo and Juliet from https://gutenberg.org/cache/epub/1513/pg1513.txt (again feel free to download it or access it through HTTP request).\n",
    "\n",
    "4. With these two books, after lowercasing and stripping punctuation, identify the number of words that are used in both books, as well as the number of words that are exclusive to each book. You should count each word only once, regardless of its number of occurrences within a book."
   ]
  },
  {
   "cell_type": "code",
   "execution_count": null,
   "id": "ea33d7d0-106b-4202-b77d-2ea2f85efdee",
   "metadata": {},
   "outputs": [],
   "source": []
  },
  {
   "cell_type": "markdown",
   "id": "5d6c652f-8baf-456a-82ea-0046b3ab632e",
   "metadata": {},
   "source": [
    "For the following exercises, you will use a dataset comprising food hygiene ratings pertaining to over 600k businesses across the UK. This is a real dataset obtained from the UK's Food Standards Agency, where each business is rated with a score from 0 (urgent improvement necessary) to 5 (very good). The dataset is provided in json format, in a file called 'food-hygiene-ratings.json'. Each entry in the dataset contains a business which, in addition to the hygiene rating score, provides information on the business type, its address, its local authority, etc.\n",
    "\n",
    "The following questions are to be answered by using this dataset:"
   ]
  },
  {
   "cell_type": "markdown",
   "id": "c6362a5a-340c-4d77-b42e-c0d39a6f6441",
   "metadata": {},
   "source": [
    "5. If we group businesses by their local authority area (the 'LocalAuthorityName' field), what is the area with lower average rating across all its businesses?"
   ]
  },
  {
   "cell_type": "code",
   "execution_count": null,
   "id": "9198031e-7333-4609-a3b7-0695db93de3d",
   "metadata": {},
   "outputs": [],
   "source": []
  },
  {
   "cell_type": "markdown",
   "id": "1ca4f394-e28e-4a2a-8dd0-91b11f8679fe",
   "metadata": {},
   "source": [
    "6. The 'RatingDate' indicates the date in which the Food Standards Agency last inspected a business. Using the information in this field for all businesses, produce a ranking of the months where the Food Standards Agency conducts its inspection (ranked from most to least)."
   ]
  },
  {
   "cell_type": "code",
   "execution_count": null,
   "id": "9b2a03bb-4188-4f6a-978a-19b23c9b6fd3",
   "metadata": {},
   "outputs": [],
   "source": []
  },
  {
   "cell_type": "markdown",
   "id": "03dbd123",
   "metadata": {},
   "source": [
    "# Practice exercises \\#8"
   ]
  },
  {
   "cell_type": "markdown",
   "id": "59d8a56b",
   "metadata": {},
   "source": [
    "For the following exercises, you will use a dataset comprising food hygiene ratings pertaining to over 600k businesses across the UK. This is a real dataset obtained from the UK's Food Standards Agency, where each business is rated with a score from 0 (urgent improvement necessary) to 5 (very good). The dataset is provided in json format, in a file called 'food-hygiene-ratings.json'. Each entry in the dataset contains a business which, in addition to the hygiene rating score, provides information on the business type, its address, its local authority, etc.\n",
    "\n",
    "The following questions are to be answered by using this dataset:"
   ]
  },
  {
   "cell_type": "markdown",
   "id": "77ac9e26",
   "metadata": {},
   "source": [
    "1. Create a new python class structure FHR which contains information from the food hygiene ratings dataset. The class will contain the following attributes:\n",
    "* **local_authorities**: a dictionary of local authorities, where the key is 'LocalAuthorityCode' and the value is 'LocalAuthorityName'.\n",
    "* **businesses**, which contains a list of businesses, where each of the businesses has the following fields:\n",
    "    * **business name** (from the field 'BusinessName')\n",
    "    * **local authority** (from the field 'LocalAuthorityCode')\n",
    "    * **rating** (from the field 'RatingValue')\n",
    "    * **rating date** (from the field 'RatingDate')\n",
    "\n",
    "The class should have three methods:\n",
    "* add_local_authority(), which will add a new local authority to *local_authorities* or update an existing entry.\n",
    "* add_business(), which will add a new business to *businesses* or update an existing entry\n",
    "* get_businesses_by_rating(), which takes a rating value and local authority ID as input and produces the list of businesses with that rating as the output."
   ]
  },
  {
   "cell_type": "code",
   "execution_count": null,
   "id": "a6baf5be",
   "metadata": {},
   "outputs": [],
   "source": []
  },
  {
   "cell_type": "markdown",
   "id": "4d2cba6e",
   "metadata": {},
   "source": [
    "2. Using the class structure above, create an instance (object of this class), and populate it with all the information from the dataset, using the add_local_authority() and add_business() methods."
   ]
  },
  {
   "cell_type": "code",
   "execution_count": null,
   "id": "d84388ef",
   "metadata": {},
   "outputs": [],
   "source": []
  },
  {
   "cell_type": "markdown",
   "id": "4fb27878-1aca-4309-a2fb-5112ce0a165a",
   "metadata": {},
   "source": [
    "3. Using the get_businesses_by_rating() method, print the list of businesses in Buckinghamshire (LocalAuthorityCode = \"021\") with a rating of 0."
   ]
  },
  {
   "cell_type": "code",
   "execution_count": null,
   "id": "4c4cc55b-eccf-4ce2-951e-cb6a1d5d9017",
   "metadata": {},
   "outputs": [],
   "source": []
  },
  {
   "cell_type": "markdown",
   "id": "ca12c161-1cb2-447e-98ce-10e199020f97",
   "metadata": {},
   "source": [
    "# Practice exercises \\#9"
   ]
  },
  {
   "cell_type": "markdown",
   "id": "3f059948-d69e-4fb8-b44e-005f82d67a77",
   "metadata": {},
   "source": [
    "1. We have two lists of values, l1 and l2, which are both of the same size n. We want to create a new list l3 which will contain n values, and where the value in index i of l3 is the multiplication of l1[i] and l2[i]. We have written the following code attempting to do this. Write an improved version that reduces its complexity. "
   ]
  },
  {
   "cell_type": "code",
   "execution_count": null,
   "id": "2254f819-fa6d-4298-8c6f-13229bd66ed5",
   "metadata": {},
   "outputs": [],
   "source": [
    "# Original\n",
    "import time\n",
    "\n",
    "stime = time.time()\n",
    "n = 15000\n",
    "\n",
    "l1 = [v for v in range(n)]\n",
    "l2 = [v for v in range(n)]\n",
    "\n",
    "l3 = []\n",
    "\n",
    "index1 = 0\n",
    "for v1 in l1:\n",
    "    index2 = 0\n",
    "    for v2 in l2:\n",
    "        if index1 == index2:\n",
    "            l3.append(v1 * v2)\n",
    "        index2 += 1\n",
    "    index1 += 1\n",
    "\n",
    "etime = time.time()\n",
    "    \n",
    "print('Took', str(etime - stime), 'seconds.')"
   ]
  },
  {
   "cell_type": "code",
   "execution_count": null,
   "id": "344e7519-2454-4ad6-908e-3d23b6360a43",
   "metadata": {},
   "outputs": [],
   "source": [
    "# You may write your answer here\n",
    "\n"
   ]
  }
 ],
 "metadata": {
  "kernelspec": {
   "display_name": "Python 3",
   "language": "python",
   "name": "python3"
  },
  "language_info": {
   "codemirror_mode": {
    "name": "ipython",
    "version": 3
   },
   "file_extension": ".py",
   "mimetype": "text/x-python",
   "name": "python",
   "nbconvert_exporter": "python",
   "pygments_lexer": "ipython3",
   "version": "3.12.1"
  }
 },
 "nbformat": 4,
 "nbformat_minor": 5
}

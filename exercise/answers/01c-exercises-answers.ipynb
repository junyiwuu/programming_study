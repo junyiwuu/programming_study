{
 "cells": [
  {
   "cell_type": "markdown",
   "id": "7a8044c5-8e76-4844-8aca-320688ec7e76",
   "metadata": {},
   "source": [
    "# Practice exercises \\#1 with answers"
   ]
  },
  {
   "cell_type": "markdown",
   "id": "ed435318-b4a5-4243-83e5-a60e3d672140",
   "metadata": {},
   "source": [
    "1. Suppose we are going to buy 75 copies of the 'Think Python' book. Each copy costs £27.65. Because of the large size of our order, we have been offered a 20% discount on the total cost of the books. On top of that, we need to add the shipping costs, which is £0.95 for each of the first 10 books, and £0.45 for each of the remainder of the books. Calculate the total cost of our order."
   ]
  },
  {
   "cell_type": "code",
   "execution_count": 1,
   "id": "347db21f-63be-4d04-b1c0-1858cab93fd1",
   "metadata": {},
   "outputs": [
    {
     "name": "stdout",
     "output_type": "stream",
     "text": [
      "1697.75\n"
     ]
    }
   ],
   "source": [
    "# option 1\n",
    "num_books = 75\n",
    "book_cost = 27.65\n",
    "discount = 0.8\n",
    "shipping_first10 = 0.95\n",
    "shipping_others = 0.45\n",
    "\n",
    "books_total = num_books * book_cost\n",
    "books_discounted = books_total * discount\n",
    "shipping_total = 10 * shipping_first10 + (num_books - 10) * shipping_others\n",
    "\n",
    "total_cost = books_discounted + shipping_total\n",
    "print(total_cost)"
   ]
  },
  {
   "cell_type": "code",
   "execution_count": 2,
   "id": "64ab46f6-96ac-4399-a95d-6720e1c32871",
   "metadata": {},
   "outputs": [
    {
     "name": "stdout",
     "output_type": "stream",
     "text": [
      "1697.75\n"
     ]
    }
   ],
   "source": [
    "# option 2\n",
    "num_books = 75\n",
    "book_cost = 27.65\n",
    "discount = 0.8\n",
    "shipping_first10 = 0.95\n",
    "shipping_others = 0.45\n",
    "\n",
    "total_cost = num_books * book_cost * discount + 10 * shipping_first10 + (num_books - 10) * shipping_others\n",
    "print(total_cost)"
   ]
  },
  {
   "cell_type": "markdown",
   "id": "f6f535c8-1b2f-4c99-ba7d-cbcd604e0b0c",
   "metadata": {},
   "source": [
    "2. Sarah has completed a marathon in 9,752 seconds. Break down the time into hours, minutes and seconds."
   ]
  },
  {
   "cell_type": "code",
   "execution_count": 8,
   "id": "f8f50acc-984f-45a3-9131-721002756d33",
   "metadata": {},
   "outputs": [
    {
     "name": "stdout",
     "output_type": "stream",
     "text": [
      "Sarah completed the marathon in 2 hours,  42 minutes, and 32 seconds.\n"
     ]
    }
   ],
   "source": [
    "# option 1: bottom up\n",
    "total_secs = 9752\n",
    "\n",
    "remainder_secs = total_secs % 60\n",
    "secs_to_be_computed = total_secs - remainder_secs\n",
    "mins_to_be_computed = secs_to_be_computed / 60\n",
    "remainder_mins = int(mins_to_be_computed) % 60\n",
    "hours = int(mins_to_be_computed / 60)\n",
    "\n",
    "print('Sarah completed the marathon in', hours, 'hours, ', remainder_mins, 'minutes, and', remainder_secs, 'seconds.')"
   ]
  },
  {
   "cell_type": "code",
   "execution_count": 6,
   "id": "a3dcf8e2-32e9-4209-907a-fb1f070a29ff",
   "metadata": {},
   "outputs": [
    {
     "name": "stdout",
     "output_type": "stream",
     "text": [
      "Sarah completed the marathon in 2 hours,  42 minutes, and 32 seconds.\n"
     ]
    }
   ],
   "source": [
    "# option 2: top down\n",
    "total_secs = 9752\n",
    "\n",
    "hours = int(total_secs / (60 * 60))\n",
    "secs_to_be_computed = total_secs - hours * 60 * 60\n",
    "minutes = int(secs_to_be_computed / 60)\n",
    "secs = secs_to_be_computed - minutes * 60\n",
    "\n",
    "print('Sarah completed the marathon in', hours, 'hours, ', minutes, 'minutes, and', secs, 'seconds.')"
   ]
  },
  {
   "cell_type": "markdown",
   "id": "ae89c274-3f47-43a8-b970-91ecf879c0b4",
   "metadata": {},
   "source": [
    "3. Four athletes (A, B, C, D) make up a team competing in 4x100m relay, i.e. an athletics track run where four runners run 100m each after each other. Each of the team members runs at the following average speeds:\n",
    "- A: 9.10 m/s\n",
    "- B: 9.25 m/s\n",
    "- C: 9.05 m/s\n",
    "- D: 9.45 m/s\n",
    "\n",
    "How long will it take for them to complete the 400 metres?\n",
    "\n",
    "For the purposes of this exercise, assume the above are average speeds throughout their entire run, i.e. ignore the fact that speed may be slower at the start and when transferring the baton, for example."
   ]
  },
  {
   "cell_type": "code",
   "execution_count": 10,
   "id": "e270121b-42a0-4121-b9f7-1a832b82cbb8",
   "metadata": {},
   "outputs": [
    {
     "name": "stdout",
     "output_type": "stream",
     "text": [
      "They will need 43.43155613873846 seconds to complete the run.\n"
     ]
    }
   ],
   "source": [
    "a = 9.10\n",
    "b = 9.25\n",
    "c = 9.05\n",
    "d = 9.45\n",
    "\n",
    "total_secs = 100 / a + 100 / b + 100 / c + 100 / d\n",
    "print('They will need', total_secs, 'seconds to complete the run.')"
   ]
  },
  {
   "cell_type": "markdown",
   "id": "939b1230-5b32-472d-b41f-0bcabe2304c3",
   "metadata": {},
   "source": [
    "4. A coffee shop offers every 5th coffee within a single purchase for free. That is:\n",
    "- if you buy 5 coffees, you pay 4.\n",
    "- if you buy 10 coffees, you pay 8.\n",
    "- if you buy 9 coffees, you pay 8 (you only qualify for 1 free coffee).\n",
    "\n",
    "For a purchase order of 37 coffees, at £3.75 a coffee, how much do we need to pay after applying the above discounts?"
   ]
  },
  {
   "cell_type": "code",
   "execution_count": 15,
   "id": "293717bb-f8c6-4a58-8186-a1e1161b3b94",
   "metadata": {},
   "outputs": [
    {
     "name": "stdout",
     "output_type": "stream",
     "text": [
      "We've ordered 37 coffees, which qualifies us for 7 free coffees. As we need to pay for 30 in the end, we will pay £ 112.5\n"
     ]
    }
   ],
   "source": [
    "# Basically, the number of coffees we get for free it the floor division n // 5, where n is the number of coffees ordered\n",
    "\n",
    "num_coffees = 37\n",
    "price = 3.75\n",
    "\n",
    "free_coffees = num_coffees // 5 # also: int(num_coffees / 5) or ((num_coffees - num_coffees % 5) / 5)\n",
    "coffees_to_pay = num_coffees - free_coffees\n",
    "\n",
    "total_price = coffees_to_pay * price\n",
    "\n",
    "print('We\\'ve ordered', num_coffees, 'coffees, which qualifies us for', free_coffees, 'free coffees. As we need to pay for', coffees_to_pay, 'in the end, we will pay £', total_price)"
   ]
  }
 ],
 "metadata": {
  "kernelspec": {
   "display_name": "Python 3",
   "language": "python",
   "name": "python3"
  },
  "language_info": {
   "codemirror_mode": {
    "name": "ipython",
    "version": 3
   },
   "file_extension": ".py",
   "mimetype": "text/x-python",
   "name": "python",
   "nbconvert_exporter": "python",
   "pygments_lexer": "ipython3",
   "version": "3.11.4"
  }
 },
 "nbformat": 4,
 "nbformat_minor": 5
}

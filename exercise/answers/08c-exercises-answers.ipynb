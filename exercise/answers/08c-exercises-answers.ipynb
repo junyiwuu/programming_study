{
 "cells": [
  {
   "cell_type": "markdown",
   "id": "b361aa49-a247-4b15-8f83-2055f7ed22d6",
   "metadata": {},
   "source": [
    "# Practice exercises \\#8"
   ]
  },
  {
   "cell_type": "markdown",
   "id": "36605210-77ea-461d-90b2-69be81d71510",
   "metadata": {},
   "source": [
    "For the following exercises, you will use a dataset comprising food hygiene ratings pertaining to over 600k businesses across the UK. This is a real dataset obtained from the UK's Food Standards Agency, where each business is rated with a score from 0 (urgent improvement necessary) to 5 (very good). The dataset is provided in json format, in a file called 'food-hygiene-ratings.json'. Each entry in the dataset contains a business which, in addition to the hygiene rating score, provides information on the business type, its address, its local authority, etc.\n",
    "\n",
    "The following questions are to be answered by using this dataset:"
   ]
  },
  {
   "cell_type": "markdown",
   "id": "8c58a7bc-c8f0-48c8-96e0-09ccad96196b",
   "metadata": {},
   "source": [
    "1. Create a new python class structure FHR which contains information from the food hygiene ratings dataset. The class will contain the following attributes:\n",
    "* **local_authorities**: a dictionary of local authorities, where the key is 'LocalAuthorityCode' and the value is 'LocalAuthorityName'.\n",
    "* **businesses**, which contains a list of businesses, where each of the businesses has the following fields:\n",
    "    * **business name** (from the field 'BusinessName')\n",
    "    * **local authority** (from the field 'LocalAuthorityCode')\n",
    "    * **rating** (from the field 'RatingValue')\n",
    "    * **rating date** (from the field 'RatingDate')\n",
    "\n",
    "The class should have three methods:\n",
    "* add_local_authority(), which will add a new local authority to *local_authorities* or update an existing entry.\n",
    "* add_business(), which will add a new business to *businesses* or update an existing entry\n",
    "* get_businesses(), which takes a rating value and local authority ID as input and produces the list of businesses with that rating as the output."
   ]
  },
  {
   "cell_type": "code",
   "execution_count": 42,
   "id": "fa82c800-7a50-4417-b36c-7f23eaf2f799",
   "metadata": {},
   "outputs": [],
   "source": [
    "class FHR:\n",
    "    local_authorities = {}\n",
    "    businesses = []\n",
    "    \n",
    "    def add_local_authority(self, code, name):\n",
    "        self.local_authorities[code] = name\n",
    "        \n",
    "    def add_business(self, name, authority, rating, rating_date):\n",
    "        self.businesses.append({'name': name, 'authority': authority, 'rating': rating, 'rating_date': rating_date})\n",
    "        \n",
    "    def get_businesses(self, rating, authority):\n",
    "        print('List of businesses from ' + authority + ' with a rating of ' + str(rating) + '.')\n",
    "        for business in self.businesses:\n",
    "            if business['rating'] == rating and business['authority'] == authority:\n",
    "                print(business['name'])"
   ]
  },
  {
   "cell_type": "markdown",
   "id": "4c648d5b-947b-46cb-b2a4-09d5cf517f26",
   "metadata": {},
   "source": [
    "2. Using the class structure above, create an instance (object of this class), and populate it with all the information from the dataset, using the add_local_authority() and add_business() methods."
   ]
  },
  {
   "cell_type": "code",
   "execution_count": 44,
   "id": "ea33d7d0-106b-4202-b77d-2ea2f85efdee",
   "metadata": {},
   "outputs": [],
   "source": [
    "import json\n",
    "\n",
    "businesses = FHR()\n",
    "with open('08b-food-hygiene-ratings.json', 'r') as fh:\n",
    "    for line in fh:\n",
    "        business = json.loads(line)\n",
    "        \n",
    "        lac = business['LocalAuthorityCode']\n",
    "        lan = business['LocalAuthorityName']\n",
    "        businesses.add_local_authority(lac, lan)\n",
    "        \n",
    "        name = business['BusinessName']\n",
    "        rating = business['RatingValue']\n",
    "        rating_date = business['RatingDate']\n",
    "        businesses.add_business(name, lac, rating, rating_date)"
   ]
  },
  {
   "cell_type": "markdown",
   "id": "4fb27878-1aca-4309-a2fb-5112ce0a165a",
   "metadata": {},
   "source": [
    "3. Using the get_businesses() method, print the list of businesses in Buckinghamshire (LocalAuthorityCode = \"021\") with a rating of 0."
   ]
  },
  {
   "cell_type": "code",
   "execution_count": 45,
   "id": "4c4cc55b-eccf-4ce2-951e-cb6a1d5d9017",
   "metadata": {},
   "outputs": [
    {
     "name": "stdout",
     "output_type": "stream",
     "text": [
      "List of businesses from 021 with a rating of 0.\n",
      "Madina Superstore\n",
      "The Red Lion Public House\n"
     ]
    }
   ],
   "source": [
    "businesses.get_businesses('0', '021')"
   ]
  },
  {
   "cell_type": "code",
   "execution_count": null,
   "id": "72f09dbc-e023-43ed-862e-e44e344b0012",
   "metadata": {},
   "outputs": [],
   "source": []
  }
 ],
 "metadata": {
  "kernelspec": {
   "display_name": "Python 3",
   "language": "python",
   "name": "python3"
  },
  "language_info": {
   "codemirror_mode": {
    "name": "ipython",
    "version": 3
   },
   "file_extension": ".py",
   "mimetype": "text/x-python",
   "name": "python",
   "nbconvert_exporter": "python",
   "pygments_lexer": "ipython3",
   "version": "3.12.3"
  }
 },
 "nbformat": 4,
 "nbformat_minor": 5
}

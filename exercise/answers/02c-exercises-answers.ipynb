{
 "cells": [
  {
   "cell_type": "markdown",
   "id": "2f3a53a7-6334-4f07-894a-b10363a75f31",
   "metadata": {},
   "source": [
    "# Practice exercises \\#2 with answers"
   ]
  },
  {
   "cell_type": "markdown",
   "id": "64660259-a074-4f08-b42f-19c89528d369",
   "metadata": {},
   "source": [
    "1. The factorial of a number **n** is defined as **n!** and is calculated as: **n! = n \\* (n-1)!**. For example, the factorial of **4** is **4 \\* 3!**, then **3! = 3 * 2!**, etc. until we reach 1. Therefore, **4! = 4 \\* 3 \\* 2 \\* 1**. Using the python that we've learnt so far, write the python code that calculates the factorials for all values between 20 and 25, i.e. 20!, 21!, 22!, 23!, 24! and 25!."
   ]
  },
  {
   "cell_type": "code",
   "execution_count": 1,
   "id": "d439aace-34e9-45a0-8000-9ca47d63d168",
   "metadata": {},
   "outputs": [
    {
     "name": "stdout",
     "output_type": "stream",
     "text": [
      "20 ! =  2432902008176640000\n",
      "21 ! =  51090942171709440000\n",
      "22 ! =  1124000727777607680000\n",
      "23 ! =  25852016738884976640000\n",
      "24 ! =  620448401733239439360000\n",
      "25 ! =  15511210043330985984000000\n"
     ]
    }
   ],
   "source": [
    "for n in range(20, 26):\n",
    "    factorial = 1\n",
    "    num = n\n",
    "    while num > 0:\n",
    "        factorial *= num\n",
    "        num -= 1\n",
    "        \n",
    "    print(n, '! = ', factorial)"
   ]
  },
  {
   "cell_type": "markdown",
   "id": "3eb44d89-267a-42b8-beda-721f65fd1958",
   "metadata": {},
   "source": [
    "2. Filling the gas tank of your car costs you £50. The owner of a gas station tells you that, every time you fill the tank with them, you will get it £1 cheaper, up to a bottom limit of £40. That is, you'll pay £50 the first time, £49 the second, ..., and £40 the 11th time and subsequently. If you fill your tank 25 times with them, how much have you paid them on aggregate?"
   ]
  },
  {
   "cell_type": "code",
   "execution_count": 32,
   "id": "8200f99a-cf7f-4a97-abc4-9f5272d78f96",
   "metadata": {},
   "outputs": [
    {
     "name": "stdout",
     "output_type": "stream",
     "text": [
      "Total cost after filling tank 25 times: £ 1055\n"
     ]
    }
   ],
   "source": [
    "price = 50\n",
    "filled = 0\n",
    "totalcost = 0\n",
    "\n",
    "while filled < 25:\n",
    "    totalcost += price\n",
    "    filled += 1\n",
    "    if price > 40:\n",
    "        price -= 1\n",
    "\n",
    "print('Total cost after filling tank 25 times: £', totalcost)"
   ]
  },
  {
   "cell_type": "markdown",
   "id": "b450d8b3-e998-4eb0-a533-215ee4db0fb1",
   "metadata": {},
   "source": [
    "3. Normally, you drive your car at 70 mph while on a motorway, at 60 mph on A-roads, 50 mph on B-roads and 30 mph while in the city. However, if you're tired, you drive 10% slower (regardless of the type of road). Given the following two variables as input, write the set of if statements that outputs the relevant speed:\n",
    "* roadtype, which is a string that can be 'motorway', 'a-road', 'b-road' or 'city'\n",
    "* tired, which is a boolean"
   ]
  },
  {
   "cell_type": "code",
   "execution_count": 33,
   "id": "49dea62c-1590-432a-bfbb-c02e6023581f",
   "metadata": {},
   "outputs": [
    {
     "name": "stdout",
     "output_type": "stream",
     "text": [
      "Your speed is: 54.0\n"
     ]
    }
   ],
   "source": [
    "roadtype = 'a-road'\n",
    "tired = True\n",
    "\n",
    "speed = 0\n",
    "if roadtype == 'motorway':\n",
    "    speed = 70\n",
    "elif roadtype == 'a-road':\n",
    "    speed = 60\n",
    "elif roadtype == 'b-road':\n",
    "    speed = 50\n",
    "elif roadtype == 'city':\n",
    "    speed = 30\n",
    "    \n",
    "if tired == True:\n",
    "    speed *= 0.9\n",
    "    \n",
    "print('Your speed is:', speed)"
   ]
  },
  {
   "cell_type": "markdown",
   "id": "fb6b1a73-54b2-4eb2-b9fe-8ef228d22e5d",
   "metadata": {},
   "source": [
    "4. Using **for** loops, produce the following triangle as an output (there are 9 lines where each line has as many stars as the line number they are in):\n",
    "\n",
    "**\\***\n",
    "\n",
    "**\\* \\***\n",
    "\n",
    "**\\* \\* \\***\n",
    "\n",
    "**\\* \\* \\* \\***\n",
    "\n",
    "**\\* \\* \\* \\* \\***\n",
    "\n",
    "**\\* \\* \\* \\* \\* \\***\n",
    "\n",
    "**\\* \\* \\* \\* \\* \\* \\***\n",
    "\n",
    "**\\* \\* \\* \\* \\* \\* \\* \\***\n",
    "\n",
    "**\\* \\* \\* \\* \\* \\* \\* \\* \\***\n",
    "\n",
    "**Hint:** using *print('something')* adds a line break after your text, whereas you can use *print('something', end='')* to avoid this line break being added."
   ]
  },
  {
   "cell_type": "code",
   "execution_count": 35,
   "id": "7aff4fb2-54bf-476b-8221-1e318abd31c4",
   "metadata": {},
   "outputs": [
    {
     "name": "stdout",
     "output_type": "stream",
     "text": [
      "\n",
      "*\n",
      "**\n",
      "***\n",
      "****\n",
      "*****\n",
      "******\n",
      "*******\n",
      "********\n"
     ]
    }
   ],
   "source": [
    "# option 1\n",
    "for i in range(1, 10):\n",
    "    for j in range(1, i):\n",
    "        print('*', end='')\n",
    "    print('')"
   ]
  },
  {
   "cell_type": "code",
   "execution_count": 1,
   "id": "f68f5829-975e-4f16-bb65-d3020ec1bbed",
   "metadata": {},
   "outputs": [
    {
     "name": "stdout",
     "output_type": "stream",
     "text": [
      "*\n",
      "**\n",
      "***\n",
      "****\n",
      "*****\n",
      "******\n",
      "*******\n",
      "********\n",
      "*********\n"
     ]
    }
   ],
   "source": [
    "# option 2\n",
    "for i in range(1, 10):\n",
    "    print(i * '*')"
   ]
  }
 ],
 "metadata": {
  "kernelspec": {
   "display_name": "Python 3",
   "language": "python",
   "name": "python3"
  },
  "language_info": {
   "codemirror_mode": {
    "name": "ipython",
    "version": 3
   },
   "file_extension": ".py",
   "mimetype": "text/x-python",
   "name": "python",
   "nbconvert_exporter": "python",
   "pygments_lexer": "ipython3",
   "version": "3.11.4"
  }
 },
 "nbformat": 4,
 "nbformat_minor": 5
}

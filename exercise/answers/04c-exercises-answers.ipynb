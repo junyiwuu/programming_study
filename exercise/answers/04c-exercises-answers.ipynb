{
 "cells": [
  {
   "cell_type": "markdown",
   "id": "a726acb5-bd3a-4bbb-8528-3c5094eba5d2",
   "metadata": {},
   "source": [
    "# Practice exercises \\#4 with answers"
   ]
  },
  {
   "cell_type": "code",
   "execution_count": 3,
   "id": "1657dc3a-c7d4-47c5-be9d-7ab158b0938b",
   "metadata": {},
   "outputs": [],
   "source": [
    "text = 'Lorem ipsum dolor sit amet, consectetur adipiscing elit, sed do eiusmod tempor incididunt ut labore et dolore magna aliqua. Ut enim ad minim veniam, quis nostrud exercitation ullamco laboris nisi ut aliquip ex ea commodo consequat. Duis aute irure dolor in reprehenderit in voluptate velit esse cillum dolore eu fugiat nulla pariatur. Excepteur sint occaecat cupidatat non proident, sunt in culpa qui officia deserunt mollit anim id est laborum.'"
   ]
  },
  {
   "cell_type": "markdown",
   "id": "8465324b-3433-41d4-8a3f-9559b5fb3854",
   "metadata": {},
   "source": [
    "For exercises 1-3 where a string is expected as input, you can use the text above as an example."
   ]
  },
  {
   "cell_type": "markdown",
   "id": "7d80ae24-c055-4e68-98b5-417dc85c942f",
   "metadata": {},
   "source": [
    "1. Given a string as input, modify it such that all vowels (a, e, i, o, u) are uppercased and all consonants are lowercased."
   ]
  },
  {
   "cell_type": "code",
   "execution_count": 5,
   "id": "b201ba36-8af8-4816-8586-17e2103252ae",
   "metadata": {},
   "outputs": [
    {
     "name": "stdout",
     "output_type": "stream",
     "text": [
      "lOrEm IpsUm dOlOr sIt AmEt, cOnsEctEtUr AdIpIscIng ElIt, sEd dO EIUsmOd tEmpOr IncIdIdUnt Ut lAbOrE Et dOlOrE mAgnA AlIqUA. Ut EnIm Ad mInIm vEnIAm, qUIs nOstrUd ExErcItAtIOn UllAmcO lAbOrIs nIsI Ut AlIqUIp Ex EA cOmmOdO cOnsEqUAt. dUIs AUtE IrUrE dOlOr In rEprEhEndErIt In vOlUptAtE vElIt EssE cIllUm dOlOrE EU fUgIAt nUllA pArIAtUr. ExcEptEUr sInt OccAEcAt cUpIdAtAt nOn prOIdEnt, sUnt In cUlpA qUI OffIcIA dEsErUnt mOllIt AnIm Id Est lAbOrUm.\n"
     ]
    }
   ],
   "source": [
    "newtext = ''\n",
    "for index in range(0, len(text)):\n",
    "    if text[index] in 'aeiouAEIOU':\n",
    "        newtext += text[index].upper()\n",
    "    else:\n",
    "        newtext += text[index].lower()\n",
    "        \n",
    "print(newtext)"
   ]
  },
  {
   "cell_type": "markdown",
   "id": "f3140909-e71c-4f1c-9019-04275e305472",
   "metadata": {},
   "source": [
    "2. Given a string as input, modify it such that all words are capitalised (i.e. first character of each word uppercased and the rest lowercased)"
   ]
  },
  {
   "cell_type": "code",
   "execution_count": 4,
   "id": "17b2a5de-a862-48b1-80b2-c365fd9f9b0a",
   "metadata": {},
   "outputs": [
    {
     "name": "stdout",
     "output_type": "stream",
     "text": [
      "Lorem Ipsum Dolor Sit Amet, Consectetur Adipiscing Elit, Sed Do Eiusmod Tempor Incididunt Ut Labore Et Dolore Magna Aliqua. Ut Enim Ad Minim Veniam, Quis Nostrud Exercitation Ullamco Laboris Nisi Ut Aliquip Ex Ea Commodo Consequat. Duis Aute Irure Dolor In Reprehenderit In Voluptate Velit Esse Cillum Dolore Eu Fugiat Nulla Pariatur. Excepteur Sint Occaecat Cupidatat Non Proident, Sunt In Culpa Qui Officia Deserunt Mollit Anim Id Est Laborum.\n"
     ]
    }
   ],
   "source": [
    "newtext = ''\n",
    "for index in range(0, len(text)):\n",
    "    if index == 0 or text[index - 1] == ' ':\n",
    "        newtext += text[index].upper()\n",
    "    else:\n",
    "        newtext += text[index].lower()\n",
    "        \n",
    "print(newtext)"
   ]
  },
  {
   "cell_type": "markdown",
   "id": "d89906c7-7003-48c3-893f-fdf943be8e8f",
   "metadata": {},
   "source": [
    "3. Given a string as input, count the number of word occurrences for each word length from 1 to 15, i.e. how many words have a length of 1, how many have a length of 2, etc."
   ]
  },
  {
   "cell_type": "code",
   "execution_count": 10,
   "id": "194600c3-6c3b-4940-9336-4459bdef5a9c",
   "metadata": {},
   "outputs": [
    {
     "name": "stdout",
     "output_type": "stream",
     "text": [
      "Words of length 1 : 0\n",
      "Words of length 2 : 13\n",
      "Words of length 3 : 5\n",
      "Words of length 4 : 9\n",
      "Words of length 5 : 12\n",
      "Words of length 6 : 7\n",
      "Words of length 7 : 9\n",
      "Words of length 8 : 3\n",
      "Words of length 9 : 5\n",
      "Words of length 10 : 3\n",
      "Words of length 11 : 1\n",
      "Words of length 12 : 1\n",
      "Words of length 13 : 1\n",
      "Words of length 14 : 0\n",
      "Words of length 15 : 0\n"
     ]
    }
   ],
   "source": [
    "for l in range(1, 16):\n",
    "    count = 0\n",
    "    for word in text.split():\n",
    "        if len(word) == l:\n",
    "            count += 1\n",
    "    print('Words of length', l, ':', count)"
   ]
  },
  {
   "cell_type": "markdown",
   "id": "e9f1a9a3-c8d2-4912-9d82-f978cccd3eb1",
   "metadata": {},
   "source": [
    "4. An abecedarian word is one where its letters are alphabetically sorted, two consecutive letters can be repeated but never go backwards in the alphabet. Examples include accent, almost or effort. Implement a function **is_abecedarian()** which, given a word as input, returns True or False depending on whether it is or not abecedarian. You may want to lowercase the input string to avoid complications."
   ]
  },
  {
   "cell_type": "code",
   "execution_count": 15,
   "id": "4475e401-466e-4685-92a6-c03ae77754d8",
   "metadata": {},
   "outputs": [
    {
     "name": "stdout",
     "output_type": "stream",
     "text": [
      "True\n"
     ]
    }
   ],
   "source": [
    "def is_abecedarian(word):\n",
    "    for index in range(0, len(word) - 1):\n",
    "        if word[index+1] < word[index]:\n",
    "            return False\n",
    "    return True\n",
    "\n",
    "print(is_abecedarian('accent'))"
   ]
  },
  {
   "cell_type": "markdown",
   "id": "92445fbf-e559-43cc-b565-1a9adde40171",
   "metadata": {},
   "source": [
    "5. We have a string made of numbers only. Write a function that determines (True / False output) if the string is fully made of odd numbers, e.g. 1793 = True, but 1875 = False."
   ]
  },
  {
   "cell_type": "code",
   "execution_count": 20,
   "id": "837a7851-681f-4ae7-af8f-8d275f54ba97",
   "metadata": {},
   "outputs": [
    {
     "data": {
      "text/plain": [
       "True"
      ]
     },
     "execution_count": 20,
     "metadata": {},
     "output_type": "execute_result"
    }
   ],
   "source": [
    "def all_odd_numbers(text):\n",
    "    if not text.isnumeric(): # not needed if we assume input is numeric\n",
    "        return False\n",
    "    \n",
    "    for index in range(0, len(text)): # traverse all digits - if any of them isn't odd, return False\n",
    "        if int(text[index]) % 2 != 1:\n",
    "            return False\n",
    "        \n",
    "    return True # if we've made it this far, i.e. without returning False to any of the digits, then we're certain it's True\n",
    "\n",
    "all_odd_numbers('1793')"
   ]
  },
  {
   "cell_type": "markdown",
   "id": "30d0322a-7a91-4c08-80a8-bd17b578758a",
   "metadata": {},
   "source": [
    "6. Given a string as input, write a function is_palindrome() that determines if the string in question is a palindrome, i.e. a string that reads the same backwards as forwards. For example, the words 'level' and 'madam' are palindromes."
   ]
  },
  {
   "cell_type": "code",
   "execution_count": 1,
   "id": "3c9cdb92-19c1-4dfe-87a1-e69d9a39eebb",
   "metadata": {},
   "outputs": [
    {
     "data": {
      "text/plain": [
       "True"
      ]
     },
     "execution_count": 1,
     "metadata": {},
     "output_type": "execute_result"
    }
   ],
   "source": [
    "# option 1:\n",
    "def is_palindrome(word):\n",
    "    l = list(word)\n",
    "    for index in range(int(len(l) / 2) + 1): # traverse the list from the beginning to the middle + 1\n",
    "        if l[index] != l[-index - 1]: # check if character with the same offset from the beginning and end match each other\n",
    "            return False\n",
    "    return True\n",
    "\n",
    "w = 'level'\n",
    "is_palindrome(w)"
   ]
  },
  {
   "cell_type": "code",
   "execution_count": 2,
   "id": "a7df7ac8-3c23-488a-adb7-1a43c7d4359d",
   "metadata": {},
   "outputs": [
    {
     "data": {
      "text/plain": [
       "True"
      ]
     },
     "execution_count": 2,
     "metadata": {},
     "output_type": "execute_result"
    }
   ],
   "source": [
    "# option 2:\n",
    "def is_palindrome(word):\n",
    "    return word == word[::-1]\n",
    "\n",
    "w = 'level'\n",
    "is_palindrome(w)"
   ]
  },
  {
   "cell_type": "markdown",
   "id": "6d42c5d9-45f4-4217-89e1-fbaccdba333c",
   "metadata": {},
   "source": [
    "7. Modify the is_palindrome() function above so that it can also determine if a longer sentence (not just a word) is a palindrome, ignoring any spaces in the sentence. For example, 'was it a car or a cat i saw' is an example of a palindrome sentence."
   ]
  },
  {
   "cell_type": "code",
   "execution_count": 4,
   "id": "17aefa88-efd3-4724-b572-298f45bc3733",
   "metadata": {},
   "outputs": [
    {
     "data": {
      "text/plain": [
       "True"
      ]
     },
     "execution_count": 4,
     "metadata": {},
     "output_type": "execute_result"
    }
   ],
   "source": [
    "# option 1:\n",
    "def is_palindrome(sentence):\n",
    "    sentence = sentence.replace(' ', '') # we simply remove spaces from the sentence, i.e. replace spaces by empty strings\n",
    "    l = list(sentence)\n",
    "    for index in range(int(len(l) / 2) + 1):\n",
    "        if l[index] != l[-index - 1]:\n",
    "            return False\n",
    "    return True\n",
    "\n",
    "s = 'was it a car or a cat i saw'\n",
    "is_palindrome(s)"
   ]
  },
  {
   "cell_type": "code",
   "execution_count": 5,
   "id": "cdd1d308-8792-4a9d-b918-abe3674d7baa",
   "metadata": {},
   "outputs": [
    {
     "data": {
      "text/plain": [
       "True"
      ]
     },
     "execution_count": 5,
     "metadata": {},
     "output_type": "execute_result"
    }
   ],
   "source": [
    "# option 2:\n",
    "def is_palindrome(sentence):\n",
    "    sentence = sentence.replace(' ', '')\n",
    "    return sentence == sentence[::-1]\n",
    "\n",
    "s = 'was it a car or a cat i saw'\n",
    "is_palindrome(s)"
   ]
  }
 ],
 "metadata": {
  "kernelspec": {
   "display_name": "Python 3",
   "language": "python",
   "name": "python3"
  },
  "language_info": {
   "codemirror_mode": {
    "name": "ipython",
    "version": 3
   },
   "file_extension": ".py",
   "mimetype": "text/x-python",
   "name": "python",
   "nbconvert_exporter": "python",
   "pygments_lexer": "ipython3",
   "version": "3.11.4"
  }
 },
 "nbformat": 4,
 "nbformat_minor": 5
}

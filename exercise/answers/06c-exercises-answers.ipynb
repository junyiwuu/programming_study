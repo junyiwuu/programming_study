{
 "cells": [
  {
   "cell_type": "markdown",
   "id": "1587e361-1b88-4538-84dc-b109131d1f3c",
   "metadata": {},
   "source": [
    "# Practice exercises \\#6 with answers"
   ]
  },
  {
   "cell_type": "markdown",
   "id": "a7e7f473-9c18-4537-be31-12bff783858a",
   "metadata": {},
   "source": [
    "1. Given two dictionaries as input, produce the list of keys present in both dictionaries, i.e. the intersection of keys across two dictionaries.\n",
    "\n",
    "You may use the following dictionaries to test your code:\n",
    "\n",
    "```\n",
    "d1 = {'a': 1, 'b': 2, 'c': 3, 'd': 4}\n",
    "d2 = {'c': 1, 'd': 2, 'e': 3, 'f': 4}\n",
    "```"
   ]
  },
  {
   "cell_type": "code",
   "execution_count": 2,
   "id": "4d227ec6-3810-4be7-992a-b548a1b0a4c9",
   "metadata": {},
   "outputs": [
    {
     "data": {
      "text/plain": [
       "{'c', 'd'}"
      ]
     },
     "execution_count": 2,
     "metadata": {},
     "output_type": "execute_result"
    }
   ],
   "source": [
    "def get_key_intersection(d1, d2):\n",
    "    k1 = set(d1.keys())\n",
    "    k2 = set(d2.keys())\n",
    "    \n",
    "    return k1.intersection(k2)\n",
    "\n",
    "d1 = {'a': 1, 'b': 2, 'c': 3, 'd': 4}\n",
    "d2 = {'c': 1, 'd': 2, 'e': 3, 'f': 4}\n",
    "\n",
    "get_key_intersection(d1, d2)"
   ]
  },
  {
   "cell_type": "markdown",
   "id": "633fa746-3973-42a4-bc65-9d2ad68d4e2c",
   "metadata": {},
   "source": [
    "2. Suppose we are given a dictionary where the keys are words and the values indicate their count or frequency. We want to write a function that inverts this dictionary, i.e. creates a new dictionary where the key is (a string version of) a count, and the value is a list of words that have that frequency.\n",
    "\n",
    "You may test your function using the following dictionary:\n",
    "\n",
    "```\n",
    "wordfreqs = {'word1': 1, 'word2': 2, 'word3': 3, 'word4': 1, 'word5': 1, 'word6': 2, 'word7': 4, 'word8': 4}\n",
    "```\n",
    "\n",
    "The expected output for the above example would be:\n",
    "\n",
    "```\n",
    "{'1': ['word1', 'word4', 'word5'], '2': ['word2', 'word6'], '3': ['word3'], '4': ['word7', 'word8']}\n",
    "```"
   ]
  },
  {
   "cell_type": "code",
   "execution_count": 3,
   "id": "6d87723a-63f9-44af-ab01-2ca34996acb8",
   "metadata": {},
   "outputs": [
    {
     "data": {
      "text/plain": [
       "{'1': ['word1', 'word4', 'word5'],\n",
       " '2': ['word2', 'word6'],\n",
       " '3': ['word3'],\n",
       " '4': ['word7', 'word8']}"
      ]
     },
     "execution_count": 3,
     "metadata": {},
     "output_type": "execute_result"
    }
   ],
   "source": [
    "def invert_wordcount(wordfreqs):\n",
    "    freqwords = {}\n",
    "    for word, freq in wordfreqs.items():\n",
    "        sfreq = str(freq)\n",
    "        if sfreq in freqwords:\n",
    "            freqwords[sfreq].append(word)\n",
    "        else:\n",
    "            freqwords[sfreq] = [word]\n",
    "            \n",
    "    return freqwords\n",
    "\n",
    "wordfreqs = {'word1': 1, 'word2': 2, 'word3': 3, 'word4': 1, 'word5': 1, 'word6': 2, 'word7': 4, 'word8': 4}\n",
    "\n",
    "invert_wordcount(wordfreqs)"
   ]
  },
  {
   "cell_type": "markdown",
   "id": "5781763b-ffb0-4262-97f4-05a28b4e69de",
   "metadata": {},
   "source": [
    "3. Having two lists as input, l1 and l2, create a dictionary where the keys are the values from l1 and the values are those from l2.\n",
    "\n",
    "For example, if the lists are:\n",
    "\n",
    "```\n",
    "l1 = ['k1', 'k2', 'k3', 'k4', 'k5']\n",
    "l2 = [5, 10, 15, 20, 25]\n",
    "```\n",
    "\n",
    "Then the output dictionary would be:\n",
    "\n",
    "```\n",
    "{'k1': 5, 'k2': 10, 'k3': 15, 'k4': 20, 'k5': 25}\n",
    "```"
   ]
  },
  {
   "cell_type": "code",
   "execution_count": 1,
   "id": "9959f109-06a9-480d-861a-c7aacbc21cab",
   "metadata": {},
   "outputs": [
    {
     "data": {
      "text/plain": [
       "{'k1': 5, 'k2': 10, 'k3': 15, 'k4': 20, 'k5': 25}"
      ]
     },
     "execution_count": 1,
     "metadata": {},
     "output_type": "execute_result"
    }
   ],
   "source": [
    "l1 = ['k1', 'k2', 'k3', 'k4', 'k5']\n",
    "l2 = [5, 10, 15, 20, 25]\n",
    "\n",
    "mydict = dict(zip(l1, l2))\n",
    "\n",
    "mydict"
   ]
  },
  {
   "cell_type": "markdown",
   "id": "d456f60a-1a28-4be0-b513-19d3d3da3df2",
   "metadata": {},
   "source": [
    "4. Given a particular value as input, find all the keys in a dictionary that match that value.\n",
    "\n",
    "For example, given the dictionary:\n",
    "\n",
    "```\n",
    "mydict = {'a': 5, 'b': 10, 'c': 5, 'd': 25, 'e': 20, 'f': 5}\n",
    "```\n",
    "\n",
    "And the value 5 as the one to match, the output would be the keys: 'a', 'c' and 'f'"
   ]
  },
  {
   "cell_type": "code",
   "execution_count": 3,
   "id": "c3cebc4a-1ef3-4588-a094-d28240697b3c",
   "metadata": {},
   "outputs": [
    {
     "data": {
      "text/plain": [
       "['a', 'c', 'f']"
      ]
     },
     "execution_count": 3,
     "metadata": {},
     "output_type": "execute_result"
    }
   ],
   "source": [
    "mydict = {'a': 5, 'b': 10, 'c': 5, 'd': 25, 'e': 20, 'f': 5}\n",
    "val = 5\n",
    "\n",
    "matching_keys = [key for key, value in mydict.items() if value == val]\n",
    "\n",
    "matching_keys"
   ]
  },
  {
   "cell_type": "markdown",
   "id": "63bf9030-1b8d-4663-afda-86470892e64e",
   "metadata": {},
   "source": [
    "5. Given a list of words, e.g.:\n",
    "\n",
    "```\n",
    "words = ['about', 'and', 'at', 'to', 'two', 'ten', 'tone']\n",
    "```\n",
    "\n",
    "Create a dictionary with the count of occurrences based on the first letter of the words, i.e.:\n",
    "\n",
    "```\n",
    "counts = {'a': 3, 't': 4}\n",
    "```"
   ]
  },
  {
   "cell_type": "code",
   "execution_count": 5,
   "id": "62a19232-4f97-40eb-b04b-fa31847a53bc",
   "metadata": {},
   "outputs": [
    {
     "name": "stdout",
     "output_type": "stream",
     "text": [
      "{'a': 3, 't': 4}\n"
     ]
    }
   ],
   "source": [
    "def lcounts(words):\n",
    "    counts = {}\n",
    "    for word in words:\n",
    "        initial = word[0].lower()\n",
    "        counts[initial] = 1 + counts.get(initial, 0)\n",
    "        \n",
    "    return counts\n",
    "\n",
    "words = ['about', 'and', 'at', 'to', 'two', 'ten', 'tone']\n",
    "\n",
    "counts = lcounts(words)\n",
    "print(counts)"
   ]
  }
 ],
 "metadata": {
  "kernelspec": {
   "display_name": "Python 3",
   "language": "python",
   "name": "python3"
  },
  "language_info": {
   "codemirror_mode": {
    "name": "ipython",
    "version": 3
   },
   "file_extension": ".py",
   "mimetype": "text/x-python",
   "name": "python",
   "nbconvert_exporter": "python",
   "pygments_lexer": "ipython3",
   "version": "3.11.4"
  }
 },
 "nbformat": 4,
 "nbformat_minor": 5
}

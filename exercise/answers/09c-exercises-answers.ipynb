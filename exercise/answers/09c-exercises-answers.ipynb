{
 "cells": [
  {
   "cell_type": "markdown",
   "id": "ca12c161-1cb2-447e-98ce-10e199020f97",
   "metadata": {},
   "source": [
    "# Practice exercises \\#9 with answers"
   ]
  },
  {
   "cell_type": "markdown",
   "id": "3f059948-d69e-4fb8-b44e-005f82d67a77",
   "metadata": {},
   "source": [
    "1. We have two lists of values, l1 and l2, which are both of the same size n. We want to create a new list l3 which will contain n values, and where the value in index i of l3 is the multiplication of l1[i] and l2[i]. We have written the following code attempting to do this. Write an improved version that reduces its complexity. "
   ]
  },
  {
   "cell_type": "code",
   "execution_count": null,
   "id": "2254f819-fa6d-4298-8c6f-13229bd66ed5",
   "metadata": {},
   "outputs": [],
   "source": [
    "# Original\n",
    "import time\n",
    "\n",
    "stime = time.time()\n",
    "n = 15000\n",
    "\n",
    "l1 = [v for v in range(n)]\n",
    "l2 = [v for v in range(n)]\n",
    "\n",
    "l3 = []\n",
    "\n",
    "index1 = 0\n",
    "for v1 in l1:\n",
    "    index2 = 0\n",
    "    for v2 in l2:\n",
    "        if index1 == index2:\n",
    "            l3.append(v1 * v2)\n",
    "        index2 += 1\n",
    "    index1 += 1\n",
    "\n",
    "etime = time.time()\n",
    "    \n",
    "print('Took', str(etime - stime), 'seconds.')"
   ]
  },
  {
   "cell_type": "code",
   "execution_count": null,
   "id": "344e7519-2454-4ad6-908e-3d23b6360a43",
   "metadata": {},
   "outputs": [],
   "source": [
    "# You may write your answer here\n",
    "\n",
    "# Original\n",
    "import time\n",
    "\n",
    "stime = time.time()\n",
    "n = 100000\n",
    "\n",
    "l1 = [v for v in range(n)]\n",
    "l2 = [v for v in range(n)]\n",
    "\n",
    "l3 = []\n",
    "\n",
    "for v1, v2 in zip(l1, l2):\n",
    "    l3.append(v1 * v2)\n",
    "\n",
    "# The above would be optimal, but alternatively:\n",
    "# for index in range(len(l1)):\n",
    "#    l3.append(l1[index] * l2[index])\n",
    "    \n",
    "etime = time.time()\n",
    "    \n",
    "print(len(l3))\n",
    "print('Took', str(etime - stime), 'seconds.')"
   ]
  }
 ],
 "metadata": {
  "kernelspec": {
   "display_name": "Python 3",
   "language": "python",
   "name": "python3"
  },
  "language_info": {
   "codemirror_mode": {
    "name": "ipython",
    "version": 3
   },
   "file_extension": ".py",
   "mimetype": "text/x-python",
   "name": "python",
   "nbconvert_exporter": "python",
   "pygments_lexer": "ipython3",
   "version": "3.12.3"
  }
 },
 "nbformat": 4,
 "nbformat_minor": 5
}

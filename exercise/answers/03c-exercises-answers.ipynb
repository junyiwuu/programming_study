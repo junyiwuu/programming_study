{
 "cells": [
  {
   "cell_type": "markdown",
   "id": "62383aac-efcc-4eed-91e0-20b3ab2b06f4",
   "metadata": {},
   "source": [
    "# Practice exercises \\#3 with answers"
   ]
  },
  {
   "cell_type": "markdown",
   "id": "e8f81e9c-725e-440c-ac57-8bbbd1a82a21",
   "metadata": {},
   "source": [
    "1. Let's revisit the exercise from the first lecture, with a little twist (previously, we ordered 75 copies of the book, now we want this to be a variable n_books):\n",
    "\n",
    "Suppose we are going to buy **N copies** of the 'Think Python' book. Each copy costs £27.65. If we order at least 25 copies, we are offered a 20% discount on the total cost of the books. On top of that, we need to add the shipping costs, which is £0.95 for the first 10 books, and £0.45 for the remainder of the books. Calculate the total cost of our order for an order of a given number of books **n_books**.\n",
    "\n",
    "Write a function **total_cost()** that takes **n_books** as an input parameter and returns the total cost of the order."
   ]
  },
  {
   "cell_type": "code",
   "execution_count": 4,
   "id": "23b1699d-7bdc-4c27-9933-cf0339c94acf",
   "metadata": {},
   "outputs": [
    {
     "data": {
      "text/plain": [
       "426.5"
      ]
     },
     "execution_count": 4,
     "metadata": {},
     "output_type": "execute_result"
    }
   ],
   "source": [
    "def total_cost(n_books):\n",
    "    book_cost = n_books * 27.65\n",
    "    \n",
    "    if n_books >= 25:\n",
    "        book_cost *= 0.8\n",
    "        \n",
    "    shipping_cost = 0\n",
    "    if n_books <= 10:\n",
    "        shipping_cost = n_books * 0.95\n",
    "    else:\n",
    "        shipping_cost = 10 * 0.95 + (n_books - 10) * 0.45\n",
    "        \n",
    "    return book_cost + shipping_cost\n",
    "\n",
    "total_cost(15)"
   ]
  },
  {
   "cell_type": "markdown",
   "id": "5be03164-fc2c-40ad-9741-82967e3319ad",
   "metadata": {},
   "source": [
    "2. The Fibonacci sequence is a sequence in which each number is the sum of the two preceding ones. The first two numbers in the sequence are (typically) 0 and 1, where the sequence is:\n",
    "\n",
    "0, 1, 1, 2, 3, 5, 8, 13, 21, 34, 55, 89, 144,...\n",
    "\n",
    "The n-th Fibonacci is the number in the n position of the sequence, i.e. fibonacci(0) = 0, fibonacci(1) = 1, ..., fibonacci(6) = 8, etc.\n",
    "\n",
    "Knowing this, define a function **fibonacci()** that takes the **n** value as input, and outputs the corresponding fibonacci value."
   ]
  },
  {
   "cell_type": "code",
   "execution_count": 2,
   "id": "2973cc01-4625-40c7-bc9d-f7208d79b1a8",
   "metadata": {},
   "outputs": [
    {
     "data": {
      "text/plain": [
       "8"
      ]
     },
     "execution_count": 2,
     "metadata": {},
     "output_type": "execute_result"
    }
   ],
   "source": [
    "def fibonacci(n):\n",
    "  if n == 0:\n",
    "    return 0\n",
    "  elif n == 1:\n",
    "    return 1\n",
    "  else:\n",
    "    return fibonacci(n-1) + fibonacci(n-2)\n",
    "\n",
    "fibonacci(6)"
   ]
  },
  {
   "cell_type": "markdown",
   "id": "b584e33a-06a5-4eb5-bb1a-bd20be297730",
   "metadata": {},
   "source": [
    "3. Let's revisit an earlier exercise:\n",
    "\n",
    "A coffee shop offers every 5th coffee within a single purchase for free. That is:\n",
    "- if you buy 5 coffees, you pay 4.\n",
    "- if you buy 10 coffees, you pay 8.\n",
    "- if you buy 9 coffees, you pay 8 (you only qualify for 1 free coffee).\n",
    "\n",
    "At £3.75 a coffee, how much do we need to pay after applying the above discounts for an order of **n_coffees** coffees?\n",
    "\n",
    "Implement a function that calculates this cost."
   ]
  },
  {
   "cell_type": "code",
   "execution_count": 19,
   "id": "a3521683-cae1-468a-8c0f-1f62ddaae75c",
   "metadata": {},
   "outputs": [
    {
     "name": "stdout",
     "output_type": "stream",
     "text": [
      "30.0\n"
     ]
    }
   ],
   "source": [
    "def coffee_cost(n_coffees):\n",
    "    coffee_price = 3.75\n",
    "    \n",
    "    free_coffees = n_coffees // 5\n",
    "    \n",
    "    return (n_coffees - free_coffees) * coffee_price\n",
    "\n",
    "print(coffee_cost(10))"
   ]
  },
  {
   "cell_type": "markdown",
   "id": "dcb14c84-8595-48e0-b71d-26b196086269",
   "metadata": {},
   "source": [
    "4. We have implemented the following code that calculates the square values of numbers from 1 to 10. Improve the readability and usability of this code by using what we've learnt so far."
   ]
  },
  {
   "cell_type": "code",
   "execution_count": 20,
   "id": "ffbdacc2-3f6d-4f7e-a2fa-8a7112086480",
   "metadata": {},
   "outputs": [
    {
     "name": "stdout",
     "output_type": "stream",
     "text": [
      "1\n",
      "4\n",
      "9\n",
      "16\n",
      "25\n",
      "36\n",
      "49\n",
      "64\n",
      "81\n",
      "100\n"
     ]
    }
   ],
   "source": [
    "n = 1\n",
    "print(n ** 2)\n",
    "n = 2\n",
    "print(n ** 2)\n",
    "n = 3\n",
    "print(n ** 2)\n",
    "n = 4\n",
    "print(n ** 2)\n",
    "n = 5\n",
    "print(n ** 2)\n",
    "n = 6\n",
    "print(n ** 2)\n",
    "n = 7\n",
    "print(n ** 2)\n",
    "n = 8\n",
    "print(n ** 2)\n",
    "n = 9\n",
    "print(n ** 2)\n",
    "n = 10\n",
    "print(n ** 2)"
   ]
  },
  {
   "cell_type": "markdown",
   "id": "44068242-8d6c-4eca-9b3e-738a936cc809",
   "metadata": {},
   "source": [
    "Type your improved version here:"
   ]
  },
  {
   "cell_type": "code",
   "execution_count": 24,
   "id": "8114aad1-8433-4824-b586-e9d3e0f27951",
   "metadata": {},
   "outputs": [
    {
     "name": "stdout",
     "output_type": "stream",
     "text": [
      "1\n",
      "4\n",
      "9\n",
      "16\n",
      "25\n",
      "36\n",
      "49\n",
      "64\n",
      "81\n",
      "100\n"
     ]
    }
   ],
   "source": [
    "def sq(n):\n",
    "    return n ** 2\n",
    "\n",
    "for n in range(1, 11):\n",
    "    print(sq(n))\n",
    "    \n",
    "# Note: given how simple the sq() function is and that it is only used once in our code,\n",
    "# it doesn't make a big difference to have the sq() function or to directly implement n**2 within the loop"
   ]
  },
  {
   "cell_type": "markdown",
   "id": "b942608b-1e40-4a3f-8eba-21cdb9e08524",
   "metadata": {},
   "source": [
    "5. Implement a function **get_max()**, which takes an argument of variable length as input, and outputs the largest of the values provided as input parameters. You can assume that the input values provided are all positive values.\n",
    "\n",
    "**NB: You may ignore this as we haven't seen it in the lectures. We will be seeing a different solution to this when we work with lists.**"
   ]
  },
  {
   "cell_type": "code",
   "execution_count": 4,
   "id": "d7e78e5f-7461-4171-9fe4-3a72074feaa3",
   "metadata": {},
   "outputs": [
    {
     "data": {
      "text/plain": [
       "25"
      ]
     },
     "execution_count": 4,
     "metadata": {},
     "output_type": "execute_result"
    }
   ],
   "source": [
    "# option 1:\n",
    "def get_max(*args):\n",
    "    maxvalue = 0\n",
    "    for value in args:\n",
    "        if value > maxvalue:\n",
    "            maxvalue = value\n",
    "    return value\n",
    "\n",
    "get_max(7, 15, 20, 25)"
   ]
  },
  {
   "cell_type": "code",
   "execution_count": 5,
   "id": "572d946f-0c57-443c-83f8-504ab04e3707",
   "metadata": {},
   "outputs": [
    {
     "data": {
      "text/plain": [
       "25"
      ]
     },
     "execution_count": 5,
     "metadata": {},
     "output_type": "execute_result"
    }
   ],
   "source": [
    "# option 2:\n",
    "def get_max(*args):\n",
    "    return max(args)\n",
    "\n",
    "get_max(7, 15, 20, 25)"
   ]
  },
  {
   "cell_type": "markdown",
   "id": "7c25e7c2-86e2-4ae5-a629-1a6b3864311d",
   "metadata": {},
   "source": [
    "6. Implement a function **get_even_values()**, which takes an argument of variable length as input, and outputs the subset of the input parameters which are even values.\n",
    "\n",
    "**NB: You may ignore this as we haven't seen it in the lectures. We will be seeing a different solution to this when we work with lists.**"
   ]
  },
  {
   "cell_type": "code",
   "execution_count": 7,
   "id": "fc12fa31-ee39-4787-84ce-c15f43a47d71",
   "metadata": {},
   "outputs": [
    {
     "name": "stdout",
     "output_type": "stream",
     "text": [
      "2\n",
      "16\n",
      "32\n",
      "64\n"
     ]
    }
   ],
   "source": [
    "def get_even_values(*args):\n",
    "    for value in args:\n",
    "        if value % 2 == 0:\n",
    "            yield value\n",
    "            \n",
    "for v in get_even_values(2, 7, 16, 32, 33, 45, 57, 64):\n",
    "    print(v)"
   ]
  }
 ],
 "metadata": {
  "kernelspec": {
   "display_name": "Python 3",
   "language": "python",
   "name": "python3"
  },
  "language_info": {
   "codemirror_mode": {
    "name": "ipython",
    "version": 3
   },
   "file_extension": ".py",
   "mimetype": "text/x-python",
   "name": "python",
   "nbconvert_exporter": "python",
   "pygments_lexer": "ipython3",
   "version": "3.12.4"
  }
 },
 "nbformat": 4,
 "nbformat_minor": 5
}

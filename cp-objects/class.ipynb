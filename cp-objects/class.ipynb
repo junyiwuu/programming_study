{
 "cells": [
  {
   "cell_type": "markdown",
   "metadata": {},
   "source": [
    "Class 和 def 的别是什么：\n",
    "\n",
    "class定义一个类，类是OOP中的概念，用于封装数据和功能，在类中可以定义属性（数据）和方法（功能） \n",
    "\n",
    "class是创建对象的模板，对象object是class的实例\n",
    "\n",
    "def 是用来定义一个函数\n",
    "\n",
    "函数执行特定任务的代码块，接受输入参数并返回结果。用于重复复用代码，而不是总是重新写\n",
    "\n",
    "    object：对象，实例，instance\n",
    "\n",
    "    class： 类，模板\n",
    "\n",
    "    attribute：属性\n"
   ]
  },
  {
   "cell_type": "code",
   "execution_count": 4,
   "metadata": {},
   "outputs": [
    {
     "name": "stdout",
     "output_type": "stream",
     "text": [
      "husky is barking\n"
     ]
    }
   ],
   "source": [
    "# 这就是oop\n",
    "\n",
    "class dog:\n",
    "    def __init__ (self, name, breed):  # 当定义class的时候，第一个参数通常是slef。self代表本身（python要求必写的）。允许method访问和修改该class的attributes\n",
    "        self.name = name  # 这就是在设置当前class的name attribute\n",
    "        self.breed = breed\n",
    "\n",
    "    def bark(self):\n",
    "        print(f'{self.name} is barking')\n",
    "    \n",
    "my_dog = dog('husky','huskybreed')\n",
    "my_dog.bark()\n"
   ]
  },
  {
   "cell_type": "code",
   "execution_count": 8,
   "metadata": {},
   "outputs": [
    {
     "name": "stdout",
     "output_type": "stream",
     "text": [
      "<__main__.Customer object at 0x00000186F1CA2F90>\n",
      "<__main__.Customer object at 0x00000186F1CA2490>\n",
      "<__main__.Customer object at 0x00000186F1CB2BD0>\n"
     ]
    }
   ],
   "source": [
    "# a simple calss example:\n",
    "\n",
    "class Customer:\n",
    "    name = ''\n",
    "    surname = ''\n",
    "    phones = []\n",
    "    address = []\n",
    "    occupation = []\n",
    "\n",
    "# an instance of a class is called object\n",
    "customer1 = Customer()\n",
    "customer2 = Customer()\n",
    "customer3 = Customer()\n",
    "\n",
    "print(customer1)\n",
    "print(customer2)\n",
    "print(customer3)\n",
    "# 显示的所在内存中的位置"
   ]
  },
  {
   "cell_type": "markdown",
   "metadata": {},
   "source": [
    "we can then modify the attributes fo these customer objects"
   ]
  },
  {
   "cell_type": "code",
   "execution_count": 33,
   "metadata": {},
   "outputs": [],
   "source": [
    "customer1.name = 'john'\n",
    "customer2.name = 'sarah'\n"
   ]
  },
  {
   "cell_type": "code",
   "execution_count": 47,
   "metadata": {},
   "outputs": [],
   "source": [
    "class Customer2:\n",
    "    def __init__(self, name, surname, occupation):\n",
    "        self.name = name\n",
    "        self.surname = surname\n",
    "        self.occupation = occupation\n",
    "    # remeber always put self at the first position\n",
    "    def set_name(self, newname):\n",
    "        self.name = newname #当调用set_name这个method的时候，输入的是newname，然后这个newname会替代self自己属性的name\n",
    "    \n",
    "    def set_surname(self , newsurname):\n",
    "        self.surname = newsurname\n",
    "\n",
    "    # above is attribute, below is setting methods\n",
    "    def get_name(self):  #doesnt require for input here\n",
    "        return self.name\n",
    "    def get_surname(self):\n",
    "        return self.surname\n",
    "    def get_fullname(self):\n",
    "        return self.name+' '+self.surname"
   ]
  },
  {
   "cell_type": "code",
   "execution_count": 48,
   "metadata": {},
   "outputs": [
    {
     "name": "stdout",
     "output_type": "stream",
     "text": [
      "<__main__.Customer2 object at 0x00000186F2E5F410>\n",
      "['Lawyer']\n",
      "Anna Smith\n"
     ]
    }
   ],
   "source": [
    "customer3 = Customer2('Anna','Smith', ['Lawyer'])\n",
    "print(customer3)\n",
    "print(customer3.occupation)\n",
    "print(customer3.get_fullname())\n"
   ]
  },
  {
   "cell_type": "code",
   "execution_count": 46,
   "metadata": {},
   "outputs": [
    {
     "name": "stdout",
     "output_type": "stream",
     "text": [
      "mynewname\n"
     ]
    }
   ],
   "source": [
    "customer3.set_name('mynewname')\n",
    "print(customer3.name)"
   ]
  },
  {
   "cell_type": "markdown",
   "metadata": {},
   "source": [
    "当你拥有一个class或者object，想看里面到底有什么\n",
    "1. dir()\n",
    "2. help() (只能看到定义时的里面包含什么)\n",
    "3. Class.\\_\\_dict\\_\\_\n",
    "4. object.\\_\\_class\\_\\_.\\_\\_dict\\_\\_    （当你只知道object但是不知道其class的名字，先用\\_\\_class\\_\\_回溯其class）\n",
    "5. class.\\_\\_doc\\_\\_       (当这个class有文档说明的时候)\n"
   ]
  },
  {
   "cell_type": "code",
   "execution_count": 16,
   "metadata": {},
   "outputs": [
    {
     "data": {
      "text/plain": [
       "['__class__',\n",
       " '__delattr__',\n",
       " '__dict__',\n",
       " '__dir__',\n",
       " '__doc__',\n",
       " '__eq__',\n",
       " '__format__',\n",
       " '__ge__',\n",
       " '__getattribute__',\n",
       " '__getstate__',\n",
       " '__gt__',\n",
       " '__hash__',\n",
       " '__init__',\n",
       " '__init_subclass__',\n",
       " '__le__',\n",
       " '__lt__',\n",
       " '__module__',\n",
       " '__ne__',\n",
       " '__new__',\n",
       " '__reduce__',\n",
       " '__reduce_ex__',\n",
       " '__repr__',\n",
       " '__setattr__',\n",
       " '__sizeof__',\n",
       " '__str__',\n",
       " '__subclasshook__',\n",
       " '__weakref__',\n",
       " 'address',\n",
       " 'name',\n",
       " 'occupation',\n",
       " 'phones',\n",
       " 'surname']"
      ]
     },
     "execution_count": 16,
     "metadata": {},
     "output_type": "execute_result"
    }
   ],
   "source": [
    "# 比如你想看这个class里面有什么东西，使用dir()。对class或者object都可以\n",
    "dir(Customer)\n",
    "dir(customer1)"
   ]
  },
  {
   "cell_type": "code",
   "execution_count": 18,
   "metadata": {},
   "outputs": [
    {
     "name": "stdout",
     "output_type": "stream",
     "text": [
      "Help on class Customer in module __main__:\n",
      "\n",
      "class Customer(builtins.object)\n",
      " |  Data descriptors defined here:\n",
      " |  \n",
      " |  __dict__\n",
      " |      dictionary for instance variables\n",
      " |  \n",
      " |  __weakref__\n",
      " |      list of weak references to the object\n",
      " |  \n",
      " |  ----------------------------------------------------------------------\n",
      " |  Data and other attributes defined here:\n",
      " |  \n",
      " |  address = []\n",
      " |  \n",
      " |  name = ''\n",
      " |  \n",
      " |  occupation = []\n",
      " |  \n",
      " |  phones = []\n",
      " |  \n",
      " |  surname = ''\n",
      "\n"
     ]
    }
   ],
   "source": [
    "#或者使用help()\n",
    "help(Customer)"
   ]
  },
  {
   "cell_type": "code",
   "execution_count": 19,
   "metadata": {},
   "outputs": [
    {
     "data": {
      "text/plain": [
       "mappingproxy({'__module__': '__main__',\n",
       "              'name': '',\n",
       "              'surname': '',\n",
       "              'phones': [],\n",
       "              'address': [],\n",
       "              'occupation': [],\n",
       "              '__dict__': <attribute '__dict__' of 'Customer' objects>,\n",
       "              '__weakref__': <attribute '__weakref__' of 'Customer' objects>,\n",
       "              '__doc__': None})"
      ]
     },
     "execution_count": 19,
     "metadata": {},
     "output_type": "execute_result"
    }
   ],
   "source": [
    "Customer.__dict__"
   ]
  },
  {
   "cell_type": "code",
   "execution_count": 21,
   "metadata": {},
   "outputs": [
    {
     "data": {
      "text/plain": [
       "mappingproxy({'__module__': '__main__',\n",
       "              'name': '',\n",
       "              'surname': '',\n",
       "              'phones': [],\n",
       "              'address': [],\n",
       "              'occupation': [],\n",
       "              '__dict__': <attribute '__dict__' of 'Customer' objects>,\n",
       "              '__weakref__': <attribute '__weakref__' of 'Customer' objects>,\n",
       "              '__doc__': None})"
      ]
     },
     "execution_count": 21,
     "metadata": {},
     "output_type": "execute_result"
    }
   ],
   "source": [
    "customer1.__class__.__dict__"
   ]
  },
  {
   "cell_type": "code",
   "execution_count": 25,
   "metadata": {},
   "outputs": [
    {
     "name": "stdout",
     "output_type": "stream",
     "text": [
      "None\n"
     ]
    }
   ],
   "source": [
    "print(Customer.__doc__)"
   ]
  },
  {
   "cell_type": "markdown",
   "metadata": {},
   "source": [
    "给 class添加文档字符串"
   ]
  },
  {
   "cell_type": "code",
   "execution_count": 29,
   "metadata": {},
   "outputs": [],
   "source": [
    "class cat:\n",
    "    \"\"\" \n",
    "    this is the document for this class\n",
    "    \"\"\"\n",
    "    def __init__(self, name , age):\n",
    "        \"\"\" \n",
    "        initialize the cat class,set the name and age\"\"\"\n",
    "\n",
    "        self.name = name\n",
    "        self.age = age\n",
    "\n",
    "    def meow(self):\n",
    "        \"\"\"set the neow attribute to it, print meow\"\"\"\n",
    "        print('meow')\n"
   ]
  },
  {
   "cell_type": "code",
   "execution_count": 30,
   "metadata": {},
   "outputs": [
    {
     "name": "stdout",
     "output_type": "stream",
     "text": [
      " \n",
      "    this is the document for this class\n",
      "    \n"
     ]
    }
   ],
   "source": [
    "print(cat.__doc__)"
   ]
  },
  {
   "cell_type": "code",
   "execution_count": 31,
   "metadata": {},
   "outputs": [
    {
     "name": "stdout",
     "output_type": "stream",
     "text": [
      "set the neow attribute to it, print meow\n"
     ]
    }
   ],
   "source": [
    "print(cat.meow.__doc__)"
   ]
  },
  {
   "cell_type": "markdown",
   "metadata": {},
   "source": [
    "## \\_\\_str\\_\\_"
   ]
  },
  {
   "cell_type": "markdown",
   "metadata": {},
   "source": [
    "when calling the class, what will print (instead of the memory location)"
   ]
  },
  {
   "cell_type": "code",
   "execution_count": 50,
   "metadata": {},
   "outputs": [
    {
     "name": "stdout",
     "output_type": "stream",
     "text": [
      "<__main__.Customer object at 0x00000186F1CA2F90>\n"
     ]
    }
   ],
   "source": [
    "# for now:\n",
    "print(customer1)"
   ]
  },
  {
   "cell_type": "code",
   "execution_count": 52,
   "metadata": {},
   "outputs": [],
   "source": [
    "class Customer:\n",
    "    def __init__(self, name, surname):\n",
    "        self.name = name\n",
    "        self.surname= surname\n",
    "\n",
    "    def __str__ (self):\n",
    "        return 'This is customer named '+ self.name+' '+self.surname"
   ]
  },
  {
   "cell_type": "code",
   "execution_count": 56,
   "metadata": {},
   "outputs": [
    {
     "name": "stdout",
     "output_type": "stream",
     "text": [
      "This is customer named ana smith\n"
     ]
    }
   ],
   "source": [
    "customer1 = Customer('ana','smith')\n",
    "print(customer1)    # 如果想让__str__生效，要用print"
   ]
  },
  {
   "cell_type": "markdown",
   "metadata": {},
   "source": [
    "#### 额外新加att"
   ]
  },
  {
   "cell_type": "code",
   "execution_count": 61,
   "metadata": {},
   "outputs": [
    {
     "name": "stdout",
     "output_type": "stream",
     "text": [
      "uk small town\n"
     ]
    }
   ],
   "source": [
    "# 如果有att并不本来存在，想要新加，那就直接在object后加dot来加上\n",
    "customer1.address = 'uk small town'\n",
    "print(customer1.address)"
   ]
  },
  {
   "cell_type": "code",
   "execution_count": 59,
   "metadata": {},
   "outputs": [
    {
     "data": {
      "text/plain": [
       "{'name': 'ana', 'surname': 'smith', 'address': 'uk small town'}"
      ]
     },
     "execution_count": 59,
     "metadata": {},
     "output_type": "execute_result"
    }
   ],
   "source": [
    "customer1.__dict__"
   ]
  },
  {
   "cell_type": "code",
   "execution_count": 60,
   "metadata": {},
   "outputs": [
    {
     "data": {
      "text/plain": [
       "mappingproxy({'__module__': '__main__',\n",
       "              '__init__': <function __main__.Customer.__init__(self, name, surname)>,\n",
       "              '__str__': <function __main__.Customer.__str__(self)>,\n",
       "              '__dict__': <attribute '__dict__' of 'Customer' objects>,\n",
       "              '__weakref__': <attribute '__weakref__' of 'Customer' objects>,\n",
       "              '__doc__': None})"
      ]
     },
     "execution_count": 60,
     "metadata": {},
     "output_type": "execute_result"
    }
   ],
   "source": [
    "Customer.__dict__"
   ]
  },
  {
   "cell_type": "code",
   "execution_count": 65,
   "metadata": {},
   "outputs": [],
   "source": [
    "# 更改了原本class 的att\n",
    "Customer.occupation = []"
   ]
  },
  {
   "cell_type": "code",
   "execution_count": 66,
   "metadata": {},
   "outputs": [
    {
     "data": {
      "text/plain": [
       "mappingproxy({'__module__': '__main__',\n",
       "              '__init__': <function __main__.Customer.__init__(self, name, surname)>,\n",
       "              '__str__': <function __main__.Customer.__str__(self)>,\n",
       "              '__dict__': <attribute '__dict__' of 'Customer' objects>,\n",
       "              '__weakref__': <attribute '__weakref__' of 'Customer' objects>,\n",
       "              '__doc__': None,\n",
       "              'occupation': []})"
      ]
     },
     "execution_count": 66,
     "metadata": {},
     "output_type": "execute_result"
    }
   ],
   "source": [
    "Customer.__dict__"
   ]
  },
  {
   "cell_type": "markdown",
   "metadata": {},
   "source": [
    "#### 额外新加method"
   ]
  },
  {
   "cell_type": "code",
   "execution_count": 74,
   "metadata": {},
   "outputs": [],
   "source": [
    "def get_address(self):\n",
    "    return  self.address\n",
    "\n",
    "#给class添加一个新的method，这个是影响的原class，会立刻在所有的object上生效\n",
    "Customer.get_address = get_address"
   ]
  },
  {
   "cell_type": "code",
   "execution_count": 75,
   "metadata": {},
   "outputs": [
    {
     "name": "stdout",
     "output_type": "stream",
     "text": [
      "Help on class Customer in module __main__:\n",
      "\n",
      "class Customer(builtins.object)\n",
      " |  Customer(name, surname)\n",
      " |  \n",
      " |  Methods defined here:\n",
      " |  \n",
      " |  __init__(self, name, surname)\n",
      " |      Initialize self.  See help(type(self)) for accurate signature.\n",
      " |  \n",
      " |  __str__(self)\n",
      " |      Return str(self).\n",
      " |  \n",
      " |  get_address(self)\n",
      " |  \n",
      " |  ----------------------------------------------------------------------\n",
      " |  Data descriptors defined here:\n",
      " |  \n",
      " |  __dict__\n",
      " |      dictionary for instance variables\n",
      " |  \n",
      " |  __weakref__\n",
      " |      list of weak references to the object\n",
      " |  \n",
      " |  ----------------------------------------------------------------------\n",
      " |  Data and other attributes defined here:\n",
      " |  \n",
      " |  occupation = []\n",
      "\n"
     ]
    }
   ],
   "source": [
    "help(Customer)"
   ]
  },
  {
   "cell_type": "code",
   "execution_count": 77,
   "metadata": {},
   "outputs": [
    {
     "data": {
      "text/plain": [
       "'uk small town'"
      ]
     },
     "execution_count": 77,
     "metadata": {},
     "output_type": "execute_result"
    }
   ],
   "source": [
    "# 之前customer1定义了address，但这个新加的get_address的method可以在customer1这个object上面使用\n",
    "customer1.get_address()"
   ]
  },
  {
   "cell_type": "markdown",
   "metadata": {},
   "source": [
    "### 继承class\n",
    "不破坏原有的class，创建一个新的class然后继承旧class"
   ]
  },
  {
   "cell_type": "code",
   "execution_count": 90,
   "metadata": {},
   "outputs": [],
   "source": [
    "# 给customer这个class再加一个att\n",
    "Customer.address = None"
   ]
  },
  {
   "cell_type": "code",
   "execution_count": 91,
   "metadata": {},
   "outputs": [
    {
     "data": {
      "text/plain": [
       "mappingproxy({'__module__': '__main__',\n",
       "              '__init__': <function __main__.Customer.__init__(self, name, surname)>,\n",
       "              '__str__': <function __main__.Customer.__str__(self)>,\n",
       "              '__dict__': <attribute '__dict__' of 'Customer' objects>,\n",
       "              '__weakref__': <attribute '__weakref__' of 'Customer' objects>,\n",
       "              '__doc__': None,\n",
       "              'occupation': [],\n",
       "              'get_address': <function __main__.get_address(self)>,\n",
       "              'address': None})"
      ]
     },
     "execution_count": 91,
     "metadata": {},
     "output_type": "execute_result"
    }
   ],
   "source": [
    "Customer.__dict__\n",
    "# 可以看到address这个att加进去了"
   ]
  },
  {
   "cell_type": "code",
   "execution_count": 89,
   "metadata": {},
   "outputs": [
    {
     "name": "stdout",
     "output_type": "stream",
     "text": [
      "This is customer named slslsl P\n",
      "None\n"
     ]
    }
   ],
   "source": [
    "customer2 = Customer('slslsl','P')\n",
    "print(customer2)\n",
    "\n",
    "print(customer2.get_address())"
   ]
  },
  {
   "cell_type": "code",
   "execution_count": 96,
   "metadata": {},
   "outputs": [],
   "source": [
    "class extendedCustomer(Customer):\n",
    "    def __init__(self, name, surname, occupation,postcode):\n",
    "        super().__init__(name,surname,occupation)  #继承父类的属性\n",
    "        self.address=  address\n",
    "    def get_address(self):\n",
    "        return self.address"
   ]
  },
  {
   "cell_type": "markdown",
   "metadata": {},
   "source": [
    "检查是否有xx属性"
   ]
  },
  {
   "cell_type": "code",
   "execution_count": 92,
   "metadata": {},
   "outputs": [
    {
     "name": "stdout",
     "output_type": "stream",
     "text": [
      "uk small town\n"
     ]
    }
   ],
   "source": [
    "if hasattr(customer1, 'address'):\n",
    "    print(getattr(customer1,'address'))\n",
    "else:\n",
    "    print('not have')"
   ]
  },
  {
   "cell_type": "code",
   "execution_count": 94,
   "metadata": {},
   "outputs": [
    {
     "name": "stdout",
     "output_type": "stream",
     "text": [
      "None\n"
     ]
    }
   ],
   "source": [
    "customer3 = Customer('ealing','cool')  # 我没定义address\n",
    "if hasattr(customer3, 'address'):\n",
    "    print(getattr(customer3,'address'))\n",
    "else:\n",
    "    print('not have')"
   ]
  },
  {
   "cell_type": "code",
   "execution_count": null,
   "metadata": {},
   "outputs": [],
   "source": []
  }
 ],
 "metadata": {
  "kernelspec": {
   "display_name": "base",
   "language": "python",
   "name": "python3"
  },
  "language_info": {
   "codemirror_mode": {
    "name": "ipython",
    "version": 3
   },
   "file_extension": ".py",
   "mimetype": "text/x-python",
   "name": "python",
   "nbconvert_exporter": "python",
   "pygments_lexer": "ipython3",
   "version": "3.11.7"
  }
 },
 "nbformat": 4,
 "nbformat_minor": 2
}

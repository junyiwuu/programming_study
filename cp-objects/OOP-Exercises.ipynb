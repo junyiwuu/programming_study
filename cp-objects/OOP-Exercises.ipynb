{
 "cells": [
  {
   "cell_type": "markdown",
   "metadata": {},
   "source": [
    "### Counting sheep (or anything else)"
   ]
  },
  {
   "cell_type": "markdown",
   "metadata": {},
   "source": [
    "Write a class called ```Counter``` that represents a simple counter. It should have a ```self.count``` attribute that starts from 0. Also it should have a ```self.max``` attribute that represents a limit for the count. Code the following methods:\n",
    "* ```.__init__(self, m)``` constructor. Set ```self.max``` to ```m``` and ```self.count``` to 0\n",
    "* ```.increment(self)``` increase the count if it is smaller than the max, otherwise complain\n",
    "* ```.decrement(self)``` decrease the count if it is larger than zero, otherwise complain\n",
    "* ```.reset(self)``` reset counter to 0\n",
    "* ```.__str__(self)``` return a string such as \"5 out of 10 and counting\", assuming 5 is the count and 10 the max (this message will be displayed when the object is printed)\n",
    "\n",
    "Write a test program for your counter class. Allocate two objects of type ```Counter```: one called ```sheep``` with a maximum of 4 and one called ```chicks``` with a maximum of 6. Program a while loop to keep asking the user for input. Process input as following:\n",
    "* \"baaa\" increment sheep counter\n",
    "* \"egg\" increment chicken counter\n",
    "* \"wolf\" decrement sheep counter\n",
    "* \"fox\" decrement chicken counter\n",
    "* \"market\" reset both counters\n",
    "* \"quit\" exit\n",
    "\n",
    "Print the two counter objects after each iteration (this will actually call the ```__str__``` method you coded and print the string it returns)."
   ]
  },
  {
   "cell_type": "code",
   "execution_count": null,
   "metadata": {},
   "outputs": [],
   "source": []
  },
  {
   "cell_type": "markdown",
   "metadata": {},
   "source": [
    "### Subsidised computing"
   ]
  },
  {
   "cell_type": "markdown",
   "metadata": {},
   "source": [
    "Derive a ```CounterPlus``` class from ```Counter```. Within it, define a ```.add(self, n)``` method that adds ```n``` to the count (capping the count to the maximum if needed).\n",
    "\n",
    "Modify the previous program so that it uses a ```Counter``` for sheep and ```CounterPlus``` for chicken. When the user enters \"subsidy\", add 5 to the number of chicken."
   ]
  },
  {
   "cell_type": "code",
   "execution_count": null,
   "metadata": {},
   "outputs": [],
   "source": []
  },
  {
   "cell_type": "markdown",
   "metadata": {},
   "source": [
    "### Pizza and no beer"
   ]
  },
  {
   "cell_type": "markdown",
   "metadata": {},
   "source": [
    "A pizzaiolo traditionally manages his orders using a metal pin or skewer. New orders are written on a piece of paper by the waiters and skewered on top of the heap. The pizzaiolo always tears off the lowest paper and bakes that. This is a practical implementation of a first-in-first-out (FIFO) queue.\n",
    "\n",
    "Write a class called ```Skewer``` that has two methods: ```.order(self, pizza)``` that adds an order to the top of the skewer and ```.bake(self)``` that returns and removes the oldest order from the bottom of the skewer  (these are often unimaginatively called push() and pop() in CS jargon; push adds to the tail of the queue, and pop removes from its head). Design the internal workings of the class so that it functions as it should, in a first-come-first-served fashion (hint: you will need a list attribute to store the orders, this should be created by the constructor).\n",
    "\n",
    "Test by allocating an object of type Skewer and using it to order a \"margherita\", a \"capricciosa\" and a \"quattro stagioni\". Remember to ```.bake()``` them. Enjoy!"
   ]
  },
  {
   "cell_type": "code",
   "execution_count": null,
   "metadata": {},
   "outputs": [],
   "source": []
  },
  {
   "cell_type": "markdown",
   "metadata": {},
   "source": [
    "### Animal farm"
   ]
  },
  {
   "cell_type": "markdown",
   "metadata": {},
   "source": [
    "Create a hierarchy of classes for storing data about animals. This should be structured as follows:\n",
    "* Class ```Animal``` is the base class for the entire hierarchy. Its constructor takes the name of an animal and its age and assigns them to attributes. It defines a method ```basic_info``` that returns a tuple with the name and age of the animal.\n",
    "* Class ```FarmAnimal``` extends ```Animal```. It adds a method ```to_stable``` that prints the message \"Taking NAME to the stables\", as appropriate.\n",
    "* Class ```Pet``` extends ```Animal```. It adds an attribute ```is_sociable``` that is either ```True``` or ```False```; this attribute must be set by the constructor. It also adds a ```pet``` method that prints the message \"I'm petting NAME\" or \"NAME does not like to be petted\" according to the value of ```is_sociable```. \n",
    "* Classes ```Cow``` and ```Goat``` extend ```FarmAnimal```; classes ```Cat```, ```Dog``` and ```Python``` extend ```Pet```. Each of them defines a method ```make_sound``` that takes an integer as its argument and prints the sound that animal makes the corresponding number of times. \n",
    "\n",
    "Once your classes are defined, create one instance for each of ```Cow```, ```Goat```, ```Cat```, ```Dog``` and ```Python```. Then try the following:\n",
    "* Create a list of all your farm animals. Write a loop that takes them all to the stables.\n",
    "* Create a list of all your pets. Write a loop that pets them.\n",
    "* Merge the two lists. Write a loop that, for each animal, calls ```basic_info``` to get the name and age of the animal, prints the message \"NAME just turned AGE and says:\" and then calls ```make_sound``` with the value of the age. So for instance if the cat is 4, it should go \"meow\" four times.\n",
    "* Optional: Add an attribute ```sound``` to ```Animal```, and have it set by the constructor. Move the ```make_sound``` code to the class ```Animal```, and modify it so that it uses the ```sound``` attribute to print the correct sound. Remove ```make_sound``` from the derived classes. You will need to change the constructor of the derived classes and the lines that create your animals accordingly, but in the end your code will be much shorter.\n",
    "\n",
    "Tips: Constructors in Python are inherited, unless you override them in the child class. If you do, remember to call the constructor of the parent class - use the ```super``` keyword. All methods take ```self``` as their first argument!"
   ]
  },
  {
   "cell_type": "code",
   "execution_count": null,
   "metadata": {},
   "outputs": [],
   "source": []
  }
 ],
 "metadata": {
  "kernelspec": {
   "display_name": "Python 3",
   "language": "python",
   "name": "python3"
  },
  "language_info": {
   "codemirror_mode": {
    "name": "ipython",
    "version": 3
   },
   "file_extension": ".py",
   "mimetype": "text/x-python",
   "name": "python",
   "nbconvert_exporter": "python",
   "pygments_lexer": "ipython3",
   "version": "3.8.10"
  }
 },
 "nbformat": 4,
 "nbformat_minor": 1
}

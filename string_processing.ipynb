{
 "cells": [
  {
   "cell_type": "markdown",
   "metadata": {},
   "source": [
    "How text working"
   ]
  },
  {
   "cell_type": "code",
   "execution_count": 2,
   "metadata": {},
   "outputs": [
    {
     "data": {
      "text/plain": [
       "'smallbig'"
      ]
     },
     "execution_count": 2,
     "metadata": {},
     "output_type": "execute_result"
    }
   ],
   "source": [
    "text1 = 'small'\n",
    "text2 = 'big'\n",
    "\n",
    "text = text1 +text2\n",
    "text"
   ]
  },
  {
   "cell_type": "code",
   "execution_count": 4,
   "metadata": {},
   "outputs": [
    {
     "data": {
      "text/plain": [
       "'s'"
      ]
     },
     "execution_count": 4,
     "metadata": {},
     "output_type": "execute_result"
    }
   ],
   "source": [
    "#string本身像list一样查找\n",
    "text[0]"
   ]
  },
  {
   "cell_type": "code",
   "execution_count": 5,
   "metadata": {},
   "outputs": [
    {
     "name": "stdout",
     "output_type": "stream",
     "text": [
      "s\n",
      "m\n",
      "a\n",
      "l\n",
      "l\n",
      "b\n",
      "i\n",
      "g\n"
     ]
    }
   ],
   "source": [
    "for index in range(0, len(text)):\n",
    "    print(text[index])"
   ]
  },
  {
   "cell_type": "code",
   "execution_count": 6,
   "metadata": {},
   "outputs": [
    {
     "name": "stdout",
     "output_type": "stream",
     "text": [
      "s\n",
      "m\n",
      "a\n",
      "l\n",
      "l\n",
      "b\n",
      "i\n",
      "g\n"
     ]
    }
   ],
   "source": [
    "for char in text:\n",
    "    print(char)"
   ]
  },
  {
   "cell_type": "code",
   "execution_count": 18,
   "metadata": {},
   "outputs": [
    {
     "data": {
      "text/plain": [
       "'small'"
      ]
     },
     "execution_count": 18,
     "metadata": {},
     "output_type": "execute_result"
    }
   ],
   "source": [
    "#slice 隔一个\n",
    "text[0:5:2]\n",
    "\n",
    "#从倒数第五个到最后\n",
    "text[-5:]\n",
    "\n",
    "#从开头到第五个\n",
    "text[:5]                        "
   ]
  },
  {
   "cell_type": "code",
   "execution_count": 20,
   "metadata": {},
   "outputs": [
    {
     "data": {
      "text/plain": [
       "'maeee'"
      ]
     },
     "execution_count": 20,
     "metadata": {},
     "output_type": "execute_result"
    }
   ],
   "source": [
    "newtext = text[1:3] + 'eee'\n",
    "newtext"
   ]
  },
  {
   "cell_type": "code",
   "execution_count": 21,
   "metadata": {},
   "outputs": [
    {
     "data": {
      "text/plain": [
       "4"
      ]
     },
     "execution_count": 21,
     "metadata": {},
     "output_type": "execute_result"
    }
   ],
   "source": [
    "text = 'how are you today'\n",
    "\n",
    "def search(text, char):\n",
    "    for index in range(0, len(text)):\n",
    "        if text[index] == char:\n",
    "            return index\n",
    "        \n",
    "search(text, 'a')"
   ]
  },
  {
   "cell_type": "code",
   "execution_count": 24,
   "metadata": {},
   "outputs": [
    {
     "name": "stdout",
     "output_type": "stream",
     "text": [
      "<generator object search at 0x000001F34F0D47C0>\n",
      "2\n",
      "3\n",
      "4\n"
     ]
    }
   ],
   "source": [
    "def search(text, char):\n",
    "    for index in  range(0, len(text)):\n",
    "        if text[index] == char:\n",
    "            yield index\n",
    "\n",
    "# 这里尤其注意search的用法，作为generator，不能直接print之类的看到\n",
    "# 需要用for lopp来看到\n",
    "print(search(newtext, 'e'))\n",
    "\n",
    "for index in search(newtext, 'e'):\n",
    "    print(index)"
   ]
  },
  {
   "cell_type": "code",
   "execution_count": 25,
   "metadata": {},
   "outputs": [
    {
     "data": {
      "text/plain": [
       "False"
      ]
     },
     "execution_count": 25,
     "metadata": {},
     "output_type": "execute_result"
    }
   ],
   "source": [
    "text1 = 'acac'\n",
    "text2 = 'abab'\n",
    "text1<text2\n",
    "\n",
    "# capital letter can be smaller"
   ]
  },
  {
   "cell_type": "code",
   "execution_count": 26,
   "metadata": {},
   "outputs": [
    {
     "name": "stdout",
     "output_type": "stream",
     "text": [
      "yes\n"
     ]
    }
   ],
   "source": [
    "text = 'today is thursday'\n",
    "if 'thursday' in text:\n",
    "    print('yes')\n"
   ]
  },
  {
   "cell_type": "code",
   "execution_count": 28,
   "metadata": {},
   "outputs": [
    {
     "name": "stdout",
     "output_type": "stream",
     "text": [
      " \n",
      "h\n",
      "e\n",
      "o\n",
      " \n",
      "t\n",
      "h\n",
      "e\n",
      "r\n",
      "e\n"
     ]
    }
   ],
   "source": [
    "# find the common letter from two sentence\n",
    "\n",
    "text1 =' hello there'\n",
    "text2 = 'how is everything going'\n",
    "\n",
    "def in_both (w1, w2):\n",
    "    for char in w1:\n",
    "        if char in w2:\n",
    "            yield char\n",
    "\n",
    "for letter in in_both(text1, text2):\n",
    "    print(letter)\n"
   ]
  },
  {
   "cell_type": "code",
   "execution_count": 33,
   "metadata": {},
   "outputs": [
    {
     "data": {
      "text/plain": [
       "Counter({'k': 5,\n",
       "         'h': 5,\n",
       "         'j': 5,\n",
       "         'd': 3,\n",
       "         'f': 3,\n",
       "         'l': 3,\n",
       "         's': 2,\n",
       "         'u': 1,\n",
       "         'g': 1})"
      ]
     },
     "execution_count": 33,
     "metadata": {},
     "output_type": "execute_result"
    }
   ],
   "source": [
    "from collections import Counter as ccc\n",
    "\n",
    "text = 'kduhfhsjhkljdlkjflkjhskjfdhg'\n",
    "ccc(text)"
   ]
  },
  {
   "cell_type": "code",
   "execution_count": 35,
   "metadata": {},
   "outputs": [
    {
     "data": {
      "text/plain": [
       "['sma', '12 sma', '23 sma', 'l4343 sma', '3212']"
      ]
     },
     "execution_count": 35,
     "metadata": {},
     "output_type": "execute_result"
    }
   ],
   "source": [
    "my_word = 'small12 small23 smalll4343 small3212'\n",
    "my_word.split('ll')"
   ]
  },
  {
   "cell_type": "code",
   "execution_count": 36,
   "metadata": {},
   "outputs": [
    {
     "data": {
      "text/plain": [
       "'Small12 Small23 Smalll4343 Small3212'"
      ]
     },
     "execution_count": 36,
     "metadata": {},
     "output_type": "execute_result"
    }
   ],
   "source": [
    "my_word.replace('s', 'S')"
   ]
  },
  {
   "cell_type": "code",
   "execution_count": null,
   "metadata": {},
   "outputs": [],
   "source": []
  }
 ],
 "metadata": {
  "kernelspec": {
   "display_name": "Python 3",
   "language": "python",
   "name": "python3"
  },
  "language_info": {
   "codemirror_mode": {
    "name": "ipython",
    "version": 3
   },
   "file_extension": ".py",
   "mimetype": "text/x-python",
   "name": "python",
   "nbconvert_exporter": "python",
   "pygments_lexer": "ipython3",
   "version": "3.12.1"
  }
 },
 "nbformat": 4,
 "nbformat_minor": 2
}

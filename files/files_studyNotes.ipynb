{
 "cells": [
  {
   "cell_type": "markdown",
   "metadata": {},
   "source": [
    "Files I/O"
   ]
  },
  {
   "cell_type": "code",
   "execution_count": 12,
   "metadata": {},
   "outputs": [
    {
     "name": "stdout",
     "output_type": "stream",
     "text": [
      "Bristol,51.4536,-2.5975,United Kingdom,GB,\"Bristol, City of\",,567111,567111\n",
      "\n",
      "Brislington,51.4316,-2.5439,United Kingdom,GB,\"Bristol, City of\",,11511,11511\n",
      "\n"
     ]
    }
   ],
   "source": [
    "# read the file\n",
    "with open('gb.csv', 'r') as fh:\n",
    "    for line in fh:\n",
    "        if 'Bristol' in line:\n",
    "            print(line)"
   ]
  },
  {
   "cell_type": "code",
   "execution_count": 13,
   "metadata": {},
   "outputs": [],
   "source": [
    "# read and write the selected text into another file\n",
    "\n",
    "with open('gb.csv', 'r') as fh, open('write_here.txt', 'w') as fw:\n",
    "    for line in fh:\n",
    "        if 'Bristol' in line:\n",
    "            fw.write(line)"
   ]
  },
  {
   "cell_type": "code",
   "execution_count": 14,
   "metadata": {},
   "outputs": [
    {
     "name": "stdout",
     "output_type": "stream",
     "text": [
      "681\n"
     ]
    }
   ],
   "source": [
    "# counting how many lines in the file\n",
    "\n",
    "count = 0\n",
    "with open('gb.csv', 'r') as fh:\n",
    "    for line in fh:\n",
    "        count+=1\n",
    "\n",
    "print(count)"
   ]
  },
  {
   "cell_type": "code",
   "execution_count": null,
   "metadata": {},
   "outputs": [],
   "source": [
    "# import csv 能帮助处理很多csv格式中的细节，例如转义字符，不同的分隔符，包含引号的字段等扽，免去手动处理的麻烦。如果只需要简单的读取操作csv文件内容，只用open()就可以"
   ]
  },
  {
   "cell_type": "code",
   "execution_count": 22,
   "metadata": {},
   "outputs": [
    {
     "name": "stdout",
     "output_type": "stream",
     "text": [
      "['London', '51.5072', '-0.1275', 'United Kingdom', 'GB', 'London, City of', 'primary', '11262000', '8825001']\n",
      "London 11262000\n",
      "['Birmingham', '52.4800', '-1.9025', 'United Kingdom', 'GB', 'Birmingham', '', '2919600', '1137100']\n",
      "Birmingham 2919600\n",
      "['Manchester', '53.4794', '-2.2453', 'United Kingdom', 'GB', 'Manchester', '', '2705000', '547627']\n",
      "Manchester 2705000\n",
      "['Liverpool', '53.4075', '-2.9919', 'United Kingdom', 'GB', 'Liverpool', '', '864122', '513441']\n",
      "Liverpool 864122\n",
      "['Portsmouth', '50.8058', '-1.0872', 'United Kingdom', 'GB', 'Portsmouth', '', '855679', '248440']\n",
      "Portsmouth 855679\n",
      "['Southampton', '50.9025', '-1.4042', 'United Kingdom', 'GB', 'Southampton', '', '855569', '271173']\n",
      "Southampton 855569\n",
      "['Nottingham', '52.9533', '-1.1500', 'United Kingdom', 'GB', 'Nottingham', '', '768638', '289301']\n",
      "Nottingham 768638\n",
      "['Bristol', '51.4536', '-2.5975', 'United Kingdom', 'GB', 'Bristol, City of', '', '567111', '567111']\n",
      "Bristol 567111\n"
     ]
    }
   ],
   "source": [
    "import csv\n",
    "count = 0\n",
    "\n",
    "with open('gb.csv', 'r') as fh:\n",
    "    csvreader = csv.reader(fh)\n",
    "    for row in csvreader:\n",
    "        count+=1\n",
    "        if count>1 and count < 10:\n",
    "            print(row)\n",
    "            print(row[0], row[7]) # 打印第二行到第九行。一列中的第一个和第八个\n",
    "\n",
    "# it gives you lists,  different from above"
   ]
  },
  {
   "cell_type": "code",
   "execution_count": 39,
   "metadata": {},
   "outputs": [
    {
     "name": "stdout",
     "output_type": "stream",
     "text": [
      "{'firstName': 'John', 'lastName': 'Smith', 'isAlive': True, 'age': 27, 'address': {'streetAddress': '21 2nd Street', 'city': 'New York', 'state': 'NY', 'postalCode': '10021-3100'}, 'phoneNumbers': [{'type': 'home', 'number': '212 555-1234'}, {'type': 'office', 'number': '646 555-4567'}]}\n",
      "------------------\n",
      "John Smith\n",
      "------------------\n",
      "{'address': {'city': 'New York',\n",
      "             'postalCode': '10021-3100',\n",
      "             'state': 'NY',\n",
      "             'streetAddress': '21 2nd Street'},\n",
      " 'age': 27,\n",
      " 'firstName': 'John',\n",
      " 'isAlive': True,\n",
      " 'lastName': 'Smith',\n",
      " 'phoneNumbers': [{'number': '212 555-1234', 'type': 'home'},\n",
      "                  {'number': '646 555-4567', 'type': 'office'}]}\n",
      "------------------\n",
      "[{'type': 'home', 'number': '212 555-1234'}, {'type': 'office', 'number': '646 555-4567'}]\n",
      "------------------\n",
      "home 212 555-1234\n",
      "office 646 555-4567\n"
     ]
    }
   ],
   "source": [
    "# json method: json.loads()\n",
    "# pprint: pretty print: pprint.pprint\n",
    "\n",
    "import json\n",
    "import pprint\n",
    "def print_dash():\n",
    "    print('------------------')\n",
    "with open('resources/sample.json', 'r')as fh:\n",
    "    for line in fh:\n",
    "        person=json.loads(line)\n",
    "        print(person)\n",
    "        print_dash()\n",
    "        print(person['firstName'],  person['lastName'])\n",
    "        print_dash()\n",
    "        pprint.pprint(person)\n",
    "        print_dash()\n",
    "        print(person['phoneNumbers'])\n",
    "        print_dash()\n",
    "        for phone in person['phoneNumbers']:\n",
    "            print(phone['type'], phone['number'])"
   ]
  },
  {
   "cell_type": "code",
   "execution_count": null,
   "metadata": {},
   "outputs": [],
   "source": []
  }
 ],
 "metadata": {
  "kernelspec": {
   "display_name": "Python 3",
   "language": "python",
   "name": "python3"
  },
  "language_info": {
   "codemirror_mode": {
    "name": "ipython",
    "version": 3
   },
   "file_extension": ".py",
   "mimetype": "text/x-python",
   "name": "python",
   "nbconvert_exporter": "python",
   "pygments_lexer": "ipython3",
   "version": "3.11.7"
  }
 },
 "nbformat": 4,
 "nbformat_minor": 2
}

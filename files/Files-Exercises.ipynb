{
 "cells": [
  {
   "cell_type": "markdown",
   "metadata": {},
   "source": [
    "### Simple notepad"
   ]
  },
  {
   "cell_type": "markdown",
   "metadata": {},
   "source": [
    "Write a note-taking script that keeps asking the user for text and writes it to a file called ```notes.txt``` one line at a time, until the user writes the word ```exit``` alone on a line. This word should not be saved.\n",
    "\n",
    "Then write, in a separate cell, a script that prints the contents of ```notes.txt``` to the screen.\n",
    "\n",
    "Note that each time you run the note-taking script file ```notes.txt``` is cleared. To avoid this, modify the script so that it opens the file for appending instead of for writing - simply change the ```'w'``` into an ```'a'``` in the ```open()``` statement."
   ]
  },
  {
   "cell_type": "code",
   "execution_count": 6,
   "metadata": {},
   "outputs": [
    {
     "name": "stdout",
     "output_type": "stream",
     "text": [
      "one line:  weukhrwer\n",
      "one line:  dfsdf\n",
      "one line:  exit\n"
     ]
    }
   ],
   "source": [
    "fw = open('notes.txt','w')\n",
    "while True:\n",
    "    line = input('one line: ')\n",
    "    if line == 'exit':\n",
    "        fw.close()\n",
    "        break\n",
    "    fw.write(f\"{line} \\n\")"
   ]
  },
  {
   "cell_type": "markdown",
   "metadata": {},
   "source": [
    "### Save your pennies"
   ]
  },
  {
   "cell_type": "markdown",
   "metadata": {},
   "source": [
    "Write a program that reads a simple ```.csv``` file with the cost of shopping items. Your program should ask the user for the name of the file and print the total cost.\n",
    "\n",
    "An example input file should look like the one below: \n",
    "```\n",
    "milk,2.00\n",
    "bananas,1.25\n",
    "hamburger,4.95\n",
    "chocolate,25.00\n",
    "supplements,3.50\n",
    "```\n",
    "\n",
    "followed by the name of the *least* expensive item."
   ]
  },
  {
   "cell_type": "code",
   "execution_count": 19,
   "metadata": {},
   "outputs": [
    {
     "name": "stdout",
     "output_type": "stream",
     "text": [
      "name of file:  goods.txt\n"
     ]
    },
    {
     "name": "stdout",
     "output_type": "stream",
     "text": [
      "36.7\n"
     ]
    }
   ],
   "source": [
    "\n",
    "fn = input('name of file: ')\n",
    "costs=0\n",
    "with open(fn, 'r') as fh :\n",
    "    for line in fh:\n",
    "        (name, cost) = line.split(',')\n",
    "        costs+=float(cost)\n",
    "print(costs)\n",
    "\n"
   ]
  },
  {
   "cell_type": "markdown",
   "metadata": {},
   "source": [
    "如果想要直接把csv文件写进去，一定要注意格式"
   ]
  },
  {
   "cell_type": "code",
   "execution_count": 3,
   "metadata": {},
   "outputs": [],
   "source": [
    "text = \"\"\"product,price\n",
    "milk,2.00\n",
    "bananas,1.25\n",
    "hamburger,4.95\n",
    "chocolate,25.00\n",
    "supplements,3.50\n",
    "\"\"\"\n",
    "#注意第一行不要空行了\n",
    "fh = open('goods.csv','w')\n",
    "fh.write(text)\n",
    "fh.close()"
   ]
  },
  {
   "cell_type": "markdown",
   "metadata": {},
   "source": [
    "### Word count"
   ]
  },
  {
   "cell_type": "markdown",
   "metadata": {},
   "source": [
    "The Unix ```wc``` command prints the number of lines, words and characters in a text file (type ```man wc``` in a terminal for more details). Write a program that asks the user for the name of a file, reads it and does the same. Process the file line by line; you can assume words are separated by a space."
   ]
  },
  {
   "cell_type": "code",
   "execution_count": 2,
   "metadata": {},
   "outputs": [
    {
     "ename": "SyntaxError",
     "evalue": "invalid syntax (3009947842.py, line 1)",
     "output_type": "error",
     "traceback": [
      "\u001b[0;36m  Cell \u001b[0;32mIn[2], line 1\u001b[0;36m\u001b[0m\n\u001b[0;31m    wc notes.txt\u001b[0m\n\u001b[0m       ^\u001b[0m\n\u001b[0;31mSyntaxError\u001b[0m\u001b[0;31m:\u001b[0m invalid syntax\n"
     ]
    }
   ],
   "source": [
    "wc notes.txt\n"
   ]
  },
  {
   "cell_type": "code",
   "execution_count": 25,
   "metadata": {},
   "outputs": [
    {
     "name": "stdout",
     "output_type": "stream",
     "text": [
      "lines: 3 , words: 9, characters: 42\n"
     ]
    }
   ],
   "source": [
    "#file = input('file name: ')\n",
    "file = 'notes.txt'\n",
    "fh = open(file,'r')\n",
    "#prints the number of lines, words and characters\n",
    "\n",
    "clines = 0\n",
    "cwords = 0\n",
    "cchars = 0\n",
    "for line in fh:\n",
    "    clines +=1\n",
    "    for w in line.split():\n",
    "        cwords +=1\n",
    "        for c in w:\n",
    "            cchars += 1\n",
    "\n",
    "print(f\"lines: {clines} , words: {cwords}, characters: {cchars}\")"
   ]
  },
  {
   "cell_type": "markdown",
   "metadata": {},
   "source": [
    "### Mash them up"
   ]
  },
  {
   "cell_type": "markdown",
   "metadata": {},
   "source": [
    "The Unix command ```cat``` allows you to concatenate the content of two files by appending the contents of the second file to those of the first file. In this exercise, we are going to create a program that combines the files, so to speak, \"side by side\", by concatenating corresponding lines.\n",
    "\n",
    "Your program should ask the user for the names of the first (left-hand) input file, the second (right-hand) file and the output file. It should also ask for a separator string. It should then start reading one line at a time from each of the left- and right-hand files, and combine them to the output file as follows:\n",
    "```\n",
    "\"line from left-hand file\" + \"separator string\" + \"line from right-hand file\" + \"\\n\"\n",
    "```\n",
    "So for instance if the left-hand file is a CSV file with 3 columns, the right-hand file is a CSV file with two columns and the string separator is ```\", 0,\"``` the result will be a CSV file with 6 columns: the 3 columns from the left-hand file, a column of zeros inserted by the separator, and the two columns from the right-hand file.\n",
    "\n",
    "In order to keep the output consistent, your program should terminate when the shortest of the two input files runs out."
   ]
  },
  {
   "cell_type": "code",
   "execution_count": 35,
   "metadata": {},
   "outputs": [
    {
     "name": "stdout",
     "output_type": "stream",
     "text": [
      "Name, Surname, Mark, 0 ,milk,2.00\n",
      "John, Smith, 50, 0 ,bananas,1.25\n",
      "Anne, Larsson, 65, 0 ,hamburger,4.95\n",
      "Emiliano, Zapata, 95, 0 ,chocolate,25.00\n",
      "Donald, Duck, 40, 0 ,supplements,3.50\n"
     ]
    }
   ],
   "source": [
    "lfile = 'marksheet.csv'\n",
    "rfile = 'goods.txt'\n",
    "\n",
    "def count_lines(fname):\n",
    "    count=0\n",
    "    with open(fname,'r') as fh:\n",
    "        for line in fh:\n",
    "            count+=1\n",
    "    return count\n",
    "    \n",
    "with open(lfile,'r') as lfh, open(rfile,'r') as rfh:\n",
    "    for i in range(min(count_lines(lfile), count_lines(rfile))):\n",
    "        print(lfh.readline().rstrip()+ ', 0 ,' + rfh.readline().strip())\n",
    "\n",
    "   \n"
   ]
  },
  {
   "cell_type": "markdown",
   "metadata": {},
   "source": [
    "### Counting vowels... and more"
   ]
  },
  {
   "cell_type": "markdown",
   "metadata": {},
   "source": [
    "Retrieve the code you wrote for the \"Counting vowels\" exercise (Notebook *Collections-Exercises*).\n",
    "\n",
    "* Modify it so that, instead of processing a string, it reads a text file \n",
    "* Process the file line by line. \n",
    "* Go ahead, download an entire book from [Project Gutenberg](https://www.gutenberg.org/) and try crunching it.\n",
    "* Can you use a loop to compute the frequency of all letters of the alphabet, instead of just the five vowels?\n",
    "\n",
    "\n",
    "Hint No 1: There are two ways of doing this. The first is, loop over each line in the file tallying one character at a time. The second is, for each line in the file, loop over the alphabet and call the ```str.count``` method to see how many times each letter occurs in that line. The first one is maybe more natural.\n",
    "\n",
    "Hint No 2: the command\n",
    "```\n",
    "from string import ascii_uppercase\n",
    "```\n",
    "will import variable ```ascii_uppercase``` with the entire uppercase alphabet from module ```string``` in the standard library. You can substitute ```ascii_lowercase``` for that if you prefer."
   ]
  },
  {
   "cell_type": "code",
   "execution_count": 61,
   "metadata": {},
   "outputs": [
    {
     "name": "stdout",
     "output_type": "stream",
     "text": [
      "of : 5201\n",
      "and : 3313\n",
      "the : 8342\n",
      "in : 2608\n",
      "to : 3748\n"
     ]
    }
   ],
   "source": [
    "#compute frequency of all letters\n",
    "#compute just five vowels\n",
    "words = {}\n",
    "with open('Presidential addresses and State papers.txt','r') as fh:\n",
    "    for line in fh:\n",
    "        for w in line.split():\n",
    "            if w not in words:\n",
    "                words[w] = 1\n",
    "            else:\n",
    "                words[w] += 1\n",
    "\n",
    "#counting the most frequent five words\n",
    "va = sorted(words.values(), reverse = True)[:5]\n",
    "\n",
    "for key, value in words.items():\n",
    "    if value in va:\n",
    "        print(f\"{key} : {value}\")\n",
    "#print([key for key, value in words.items() for value in va])"
   ]
  }
 ],
 "metadata": {
  "kernelspec": {
   "display_name": "Python 3",
   "language": "python",
   "name": "python3"
  },
  "language_info": {
   "codemirror_mode": {
    "name": "ipython",
    "version": 3
   },
   "file_extension": ".py",
   "mimetype": "text/x-python",
   "name": "python",
   "nbconvert_exporter": "python",
   "pygments_lexer": "ipython3",
   "version": "3.11.7"
  }
 },
 "nbformat": 4,
 "nbformat_minor": 4
}

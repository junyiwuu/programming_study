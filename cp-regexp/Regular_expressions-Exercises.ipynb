{
 "cells": [
  {
   "cell_type": "markdown",
   "metadata": {},
   "source": [
    "### Mistery pattern"
   ]
  },
  {
   "cell_type": "markdown",
   "metadata": {},
   "source": [
    "What does the following regular expression match? Try to find out!\n",
    "```\n",
    "r\"([A-Za-z0-9\\.]+)@[A-Za-z0-9\\.]*qmul\\.ac\\.uk\"\n",
    "```"
   ]
  },
  {
   "cell_type": "code",
   "execution_count": null,
   "metadata": {},
   "outputs": [],
   "source": [
    "import re\n",
    "\n",
    "pattern=r\"([A-Za-z0-9\\.]+)@[A-Za-z0-9\\.]*qmul\\.ac\\.uk\"\n",
    "\n",
    "# Your code here\n"
   ]
  },
  {
   "cell_type": "markdown",
   "metadata": {},
   "source": [
    "When you have got it, try using the ```.search()``` function to return a matching object and  print ```.group(1)``` of the matching object. This corresponds to whatever matches the content of the first (and only) pair of brackets () in the pattern. What is it?"
   ]
  },
  {
   "cell_type": "markdown",
   "metadata": {},
   "source": [
    "### Call me back"
   ]
  },
  {
   "cell_type": "markdown",
   "metadata": {},
   "source": [
    "Write a function ```parseNumber``` that takes a string with a phone number as an argument, and returns a dictionary with the country code, area code (starting with zero) and number as separate strings.\n",
    "So for instance the call\n",
    "```\n",
    "parseNumber(\"+44 (207) 882 5555\")\n",
    "```\n",
    "should return the dictionary\n",
    "```\n",
    "{\n",
    "    \"country\": \"44\",\n",
    "    \"area\": \"0207\",\n",
    "    \"number\": \"8825555\" # remove the spaces\n",
    "}\n",
    "\n",
    "```\n",
    "Use grouping as in the example above; search for \"Grouping\" in the official [tutorial](https://docs.python.org/3/howto/regex.html) for more information. You can stick with this format, or try to cater for a few variants - for instance ```\"(0207) 8825555\"``` might return ```None``` for the country, and the rest as above. \n",
    "Simply return ```None``` if the number cannot be parsed. You may need a combination of regular expressions, string methods and ```if``` statements to get the job done."
   ]
  },
  {
   "cell_type": "markdown",
   "metadata": {},
   "source": [
    "### Books to scrape"
   ]
  },
  {
   "cell_type": "markdown",
   "metadata": {},
   "source": [
    "The few lines of code below download the html source code of the home page of a simulated [bookstore](http://books.toscrape.com/) meant for web scraping practice. Write code that uses regular expressions to extract the title and price of the books listed on the page, and prints them out as comma-separated values:\n",
    "\n",
    "```\n",
    "A Light in the Attic,£51.77\n",
    "Tipping the Velvet,£53.74\n",
    "...\n",
    "```\n",
    "Hint: have a look at the web page first. Then print the ```html``` variable, and use the search function of your browser (generally CTRL-F) on the notebook to find occurrences of title words or prices in the source code of the page. Is there any regularity you can exploit? "
   ]
  },
  {
   "cell_type": "code",
   "execution_count": null,
   "metadata": {},
   "outputs": [],
   "source": [
    "# This exercise uses the requests package - when running locally, if it is not\n",
    "# available, try to install it by typing \"pip install requests\" in the terminal. \n",
    "# Anaconda users try \"conda install requests\" instead\n",
    "from requests import get\n",
    "\n",
    "url='http://books.toscrape.com/'\n",
    "response=get(url)\n",
    "# html code as a string\n",
    "html=response.content.decode('utf-8')"
   ]
  },
  {
   "cell_type": "markdown",
   "metadata": {},
   "source": [
    "### An interactive tutorial"
   ]
  },
  {
   "cell_type": "markdown",
   "metadata": {},
   "source": [
    "There are a number of interactive tutorials and puzzles on regular expressions online. Try this one:\n",
    "    \n",
    "http://regexone.com/"
   ]
  },
  {
   "cell_type": "code",
   "execution_count": null,
   "metadata": {},
   "outputs": [],
   "source": []
  },
  {
   "cell_type": "markdown",
   "metadata": {},
   "source": [
    "**(C) 2014,2020 Fabrizio Smeraldi** ([f.smeraldi@qmul.ac.uk](mailto:f.smeraldi@qmul.ac.uk) - [web](http://www.eecs.qmul.ac.uk/~fabri/)), all rights reserved. In: \"Computer Programming\", School of Electronic Engineering and Computer Science, Queen Mary University of London."
   ]
  }
 ],
 "metadata": {
  "kernelspec": {
   "display_name": "Python 3",
   "language": "python",
   "name": "python3"
  },
  "language_info": {
   "codemirror_mode": {
    "name": "ipython",
    "version": 3
   },
   "file_extension": ".py",
   "mimetype": "text/x-python",
   "name": "python",
   "nbconvert_exporter": "python",
   "pygments_lexer": "ipython3",
   "version": "3.8.5"
  }
 },
 "nbformat": 4,
 "nbformat_minor": 1
}

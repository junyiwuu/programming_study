{
 "cells": [
  {
   "cell_type": "code",
   "execution_count": 1,
   "metadata": {},
   "outputs": [
    {
     "name": "stdout",
     "output_type": "stream",
     "text": [
      "The double is  6\n"
     ]
    }
   ],
   "source": [
    "def twice(x):\n",
    "    return 2*x\n",
    "\n",
    "y = input(\"give me a number \")\n",
    "y = int(y)\n",
    "z=twice(y)\n",
    "\n",
    "print(\"The double is \", z)\n"
   ]
  },
  {
   "cell_type": "code",
   "execution_count": 2,
   "metadata": {},
   "outputs": [
    {
     "name": "stdout",
     "output_type": "stream",
     "text": [
      "The double is  8\n"
     ]
    }
   ],
   "source": [
    "def twice(x):\n",
    "    x=input (\"give me a number \")\n",
    "    x=int(x)\n",
    "    print(\"The double is \", 2*x)\n",
    "    return\n",
    "\n",
    "twice(1)"
   ]
  },
  {
   "cell_type": "markdown",
   "metadata": {},
   "source": [
    "### Maximum of two"
   ]
  },
  {
   "cell_type": "code",
   "execution_count": null,
   "metadata": {},
   "outputs": [],
   "source": []
  },
  {
   "cell_type": "markdown",
   "metadata": {},
   "source": [
    "Define a function ```max_of_two()``` that takes two numbers as arguments and returns the largest of them. Use the if-then-else construct available in Python. (It is true that Python has the max() function built in, but writing it yourself is nevertheless a good exercise.)\n",
    "\n",
    "(Credits:  [Thorbjoern Lager](https://www.gu.se/english/about_the_university/staff/?languageId=100001&userId=xlagto))"
   ]
  },
  {
   "cell_type": "code",
   "execution_count": 3,
   "metadata": {},
   "outputs": [
    {
     "data": {
      "text/plain": [
       "9"
      ]
     },
     "execution_count": 3,
     "metadata": {},
     "output_type": "execute_result"
    }
   ],
   "source": [
    "def max_of_two(m,n):\n",
    "    if m>n:\n",
    "        return m\n",
    "    else:\n",
    "        return n\n",
    "    \n",
    "max_of_two(9,2)\n"
   ]
  },
  {
   "cell_type": "markdown",
   "metadata": {},
   "source": [
    "### Maximum of three"
   ]
  },
  {
   "cell_type": "markdown",
   "metadata": {},
   "source": [
    "Define a function ```max_of_three()``` that takes three numbers as arguments and returns the largest of them. Use if-then-else.\n",
    "\n",
    "(Credits:  [Thorbjoern Lager](https://www.gu.se/english/about_the_university/staff/?languageId=100001&userId=xlagto))"
   ]
  },
  {
   "cell_type": "code",
   "execution_count": 14,
   "metadata": {},
   "outputs": [
    {
     "data": {
      "text/plain": [
       "222"
      ]
     },
     "execution_count": 14,
     "metadata": {},
     "output_type": "execute_result"
    }
   ],
   "source": [
    "def max_of_three(a,b,c):\n",
    "    if a>b and a>c:\n",
    "        return a\n",
    "    elif b>a and b>c:\n",
    "        return b\n",
    "    else:\n",
    "        return c\n",
    "    #elif c>a & c>b:\n",
    "     #   return c\n",
    "    \n",
    "    \n",
    "max_of_three(23,63,222)"
   ]
  },
  {
   "cell_type": "code",
   "execution_count": 12,
   "metadata": {},
   "outputs": [
    {
     "name": "stdout",
     "output_type": "stream",
     "text": [
      "2\n"
     ]
    }
   ],
   "source": [
    "num1 = 2\n",
    "\n",
    "num2= 10\n",
    "print (num1 & num2)"
   ]
  },
  {
   "cell_type": "markdown",
   "metadata": {},
   "source": [
    "### Maximum of many"
   ]
  },
  {
   "cell_type": "markdown",
   "metadata": {},
   "source": [
    "Define a function ```listMax()``` that takes a list as argument and returns a tuple with the maximum and its index in the list.\n",
    "\n",
    "(Credits:  [Thorbjoern Lager](https://www.gu.se/english/about_the_university/staff/?languageId=100001&userId=xlagto), adapted)"
   ]
  },
  {
   "cell_type": "code",
   "execution_count": 17,
   "metadata": {},
   "outputs": [
    {
     "data": {
      "text/plain": [
       "(434, 6)"
      ]
     },
     "execution_count": 17,
     "metadata": {},
     "output_type": "execute_result"
    }
   ],
   "source": [
    "def listMax(l):\n",
    "    a = max(l)\n",
    "    b = l.index(a)\n",
    "    return (a,b)\n",
    "\n",
    "l = [2,5,35,7,32,5,434,54,3,2,2]\n",
    "listMax(l)"
   ]
  },
  {
   "cell_type": "markdown",
   "metadata": {},
   "source": [
    "### Roll your own"
   ]
  },
  {
   "cell_type": "markdown",
   "metadata": {},
   "source": [
    "Take the three functions you coded above and put them in a file called ```mymax.py``` to make a module. Then try writing a simple program that starts with \n",
    "```\n",
    "import mymax\n",
    "```\n",
    "and calls the functions you wrote as ```mymax.max_of_three()```, etc"
   ]
  },
  {
   "cell_type": "code",
   "execution_count": 18,
   "metadata": {},
   "outputs": [
    {
     "data": {
      "text/plain": [
       "4"
      ]
     },
     "execution_count": 18,
     "metadata": {},
     "output_type": "execute_result"
    }
   ],
   "source": [
    "import mymax\n",
    "\n",
    "mymax.max_of_three(2,4,1)"
   ]
  },
  {
   "cell_type": "markdown",
   "metadata": {},
   "source": [
    "### Histogram"
   ]
  },
  {
   "cell_type": "markdown",
   "metadata": {},
   "source": [
    "Define a procedure ```histogram()``` that takes a list of integers and prints a histogram to the screen. For example, ```histogram([4, 9, 7])``` should print the following:\n",
    "```\n",
    "****\n",
    "*********\n",
    "*******\n",
    "```\n",
    "Note: a *procedure* is a function that does not return any value, it simply *does* something.\n",
    "\n",
    "(Credits:  [Thorbjoern Lager](https://www.gu.se/english/about_the_university/staff/?languageId=100001&userId=xlagto))"
   ]
  },
  {
   "cell_type": "code",
   "execution_count": 22,
   "metadata": {},
   "outputs": [
    {
     "name": "stdout",
     "output_type": "stream",
     "text": [
      "*********\n",
      "***\n",
      "****\n",
      "****\n",
      "**\n"
     ]
    }
   ],
   "source": [
    "def histogram(l):\n",
    "    for i in l:\n",
    "        print('*'*int(i))\n",
    "\n",
    "l = [9,3,4,4,2]\n",
    "histogram(l)"
   ]
  },
  {
   "cell_type": "markdown",
   "metadata": {},
   "source": [
    "### Got it all backwards"
   ]
  },
  {
   "cell_type": "markdown",
   "metadata": {},
   "source": [
    "Define a function ```reverse()``` that takes a string as an argument and returns it reversed. For instance,   ```reverse(\"I am testing\")``` should return the string \"gnitset ma I\".\n",
    "\n",
    "\n",
    "(Credits:  [Thorbjoern Lager](https://www.gu.se/english/about_the_university/staff/?languageId=100001&userId=xlagto))"
   ]
  },
  {
   "cell_type": "code",
   "execution_count": 2,
   "metadata": {},
   "outputs": [
    {
     "data": {
      "text/plain": [
       "'gnitset ma i'"
      ]
     },
     "execution_count": 2,
     "metadata": {},
     "output_type": "execute_result"
    }
   ],
   "source": [
    "def reverse(s):\n",
    "    n = len(s)\n",
    "    new_l = []\n",
    "    while True:\n",
    "        new_l.append(s[n-1])\n",
    "        n-=1\n",
    "        if n==0:\n",
    "            break\n",
    "    return \"\".join(new_l)\n",
    "\n",
    "text = \"i am testing\"\n",
    "reverse(text)"
   ]
  },
  {
   "cell_type": "code",
   "execution_count": 31,
   "metadata": {},
   "outputs": [
    {
     "data": {
      "text/plain": [
       "'gnitset ma i'"
      ]
     },
     "execution_count": 31,
     "metadata": {},
     "output_type": "execute_result"
    }
   ],
   "source": [
    "text = \"i am testing\"\n",
    "new_text = text[::-1]\n",
    "new_text"
   ]
  },
  {
   "cell_type": "markdown",
   "metadata": {},
   "source": [
    "### Palindromes"
   ]
  },
  {
   "cell_type": "markdown",
   "metadata": {},
   "source": [
    "A palindrome is a word or sentence that is unaltered when read backwards.\n",
    "\n",
    "Write a palindrome recognizer ```isPalindrome()``` that accepts phrase palindromes such as \"Go hang a salami I'm a lasagna hog.\", \"Was it a rat I saw?\", \"Step on no pets\", \"Sit on a potato pan, Otis\", \"Lisa Bonet ate no basil\", \"Satan, oscillate my metallic sonatas\", \"I roamed under it as a tired nude Maori\", \"Rise to vote sir\", or the exclamation \"Dammit, I'm mad!\". Note that punctuation, capitalization, and spacing are usually ignored. \n",
    "\n",
    "Your function should return ```True``` for palindromes and ```False``` otherwise. Your function should use the ```reverse()``` function you just programmed to do its job.\n",
    "\n",
    "(Credits:  [Thorbjoern Lager](https://www.gu.se/english/about_the_university/staff/?languageId=100001&userId=xlagto))"
   ]
  },
  {
   "cell_type": "code",
   "execution_count": 7,
   "metadata": {},
   "outputs": [
    {
     "data": {
      "text/plain": [
       "True"
      ]
     },
     "execution_count": 7,
     "metadata": {},
     "output_type": "execute_result"
    }
   ],
   "source": [
    "def isPalindrome(s):\n",
    "    clean = ''.join([char for char in s if char.isalpha()])\n",
    "    pos = round(len(clean)/2)\n",
    "    first_half = clean[:pos+1].lower()\n",
    "    second_half = reverse(clean)[:pos+1].lower()\n",
    "    if first_half == second_half:\n",
    "        return True\n",
    "    else:\n",
    "        return False\n",
    "\n",
    "s='Step on no pets'\n",
    "isPalindrome(s)"
   ]
  },
  {
   "cell_type": "markdown",
   "metadata": {},
   "source": [
    "### Default arguments and calling styles"
   ]
  },
  {
   "cell_type": "markdown",
   "metadata": {},
   "source": [
    "Try calling the procedure below in the following ways, that are all legal, and see what happens:\n",
    "```\n",
    "aProc(\"eggs\", \"bacon\") # specify both arguments (the usual way)\n",
    "aProc() # use default values\n",
    "aProc(\"goo\") # only specifies first argument\n",
    "aProc(second=\"more spam\") # only specifies second argument\n",
    "pet=[\"Humpty\", \"Dumpty\"]\n",
    "aProc(*pet) # both arguments as a list \n",
    "meg_and_mog={'first': 'Meg', 'second': 'Mog'} \n",
    "aProc(**meg_and_mog) # both arguments as a dictionary\n",
    "```"
   ]
  },
  {
   "cell_type": "code",
   "execution_count": 1,
   "metadata": {},
   "outputs": [],
   "source": [
    "def aProc(first=\"spam\", second=\"ham\"):\n",
    "    \"\"\" This procedure has default values for its arguments \"\"\"\n",
    "    print(\"The first argument is: \", first)\n",
    "    print(\"And the second is    : \", second)\n",
    "    print(\"---------------------------------\")"
   ]
  },
  {
   "cell_type": "markdown",
   "metadata": {},
   "source": [
    "### Lingo"
   ]
  },
  {
   "cell_type": "markdown",
   "metadata": {},
   "source": [
    "\n",
    "\n",
    "In a game of Lingo, there is a hidden word, five characters long. The object of the game is to find this word by guessing, and in return receive two kinds of clues: 1) the characters that are fully correct, with respect to identity as well as to position, and 2) the characters that are indeed present in the word, but which are placed in the wrong position. Write a program with which one can play Lingo. Use square brackets to mark characters correct in the sense of 1), and ordinary parentheses to mark characters correct in the sense of 2). For the sake of the exercise, your program should pass each character in the user input to a function that \"packages\" it in brackets (or not). In turn, this should use two separate functions to check if either 1) or 2) apply.\n",
    "\n",
    "Assuming, for example, that the program conceals the word \"tiger\", you should be able to interact with it in the following way:\n",
    "\n",
    "```\n",
    "snake\n",
    "Clue: snak(e)\n",
    "least\n",
    "Clue: l(e)as(t)\n",
    "times\n",
    "Clue: [t][i]m[e]s\n",
    "tiger\n",
    "Clue: [t][i][g][e][r]\n",
    "```\n",
    "\n",
    "(Credits:  [Thorbjoern Lager](https://www.gu.se/english/about_the_university/staff/?languageId=100001&userId=xlagto))"
   ]
  },
  {
   "cell_type": "code",
   "execution_count": 27,
   "metadata": {},
   "outputs": [],
   "source": [
    "def lingo(target):\n",
    "\n",
    "    \n",
    "    \n",
    "    while True:\n",
    "        usr = input('input yout guess: ')\n",
    "       \n",
    "        if len(usr) != len(target):\n",
    "            print('need to enter the same length as target word')\n",
    "            continue\n",
    "        \n",
    "        \n",
    "        show=[]\n",
    "        for i in range(len(usr)):\n",
    "\n",
    "            #when abs correct\n",
    "            if usr[i] == target[i]:\n",
    "                show.append(f\"[{usr[i]}]\") \n",
    "\n",
    "            #when just inside list but position not correct\n",
    "            elif usr[i] in target:\n",
    "                show.append(f\"({usr[i]})\")\n",
    "\n",
    "            else:\n",
    "                show.append(usr[i])\n",
    "        print(usr)\n",
    "        print('clue: ', ''.join(show))\n",
    "\n",
    "        if usr == target:\n",
    "            print('congratulations!')\n",
    "        \n",
    "            break\n",
    "\n",
    "\n",
    "target = 'small'\n",
    "lingo(target)"
   ]
  },
  {
   "cell_type": "code",
   "execution_count": 43,
   "metadata": {},
   "outputs": [
    {
     "name": "stdout",
     "output_type": "stream",
     "text": [
      "None\n",
      "None\n",
      "None\n",
      "None\n",
      "wel don\n"
     ]
    }
   ],
   "source": [
    "secret = \"tiger\"\n",
    "\n",
    "\n",
    "def feedback(guess):\n",
    "    pass\n",
    "\n",
    "guess = \"\"\n",
    "while guess != secret:\n",
    "    guess = input(\"whats your guess\")\n",
    "    print(feedback(guess))\n",
    "\n",
    "print('wel don')\n",
    "\n",
    "        "
   ]
  },
  {
   "cell_type": "code",
   "execution_count": 54,
   "metadata": {},
   "outputs": [
    {
     "name": "stdout",
     "output_type": "stream",
     "text": [
      "hf(i)(t)[r]\n",
      "j(g)(i)(r)d\n",
      "[t][i][g][e][r]\n",
      "wel don\n"
     ]
    }
   ],
   "source": [
    "secret = \"tiger\"\n",
    "\n",
    "#check if the correct position\n",
    "def rightpos(c, pos):\n",
    "    return secret[pos]==c\n",
    "    \"\"\"if c == secret[pos]:\n",
    "        return True\n",
    "    else:\n",
    "        return False\n",
    "    \"\"\"\n",
    "\n",
    "def in_secre(c):\n",
    "   return c in secret\n",
    "   \"\"\" if c in secret:\n",
    "        return True\n",
    "    else:\n",
    "        return False\"\"\"\n",
    "\n",
    "def feedback(guess):\n",
    "    fbk=\"\"\n",
    "    for i  in range(len(guess)):\n",
    "        c = guess[i]\n",
    "        if rightpos(c,i):\n",
    "            fbk = fbk + \"[\" + c + \"]\"\n",
    "        elif in_secre(c):\n",
    "            fbk = fbk + \"(\" +c +\")\"\n",
    "        else:\n",
    "            fbk += c\n",
    "    return fbk\n",
    "\n",
    "guess = \"\"\n",
    "while guess != secret:\n",
    "    guess = input(\"whats your guess\")\n",
    "    print(feedback(guess))\n",
    "\n",
    "print('wel don')\n",
    "\n",
    "        "
   ]
  },
  {
   "cell_type": "markdown",
   "metadata": {},
   "source": [
    "### Born on the Fourth of July"
   ]
  },
  {
   "cell_type": "markdown",
   "metadata": {},
   "source": [
    "You now have all the tools and the knowledge to do fairly complex stuff. Let's try some data analysis -\n",
    "read [this story](https://fivethirtyeight.com/features/some-people-are-too-superstitious-to-have-a-baby-on-friday-the-13th/) online, and download the underlying data - it's available in a [github repository](https://github.com/fivethirtyeight/data/tree/master/births). Read the ```README.md``` file carefully and make a note of file format, then click on ```US_births_2000-2014_SSA.csv```, click on *Raw* and use the *File>Save Page As* (or equivalent) function of your browser to save the file in  your working directory (if this does not work for you, you can download the entire repository from GitHub as you would one of our lectures, and then copy the file over).\n",
    "\n",
    "* Write a function that reads all the data into a list of *(year, month, date_of_month, day_of_week, births)* tuples. Remember to convert all data to type ```int```\n",
    "* Warm-up exercise: for the sake of the title, compute the average number of people born yearly on July 4th (hint: that should be around 8815.27). If you are curious, do the same for people born on Friday 13th, and people born on a Friday that's not the 13th.\n",
    "\n",
    "Data aggregation is a basic stepstone of data analysis. We can aggregate birth data with respect to each of the first  four columns to find how many people were born in each year, on each day of the week or on each date of the month.\n",
    "\n",
    "* Write a function called ```aggregate``` that takes as its arguments the data and the number of a \"key\" column for aggregation. The function should return a dictionary. The keys of the dictionary should be all values of the \"key\" column; the corresponding values should be the total of all births listed against each value of the \"key\" column. So for instance if the \"key\" column is number 3 (*day_of_week*), the dictionary should have keys 1 to 7 and the value for, say, key 1 should be the sum of all births for which *day_of_week* is listed as being 1.\n",
    "\n",
    "Hint: this is somewhat similar to the \"Counting Vowels\" exercise (in both \"Collections\" and \"Files\" lectures), except the key values now are taken from the data table itself, and increments are given by the number of births. If you get stuck, try hard-coding it for the *day_of_week* column only, move on to the following part, test the two functions together, and then come back to this.\n",
    "\n",
    "* Write a function called ```print_stats``` that takes as its argument an aggregated data dictionary as returned by ```aggregate``` and prints it out as a nice table of key-value pairs, sorted by key.\n",
    "\n",
    "* Use the above two functions to compute and tabulate the total number of births in each year, on each day of the week, in each month and on each date of the month. Can you spot any interesting trends?\n",
    "\n",
    "**NOTE:** This is a slightly more complex exercise - you may not have the time to go beyond the warm-up part in class, but we recommend you attempt the rest in your own time. Be prepared for the second part to require some thinking. This exercise is also, like all exploratory data analysis tasks, very open-ended - if you want to do more, you can modify the ```histogram``` function to take a dictionary as its input, and use it to plot the percentage of people born on each day of the week, month or date of the month. You can also try analysing the data in the other birth data file, ```US_births_1994-2003_CDC_NCHS.csv```, that is formatted in the same way, and see if any trends you identified are confirmed in the longer term."
   ]
  },
  {
   "cell_type": "code",
   "execution_count": 1,
   "metadata": {},
   "outputs": [
    {
     "name": "stdout",
     "output_type": "stream",
     "text": [
      "15\n",
      "132229\n"
     ]
    },
    {
     "data": {
      "text/plain": [
       "8815.266666666666"
      ]
     },
     "execution_count": 1,
     "metadata": {},
     "output_type": "execute_result"
    }
   ],
   "source": [
    "import csv\n",
    "\n",
    "def to_tuple(fpath):\n",
    "    fh =  csv.reader(open(fpath,'r'))\n",
    "    next(fh)\n",
    "    tuple_l = []\n",
    "    for l in fh:\n",
    "        t = (int(l[0]), int(l[1]), int(l[2]), int( l[3]), int(l[4]))\n",
    "        tuple_l.append(t)\n",
    "    return tuple_l\n",
    "\n",
    "\n",
    " \n",
    "#fpath = 'D:/programming_study/resources/usBirth/US_births_1994-2003_CDC_NCHS.csv'\n",
    "#fpath = 'D:/programming_study/resources/usBirth/US_births_2000-2014_SSA.csv'\n",
    "#fpath = \"/workspaces/programming_study/resources/usBirth/US_births_1994-2003_CDC_NCHS.csv\"\n",
    "fpath = \"/workspaces/programming_study/resources/usBirth/US_births_2000-2014_SSA.csv\"\n",
    "l = to_tuple(fpath)\n",
    "\n",
    "\n",
    "#count year:\n",
    "\n",
    "sum_p = 0\n",
    "count_y = 0\n",
    "year =[]\n",
    "for row in l:\n",
    "    if int(row[0]) not in year:\n",
    "        year.append(int(row[0]))\n",
    "    else:\n",
    "        pass\n",
    "\n",
    "    if int(row[1]) ==7 and int(row[2])==4:\n",
    "\n",
    "        sum_p+=row[-1]\n",
    "\n",
    "#average\n",
    "#sum_p/count_ykkk\n",
    "print(len(year))\n",
    "print(sum_p)\n",
    "sum_p/len(year)"
   ]
  },
  {
   "cell_type": "code",
   "execution_count": 3,
   "metadata": {},
   "outputs": [
    {
     "name": "stdout",
     "output_type": "stream",
     "text": [
      "25 155\n"
     ]
    }
   ],
   "source": [
    "# people who born on Friday 13th, and people who born on friday but not 13th\n",
    "count_friday13 = 0\n",
    "count_fridaynot13 = 0\n",
    "for row in l:\n",
    "    if row[2] == 13 and row[3] == 5:\n",
    "        count_friday13+=1\n",
    "    if row[2] == 13 and row[3]!=5:\n",
    "        count_fridaynot13+=1\n",
    "    \n",
    "\n",
    "print(count_friday13, count_fridaynot13)"
   ]
  },
  {
   "cell_type": "markdown",
   "metadata": {},
   "source": [
    "\n",
    "* Write a function called ```aggregate``` that takes as its arguments the data and the number of a \"key\" column for aggregation. The function should return a dictionary. The keys of the dictionary should be all values of the \"key\" column; the corresponding values should be the total of all births listed against each value of the \"key\" column. So for instance if the \"key\" column is number 3 (*day_of_week*), the dictionary should have keys 1 to 7 and the value for, say, key 1 should be the sum of all births for which *day_of_week* is listed as being 1.\n",
    "\n",
    "Hint: this is somewhat similar to the \"Counting Vowels\" exercise (in both \"Collections\" and \"Files\" lectures), except the key values now are taken from the data table itself, and increments are given by the number of births. If you get stuck, try hard-coding it for the *day_of_week* column only, move on to the following part, test the two functions together, and then come back to this."
   ]
  },
  {
   "cell_type": "code",
   "execution_count": 14,
   "metadata": {},
   "outputs": [],
   "source": [
    "def aggregate(data , key):\n",
    "    #data is the list of tuples\n",
    "    dic  = {}\n",
    "\n",
    "    distinct = []\n",
    "\n",
    "    for row in data:\n",
    "\n",
    "        if row[key] not in distinct:\n",
    "            distinct.append(row[key])\n",
    "\n",
    "    # if the key is the birth weekday\n",
    "\n",
    "    #first add all distinct values into dictionary as keys\n",
    "    for a in distinct:\n",
    "        dic[a] = 0\n",
    "\n",
    "    #distinct in row as row[3], then adding all row[4]\n",
    "    for row in data:\n",
    "        for a in distinct:\n",
    "            if row[key] == a:\n",
    "                dic[a] += row[4]\n",
    "\n",
    "    return dic\n",
    "        \n"
   ]
  },
  {
   "cell_type": "code",
   "execution_count": 22,
   "metadata": {},
   "outputs": [
    {
     "data": {
      "text/plain": [
       "{1: 5072588,\n",
       " 2: 4725693,\n",
       " 3: 5172961,\n",
       " 4: 4960750,\n",
       " 5: 5195445,\n",
       " 6: 5163360,\n",
       " 7: 5450418,\n",
       " 8: 5540170,\n",
       " 9: 5399592,\n",
       " 10: 5302865,\n",
       " 11: 5008750,\n",
       " 12: 5194432}"
      ]
     },
     "execution_count": 22,
     "metadata": {},
     "output_type": "execute_result"
    }
   ],
   "source": [
    "aggregate(l, 1)"
   ]
  },
  {
   "cell_type": "markdown",
   "metadata": {},
   "source": [
    "* Write a function called ```print_stats``` that takes as its argument an aggregated data dictionary as returned by ```aggregate``` and prints it out as a nice table of key-value pairs, sorted by key.\n",
    "\n",
    "* Use the above two functions to compute and tabulate the total number of births in each year, on each day of the week, in each month and on each date of the month. Can you spot any interesting trends?\n",
    "\n",
    "**NOTE:** This is a slightly more complex exercise - you may not have the time to go beyond the warm-up part in class, but we recommend you attempt the rest in your own time. Be prepared for the second part to require some thinking. This exercise is also, like all exploratory data analysis tasks, very open-ended - if you want to do more, you can modify the ```histogram``` function to take a dictionary as its input, and use it to plot the percentage of people born on each day of the week, month or date of the month. You can also try analysing the data in the other birth data file, ```US_births_1994-2003_CDC_NCHS.csv```, that is formatted in the same way, and see if any trends you identified are confirmed in the longer term."
   ]
  },
  {
   "cell_type": "code",
   "execution_count": null,
   "metadata": {},
   "outputs": [],
   "source": [
    "def histogram(l):\n",
    "    for i in l:\n",
    "        print('*'*int(i))\n",
    "\n",
    "l = [9,3,4,4,2]\n",
    "histogram(l)"
   ]
  },
  {
   "cell_type": "code",
   "execution_count": null,
   "metadata": {},
   "outputs": [],
   "source": [
    "def print_stats():\n",
    "    #sorted by key\n",
    "\n",
    "    #use aggregate , tabulate the totsl number of birth each year, on each day of week, each monthm and on each date of month"
   ]
  }
 ],
 "metadata": {
  "kernelspec": {
   "display_name": "Python 3",
   "language": "python",
   "name": "python3"
  },
  "language_info": {
   "codemirror_mode": {
    "name": "ipython",
    "version": 3
   },
   "file_extension": ".py",
   "mimetype": "text/x-python",
   "name": "python",
   "nbconvert_exporter": "python",
   "pygments_lexer": "ipython3",
   "version": "3.12.1"
  }
 },
 "nbformat": 4,
 "nbformat_minor": 1
}
